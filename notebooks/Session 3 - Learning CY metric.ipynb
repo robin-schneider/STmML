{
 "cells": [
  {
   "cell_type": "markdown",
   "metadata": {},
   "source": [
    "# Session 3 - Learning CY metric\n",
    "\n",
    "In this session we will implement custom loss and training functions to learn numerical approximations of Calabi Yau metrics.\n",
    "\n",
    "There has [recently](https://arxiv.org/abs/1910.08605) been interest in using ML to approximate CY metrics. The authors, however, used a combination of conventional curve fitting and tree based methods. In this notebook, we will use neural networks to approximate (the determinant of) the metric."
   ]
  },
  {
   "cell_type": "code",
   "execution_count": 1,
   "metadata": {},
   "outputs": [],
   "source": [
    "import numpy as np\n",
    "import tensorflow as tf\n",
    "import itertools as it\n",
    "import matplotlib.pyplot as plt\n",
    "tfk = tf.keras"
   ]
  },
  {
   "cell_type": "markdown",
   "metadata": {},
   "source": [
    "## Loading the data\n",
    "\n",
    "I have prepared 100000 points on the fermats quintic\n",
    "\n",
    "$$\n",
    "Q = \\sum_i z_i^5 = 0\n",
    "$$\n",
    "\n",
    "The dataset also includes some integration weights\n",
    "\n",
    "$$\n",
    "w = 5^{-2} |z_j|^{-8} (\\det(i^*\\omega^{FS}_{\\mathbb{P}^4}))^{-1}\n",
    "$$\n",
    "\n",
    "and the evaluation of the holomorphic volume form at each point\n",
    "\n",
    "$$\n",
    "\\Omega \\wedge \\bar{\\Omega}|_{p_i} = 5^{-2} |z_j|^{-8}\n",
    "$$\n",
    "\n",
    "with coordinates $p = (1,z_j, x_1, x_2, x_3)$."
   ]
  },
  {
   "cell_type": "code",
   "execution_count": 2,
   "metadata": {},
   "outputs": [
    {
     "data": {
      "text/plain": [
       "(100000, 12)"
      ]
     },
     "execution_count": 2,
     "metadata": {},
     "output_type": "execute_result"
    }
   ],
   "source": [
    "fname = 'fermat_data.npy'\n",
    "point_weights_omega = np.load(fname)\n",
    "points = np.hstack([point_weights_omega['point'].real, point_weights_omega['point'].imag]) \n",
    "weights = point_weights_omega['weight'].reshape((-1,1))\n",
    "omega = point_weights_omega['omega'].reshape((-1,1))\n",
    "features = np.concatenate((points, weights, omega), axis=-1)\n",
    "features.shape"
   ]
  },
  {
   "cell_type": "code",
   "execution_count": 3,
   "metadata": {},
   "outputs": [],
   "source": [
    "np.random.shuffle(features)\n",
    "train_index = int(0.8 * len(features))\n",
    "x_train = features[0:train_index]\n",
    "y_train = x_train\n",
    "x_test = features[train_index:]\n",
    "y_test = x_test"
   ]
  },
  {
   "cell_type": "markdown",
   "metadata": {},
   "source": [
    "## Tensorflow Custom loss\n",
    "\n",
    "We will approximate the hermitian (nfold,nfold) metric with a neural network. First, we have to write a function that takes the 9 floating point outputs and puts them into a 3x3 hermitian matrix."
   ]
  },
  {
   "cell_type": "code",
   "execution_count": 4,
   "metadata": {},
   "outputs": [],
   "source": [
    "def to_hermitian(x):\n",
    "    t1 = tf.reshape(tf.complex(x, tf.zeros(9, dtype=tf.float32)), (3,3))\n",
    "    up = tf.linalg.band_part(t1, 0, -1)\n",
    "    low = tf.linalg.band_part(1j * t1, -1, 0)\n",
    "    out = up + tf.transpose(up) - tf.linalg.band_part(t1, 0, 0)\n",
    "    return out + low + tf.math.conj(tf.transpose(low))\n",
    "\n",
    "to_hermitian_batch = tf.function(lambda y_pred : tf.vectorized_map(to_hermitian, y_pred))"
   ]
  },
  {
   "cell_type": "markdown",
   "metadata": {},
   "source": [
    "Next we will have to think how to optimize our neural network.\n",
    "\n",
    "There are two scalar quantities, the sigma measure\n",
    "\n",
    "$$\n",
    "\\sigma  = \\frac{1}{N_t \\text{Vol}_\\text{CY}} \\sum_{i = 1}^{N_t} | 1 - \\frac{\\omega^3(p_i) / \\text{Vol}_\\text{K} }{ \\Omega(p_i) \\wedge \\bar{\\Omega(p_i)} / \\text{Vol}_\\text{CY}} | w_i\n",
    "$$\n",
    "\n",
    "and the ricci measure\n",
    "\n",
    "$$\n",
    "|| R ||  = \\frac{1}{N_t \\text{Vol}_\\text{CY}^{2/3}} \\sum_{i = 1}^{N_t}  \\frac{\\omega^3(p_i) }{ \\Omega(p_i) \\wedge \\bar{\\Omega(p_i)} } \\lvert R(p_i) \\rvert w_i\n",
    "$$\n",
    "\n",
    "where\n",
    "\n",
    "$$\n",
    "\t \\text{Vol}_\\text{CY} = \\frac{1}{N} \\sum_i^N w_i, \\qquad  \\text{Vol}_\\text{K} = \\frac{1}{N} \\sum_i^N \\frac{\\omega^3(p_i)}{\\Omega (p_i) \\wedge \\bar{\\Omega} (p_i) } w_i .\n",
    "$$\n",
    "\n",
    "Computing second order derivative is fairly expensive, thus we will stick to the sigma measure for this tutorial. (Note: There is an ambiguity with the absolute value in the sigma measure, which often results in ill defined metrics with neg det. We also won't check if they are in fact Ricci flat, but are only interested in the volume in this Notebook)"
   ]
  },
  {
   "cell_type": "code",
   "execution_count": 5,
   "metadata": {},
   "outputs": [],
   "source": [
    "def sigma_loss_batch(y, g):\n",
    "\n",
    "    bSize = tf.cast(tf.shape(y)[0], dtype=tf.float32)\n",
    "    g = to_hermitian_batch(g)\n",
    "    weights, omega = y[:,-2], y[:,-1]\n",
    "    volume_cy = tf.math.reduce_sum(weights, axis=-1) / bSize\n",
    "    det = tf.math.real(tf.linalg.det(g))\n",
    "    omega_over_omega = det / omega\n",
    "    vol_k = tf.math.reduce_sum(omega_over_omega * weights, axis=-1) / bSize\n",
    "    ratio = volume_cy / vol_k\n",
    "    sigma_integrand = tf.abs(tf.ones(tf.shape(omega_over_omega), dtype=tf.float32) - omega_over_omega * ratio) * weights\n",
    "    sigma = tf.math.reduce_sum(sigma_integrand) / (bSize * volume_cy)\n",
    "    return sigma * tf.ones(tf.shape(weights), dtype=tf.float32)\n"
   ]
  },
  {
   "cell_type": "markdown",
   "metadata": {},
   "source": [
    "## Bayesian optimization\n",
    "\n",
    "Let's give this a shot. We try BO using Gaussian Processes. Also check out the very nice notebooks [here (GP)](https://krasserm.github.io/2018/03/19/gaussian-processes/) and [here (BO using GP)](https://krasserm.github.io/2018/03/21/bayesian-optimization/).\n",
    "First we have to write a function that creates our model."
   ]
  },
  {
   "cell_type": "code",
   "execution_count": 6,
   "metadata": {},
   "outputs": [],
   "source": [
    "def make_model(act, nHidden, nlayer, lr=0.001, dropout=0.1,\n",
    "               l1l2 = 0.0001, alpha = 0.99, nfold = 3):\n",
    "    model = tf.keras.Sequential()\n",
    "    model.add(tfk.Input(shape=(12)))\n",
    "    for i in range(nlayer):\n",
    "        if act == 0:\n",
    "            model.add(tfk.layers.Dense(nHidden, activation='tanh',\n",
    "                                       kernel_regularizer=tfk.regularizers.l1_l2(l1=l1l2, l2=l1l2)))\n",
    "        else:\n",
    "            model.add(tfk.layers.Dense(nHidden, activation='relu',\n",
    "                                       kernel_regularizer=tfk.regularizers.l1_l2(l1=l1l2, l2=l1l2)))\n",
    "        model.add(tfk.layers.Dropout(dropout))\n",
    "    model.add(tfk.layers.Dense(nfold**2))\n",
    "    model.compile(optimizer=tfk.optimizers.SGD(learning_rate=lr, momentum=alpha), \n",
    "                    loss=sigma_loss_batch)\n",
    "    return model"
   ]
  },
  {
   "cell_type": "markdown",
   "metadata": {},
   "source": [
    "#### Gaussian process\n",
    "\n",
    "We use the package [BayesianOptimization](https://github.com/fmfn/BayesianOptimization), since we are lazy."
   ]
  },
  {
   "cell_type": "code",
   "execution_count": 7,
   "metadata": {},
   "outputs": [],
   "source": [
    "from bayes_opt import BayesianOptimization"
   ]
  },
  {
   "cell_type": "markdown",
   "metadata": {},
   "source": [
    "We need to define a function to maximize. Furthermore, BO, only works with floats. Hence, we have to round the categorical and integer choices. We start with accuracy function, the quantity we want to maximize."
   ]
  },
  {
   "cell_type": "code",
   "execution_count": 8,
   "metadata": {},
   "outputs": [],
   "source": [
    "def get_loss(act, nHidden, nlayer, lr=0.001, dropout=0.1, l1l2=0.0001,\n",
    "                 alpha = 0.99, nEpochs=10, bSize=32, verbose=0):\n",
    "    m = make_model(act, nHidden, nlayer, lr, dropout, l1l2, alpha)\n",
    "    # exception to catch ocassional tf error\n",
    "    try:\n",
    "        history = m.fit(x_train, y_train, epochs=nEpochs, batch_size=bSize,\n",
    "                   validation_data=(x_test, y_test), verbose=verbose)\n",
    "        loss = history.history['val_loss'][-1]\n",
    "    except Exception:\n",
    "        loss = 1\n",
    "        pass\n",
    "    return loss"
   ]
  },
  {
   "cell_type": "markdown",
   "metadata": {},
   "source": [
    "maximizing function"
   ]
  },
  {
   "cell_type": "code",
   "execution_count": 9,
   "metadata": {},
   "outputs": [],
   "source": [
    "def f(act, nHidden, nLayer, lr, dropout, l1l2, alpha, bSize, nEpochs=10):\n",
    "    # transform to ints\n",
    "    int_act = int(round(act))\n",
    "    int_nLayer = int(round(nLayer))\n",
    "    int_nHidden = int(round(nHidden))\n",
    "    int_bSize = int(round(bSize))\n",
    "    log_lr = np.power(10,lr)\n",
    "    log_l1l2 = np.power(10,l1l2)\n",
    "    loss = get_loss(int_act, int_nHidden, int_nLayer, log_lr,\n",
    "                       dropout, log_l1l2, alpha, nEpochs, int_bSize)\n",
    "    return 1-loss"
   ]
  },
  {
   "cell_type": "markdown",
   "metadata": {},
   "source": [
    "the optimizer"
   ]
  },
  {
   "cell_type": "code",
   "execution_count": 10,
   "metadata": {},
   "outputs": [],
   "source": [
    "new_optimizer = BayesianOptimization(\n",
    "    f = f,\n",
    "    pbounds={\"act\": (0,1), \"nHidden\": (32, 256), \"nLayer\": (1,4),\n",
    "             \"lr\": (-4, -1), \"dropout\": (0,0.5), \"l1l2\": (-6,-1),\n",
    "            \"alpha\": (0, 0.99), \"bSize\": (16,256)},\n",
    "    verbose=2,\n",
    "    random_state=7,\n",
    ")"
   ]
  },
  {
   "cell_type": "code",
   "execution_count": 11,
   "metadata": {},
   "outputs": [
    {
     "name": "stdout",
     "output_type": "stream",
     "text": [
      "|   iter    |  target   |    act    |   alpha   |   bSize   |  dropout  |   l1l2    |    lr     |  nHidden  |  nLayer   |\n",
      "-------------------------------------------------------------------------------------------------------------------------\n"
     ]
    },
    {
     "name": "stderr",
     "output_type": "stream",
     "text": [
      "/home/robin/anaconda3/lib/python3.6/site-packages/tensorflow/python/framework/indexed_slices.py:433: UserWarning: Converting sparse IndexedSlices to a dense Tensor of unknown shape. This may consume a large amount of memory.\n",
      "  \"Converting sparse IndexedSlices to a dense Tensor of unknown shape. \"\n"
     ]
    },
    {
     "name": "stdout",
     "output_type": "stream",
     "text": [
      "| \u001b[0m 1       \u001b[0m | \u001b[0m 0.692   \u001b[0m | \u001b[0m 0.07631 \u001b[0m | \u001b[0m 0.7721  \u001b[0m | \u001b[0m 121.2   \u001b[0m | \u001b[0m 0.3617  \u001b[0m | \u001b[0m-1.11    \u001b[0m | \u001b[0m-2.385   \u001b[0m | \u001b[0m 144.3   \u001b[0m | \u001b[0m 1.216   \u001b[0m |\n",
      "| \u001b[0m 2       \u001b[0m | \u001b[0m 0.5232  \u001b[0m | \u001b[0m 0.2684  \u001b[0m | \u001b[0m 0.4949  \u001b[0m | \u001b[0m 179.0   \u001b[0m | \u001b[0m 0.4019  \u001b[0m | \u001b[0m-4.095   \u001b[0m | \u001b[0m-3.802   \u001b[0m | \u001b[0m 96.54   \u001b[0m | \u001b[0m 3.729   \u001b[0m |\n",
      "| \u001b[95m 3       \u001b[0m | \u001b[95m 0.763   \u001b[0m | \u001b[95m 0.2134  \u001b[0m | \u001b[95m 0.4476  \u001b[0m | \u001b[95m 239.5   \u001b[0m | \u001b[95m 0.01245 \u001b[0m | \u001b[95m-2.997   \u001b[0m | \u001b[95m-1.15    \u001b[0m | \u001b[95m 83.59   \u001b[0m | \u001b[95m 2.645   \u001b[0m |\n",
      "| \u001b[0m 4       \u001b[0m | \u001b[0m-0.8765  \u001b[0m | \u001b[0m 0.9091  \u001b[0m | \u001b[0m 0.1318  \u001b[0m | \u001b[0m 141.6   \u001b[0m | \u001b[0m 0.3752  \u001b[0m | \u001b[0m-2.655   \u001b[0m | \u001b[0m-2.597   \u001b[0m | \u001b[0m 77.89   \u001b[0m | \u001b[0m 2.472   \u001b[0m |\n",
      "| \u001b[0m 5       \u001b[0m | \u001b[0m-0.4192  \u001b[0m | \u001b[0m 0.3724  \u001b[0m | \u001b[0m 0.4726  \u001b[0m | \u001b[0m 103.8   \u001b[0m | \u001b[0m 0.419   \u001b[0m | \u001b[0m-2.157   \u001b[0m | \u001b[0m-3.058   \u001b[0m | \u001b[0m 160.3   \u001b[0m | \u001b[0m 1.828   \u001b[0m |\n",
      "| \u001b[0m 6       \u001b[0m | \u001b[0m 0.1704  \u001b[0m | \u001b[0m 0.4528  \u001b[0m | \u001b[0m 0.3494  \u001b[0m | \u001b[0m 173.8   \u001b[0m | \u001b[0m 0.1852  \u001b[0m | \u001b[0m-3.705   \u001b[0m | \u001b[0m-1.842   \u001b[0m | \u001b[0m 124.5   \u001b[0m | \u001b[0m 3.719   \u001b[0m |\n",
      "| \u001b[0m 7       \u001b[0m | \u001b[0m 0.73    \u001b[0m | \u001b[0m 0.1805  \u001b[0m | \u001b[0m 0.7337  \u001b[0m | \u001b[0m 117.4   \u001b[0m | \u001b[0m 0.2132  \u001b[0m | \u001b[0m-2.828   \u001b[0m | \u001b[0m-2.431   \u001b[0m | \u001b[0m 124.9   \u001b[0m | \u001b[0m 1.004   \u001b[0m |\n",
      "| \u001b[0m 8       \u001b[0m | \u001b[0m 0.6823  \u001b[0m | \u001b[0m 0.09226 \u001b[0m | \u001b[0m 0.7023  \u001b[0m | \u001b[0m 141.8   \u001b[0m | \u001b[0m 0.3481  \u001b[0m | \u001b[0m-1.223   \u001b[0m | \u001b[0m-1.951   \u001b[0m | \u001b[0m 43.9    \u001b[0m | \u001b[0m 1.927   \u001b[0m |\n"
     ]
    },
    {
     "name": "stderr",
     "output_type": "stream",
     "text": [
      "/home/robin/anaconda3/lib/python3.6/site-packages/tensorflow/python/framework/indexed_slices.py:433: UserWarning: Converting sparse IndexedSlices to a dense Tensor of unknown shape. This may consume a large amount of memory.\n",
      "  \"Converting sparse IndexedSlices to a dense Tensor of unknown shape. \"\n"
     ]
    },
    {
     "name": "stdout",
     "output_type": "stream",
     "text": [
      "| \u001b[0m 9       \u001b[0m | \u001b[0m 0.7391  \u001b[0m | \u001b[0m 0.1301  \u001b[0m | \u001b[0m 0.7432  \u001b[0m | \u001b[0m 120.9   \u001b[0m | \u001b[0m 0.134   \u001b[0m | \u001b[0m-2.323   \u001b[0m | \u001b[0m-2.444   \u001b[0m | \u001b[0m 143.4   \u001b[0m | \u001b[0m 1.407   \u001b[0m |\n"
     ]
    },
    {
     "name": "stderr",
     "output_type": "stream",
     "text": [
      "/home/robin/anaconda3/lib/python3.6/site-packages/tensorflow/python/framework/indexed_slices.py:433: UserWarning: Converting sparse IndexedSlices to a dense Tensor of unknown shape. This may consume a large amount of memory.\n",
      "  \"Converting sparse IndexedSlices to a dense Tensor of unknown shape. \"\n"
     ]
    },
    {
     "name": "stdout",
     "output_type": "stream",
     "text": [
      "| \u001b[0m 10      \u001b[0m | \u001b[0m 0.1934  \u001b[0m | \u001b[0m 1.0     \u001b[0m | \u001b[0m 0.6565  \u001b[0m | \u001b[0m 135.9   \u001b[0m | \u001b[0m 0.0     \u001b[0m | \u001b[0m-6.0     \u001b[0m | \u001b[0m-4.0     \u001b[0m | \u001b[0m 133.3   \u001b[0m | \u001b[0m 4.0     \u001b[0m |\n"
     ]
    },
    {
     "name": "stderr",
     "output_type": "stream",
     "text": [
      "/home/robin/anaconda3/lib/python3.6/site-packages/tensorflow/python/framework/indexed_slices.py:433: UserWarning: Converting sparse IndexedSlices to a dense Tensor of unknown shape. This may consume a large amount of memory.\n",
      "  \"Converting sparse IndexedSlices to a dense Tensor of unknown shape. \"\n"
     ]
    },
    {
     "name": "stdout",
     "output_type": "stream",
     "text": [
      "| \u001b[0m 11      \u001b[0m | \u001b[0m 0.2937  \u001b[0m | \u001b[0m 0.2455  \u001b[0m | \u001b[0m 0.4782  \u001b[0m | \u001b[0m 221.8   \u001b[0m | \u001b[0m 0.1348  \u001b[0m | \u001b[0m-3.341   \u001b[0m | \u001b[0m-1.957   \u001b[0m | \u001b[0m 87.07   \u001b[0m | \u001b[0m 2.97    \u001b[0m |\n"
     ]
    },
    {
     "name": "stderr",
     "output_type": "stream",
     "text": [
      "/home/robin/anaconda3/lib/python3.6/site-packages/tensorflow/python/framework/indexed_slices.py:433: UserWarning: Converting sparse IndexedSlices to a dense Tensor of unknown shape. This may consume a large amount of memory.\n",
      "  \"Converting sparse IndexedSlices to a dense Tensor of unknown shape. \"\n"
     ]
    },
    {
     "name": "stdout",
     "output_type": "stream",
     "text": [
      "| \u001b[0m 12      \u001b[0m | \u001b[0m 0.7624  \u001b[0m | \u001b[0m 0.1476  \u001b[0m | \u001b[0m 0.4631  \u001b[0m | \u001b[0m 255.7   \u001b[0m | \u001b[0m 0.0     \u001b[0m | \u001b[0m-2.702   \u001b[0m | \u001b[0m-1.0     \u001b[0m | \u001b[0m 80.44   \u001b[0m | \u001b[0m 2.225   \u001b[0m |\n"
     ]
    },
    {
     "name": "stderr",
     "output_type": "stream",
     "text": [
      "/home/robin/anaconda3/lib/python3.6/site-packages/tensorflow/python/framework/indexed_slices.py:433: UserWarning: Converting sparse IndexedSlices to a dense Tensor of unknown shape. This may consume a large amount of memory.\n",
      "  \"Converting sparse IndexedSlices to a dense Tensor of unknown shape. \"\n"
     ]
    },
    {
     "name": "stdout",
     "output_type": "stream",
     "text": [
      "| \u001b[0m 13      \u001b[0m | \u001b[0m 0.6639  \u001b[0m | \u001b[0m 0.8017  \u001b[0m | \u001b[0m 0.6419  \u001b[0m | \u001b[0m 253.2   \u001b[0m | \u001b[0m 0.4277  \u001b[0m | \u001b[0m-1.863   \u001b[0m | \u001b[0m-1.173   \u001b[0m | \u001b[0m 99.05   \u001b[0m | \u001b[0m 1.894   \u001b[0m |\n"
     ]
    },
    {
     "name": "stderr",
     "output_type": "stream",
     "text": [
      "/home/robin/anaconda3/lib/python3.6/site-packages/tensorflow/python/framework/indexed_slices.py:433: UserWarning: Converting sparse IndexedSlices to a dense Tensor of unknown shape. This may consume a large amount of memory.\n",
      "  \"Converting sparse IndexedSlices to a dense Tensor of unknown shape. \"\n"
     ]
    },
    {
     "name": "stdout",
     "output_type": "stream",
     "text": [
      "| \u001b[0m 14      \u001b[0m | \u001b[0m 0.7145  \u001b[0m | \u001b[0m 0.08894 \u001b[0m | \u001b[0m 0.4669  \u001b[0m | \u001b[0m 244.7   \u001b[0m | \u001b[0m 0.142   \u001b[0m | \u001b[0m-4.425   \u001b[0m | \u001b[0m-1.158   \u001b[0m | \u001b[0m 62.57   \u001b[0m | \u001b[0m 3.725   \u001b[0m |\n"
     ]
    },
    {
     "name": "stderr",
     "output_type": "stream",
     "text": [
      "/home/robin/anaconda3/lib/python3.6/site-packages/tensorflow/python/framework/indexed_slices.py:433: UserWarning: Converting sparse IndexedSlices to a dense Tensor of unknown shape. This may consume a large amount of memory.\n",
      "  \"Converting sparse IndexedSlices to a dense Tensor of unknown shape. \"\n"
     ]
    },
    {
     "name": "stdout",
     "output_type": "stream",
     "text": [
      "| \u001b[0m 15      \u001b[0m | \u001b[0m-36.4    \u001b[0m | \u001b[0m 0.0     \u001b[0m | \u001b[0m 0.99    \u001b[0m | \u001b[0m 160.7   \u001b[0m | \u001b[0m 0.07662 \u001b[0m | \u001b[0m-1.0     \u001b[0m | \u001b[0m-1.0     \u001b[0m | \u001b[0m 32.0    \u001b[0m | \u001b[0m 1.0     \u001b[0m |\n"
     ]
    },
    {
     "name": "stderr",
     "output_type": "stream",
     "text": [
      "/home/robin/anaconda3/lib/python3.6/site-packages/tensorflow/python/framework/indexed_slices.py:433: UserWarning: Converting sparse IndexedSlices to a dense Tensor of unknown shape. This may consume a large amount of memory.\n",
      "  \"Converting sparse IndexedSlices to a dense Tensor of unknown shape. \"\n"
     ]
    },
    {
     "name": "stdout",
     "output_type": "stream",
     "text": [
      "| \u001b[0m 16      \u001b[0m | \u001b[0m 0.7416  \u001b[0m | \u001b[0m 0.05967 \u001b[0m | \u001b[0m 0.4901  \u001b[0m | \u001b[0m 122.1   \u001b[0m | \u001b[0m 0.5     \u001b[0m | \u001b[0m-1.235   \u001b[0m | \u001b[0m-2.852   \u001b[0m | \u001b[0m 51.19   \u001b[0m | \u001b[0m 2.816   \u001b[0m |\n"
     ]
    },
    {
     "name": "stderr",
     "output_type": "stream",
     "text": [
      "/home/robin/anaconda3/lib/python3.6/site-packages/tensorflow/python/framework/indexed_slices.py:433: UserWarning: Converting sparse IndexedSlices to a dense Tensor of unknown shape. This may consume a large amount of memory.\n",
      "  \"Converting sparse IndexedSlices to a dense Tensor of unknown shape. \"\n"
     ]
    },
    {
     "name": "stdout",
     "output_type": "stream",
     "text": [
      "| \u001b[0m 17      \u001b[0m | \u001b[0m 0.187   \u001b[0m | \u001b[0m 1.0     \u001b[0m | \u001b[0m 0.99    \u001b[0m | \u001b[0m 207.3   \u001b[0m | \u001b[0m 0.5     \u001b[0m | \u001b[0m-6.0     \u001b[0m | \u001b[0m-4.0     \u001b[0m | \u001b[0m 118.0   \u001b[0m | \u001b[0m 1.0     \u001b[0m |\n"
     ]
    },
    {
     "name": "stderr",
     "output_type": "stream",
     "text": [
      "/home/robin/anaconda3/lib/python3.6/site-packages/tensorflow/python/framework/indexed_slices.py:433: UserWarning: Converting sparse IndexedSlices to a dense Tensor of unknown shape. This may consume a large amount of memory.\n",
      "  \"Converting sparse IndexedSlices to a dense Tensor of unknown shape. \"\n"
     ]
    },
    {
     "name": "stdout",
     "output_type": "stream",
     "text": [
      "| \u001b[0m 18      \u001b[0m | \u001b[0m 0.7519  \u001b[0m | \u001b[0m 0.07467 \u001b[0m | \u001b[0m 0.89    \u001b[0m | \u001b[0m 241.4   \u001b[0m | \u001b[0m 0.3456  \u001b[0m | \u001b[0m-5.496   \u001b[0m | \u001b[0m-1.804   \u001b[0m | \u001b[0m 130.1   \u001b[0m | \u001b[0m 3.06    \u001b[0m |\n"
     ]
    },
    {
     "name": "stderr",
     "output_type": "stream",
     "text": [
      "/home/robin/anaconda3/lib/python3.6/site-packages/tensorflow/python/framework/indexed_slices.py:433: UserWarning: Converting sparse IndexedSlices to a dense Tensor of unknown shape. This may consume a large amount of memory.\n",
      "  \"Converting sparse IndexedSlices to a dense Tensor of unknown shape. \"\n"
     ]
    },
    {
     "name": "stdout",
     "output_type": "stream",
     "text": [
      "| \u001b[0m 19      \u001b[0m | \u001b[0m-34.42   \u001b[0m | \u001b[0m 0.0     \u001b[0m | \u001b[0m 0.0     \u001b[0m | \u001b[0m 216.3   \u001b[0m | \u001b[0m 0.0     \u001b[0m | \u001b[0m-1.0     \u001b[0m | \u001b[0m-1.0     \u001b[0m | \u001b[0m 150.2   \u001b[0m | \u001b[0m 4.0     \u001b[0m |\n"
     ]
    },
    {
     "name": "stderr",
     "output_type": "stream",
     "text": [
      "/home/robin/anaconda3/lib/python3.6/site-packages/tensorflow/python/framework/indexed_slices.py:433: UserWarning: Converting sparse IndexedSlices to a dense Tensor of unknown shape. This may consume a large amount of memory.\n",
      "  \"Converting sparse IndexedSlices to a dense Tensor of unknown shape. \"\n"
     ]
    },
    {
     "name": "stdout",
     "output_type": "stream",
     "text": [
      "| \u001b[0m 20      \u001b[0m | \u001b[0m 0.5679  \u001b[0m | \u001b[0m 1.0     \u001b[0m | \u001b[0m 0.99    \u001b[0m | \u001b[0m 82.09   \u001b[0m | \u001b[0m 0.5     \u001b[0m | \u001b[0m-1.0     \u001b[0m | \u001b[0m-4.0     \u001b[0m | \u001b[0m 129.7   \u001b[0m | \u001b[0m 4.0     \u001b[0m |\n"
     ]
    },
    {
     "name": "stderr",
     "output_type": "stream",
     "text": [
      "/home/robin/anaconda3/lib/python3.6/site-packages/tensorflow/python/framework/indexed_slices.py:433: UserWarning: Converting sparse IndexedSlices to a dense Tensor of unknown shape. This may consume a large amount of memory.\n",
      "  \"Converting sparse IndexedSlices to a dense Tensor of unknown shape. \"\n"
     ]
    },
    {
     "name": "stdout",
     "output_type": "stream",
     "text": [
      "| \u001b[0m 21      \u001b[0m | \u001b[0m 0.7496  \u001b[0m | \u001b[0m 0.3112  \u001b[0m | \u001b[0m 0.3662  \u001b[0m | \u001b[0m 94.4    \u001b[0m | \u001b[0m 0.1899  \u001b[0m | \u001b[0m-1.518   \u001b[0m | \u001b[0m-3.16    \u001b[0m | \u001b[0m 95.74   \u001b[0m | \u001b[0m 2.924   \u001b[0m |\n"
     ]
    },
    {
     "name": "stderr",
     "output_type": "stream",
     "text": [
      "/home/robin/anaconda3/lib/python3.6/site-packages/tensorflow/python/framework/indexed_slices.py:433: UserWarning: Converting sparse IndexedSlices to a dense Tensor of unknown shape. This may consume a large amount of memory.\n",
      "  \"Converting sparse IndexedSlices to a dense Tensor of unknown shape. \"\n"
     ]
    },
    {
     "name": "stdout",
     "output_type": "stream",
     "text": [
      "| \u001b[0m 22      \u001b[0m | \u001b[0m 0.2969  \u001b[0m | \u001b[0m 0.0     \u001b[0m | \u001b[0m 0.0     \u001b[0m | \u001b[0m 61.79   \u001b[0m | \u001b[0m 0.0     \u001b[0m | \u001b[0m-6.0     \u001b[0m | \u001b[0m-1.0     \u001b[0m | \u001b[0m 102.3   \u001b[0m | \u001b[0m 1.0     \u001b[0m |\n"
     ]
    },
    {
     "name": "stderr",
     "output_type": "stream",
     "text": [
      "/home/robin/anaconda3/lib/python3.6/site-packages/tensorflow/python/framework/indexed_slices.py:433: UserWarning: Converting sparse IndexedSlices to a dense Tensor of unknown shape. This may consume a large amount of memory.\n",
      "  \"Converting sparse IndexedSlices to a dense Tensor of unknown shape. \"\n"
     ]
    },
    {
     "name": "stdout",
     "output_type": "stream",
     "text": [
      "| \u001b[0m 23      \u001b[0m | \u001b[0m 0.0     \u001b[0m | \u001b[0m 1.0     \u001b[0m | \u001b[0m 0.99    \u001b[0m | \u001b[0m 73.51   \u001b[0m | \u001b[0m 0.0     \u001b[0m | \u001b[0m-6.0     \u001b[0m | \u001b[0m-4.0     \u001b[0m | \u001b[0m 69.46   \u001b[0m | \u001b[0m 4.0     \u001b[0m |\n"
     ]
    },
    {
     "name": "stderr",
     "output_type": "stream",
     "text": [
      "/home/robin/anaconda3/lib/python3.6/site-packages/tensorflow/python/framework/indexed_slices.py:433: UserWarning: Converting sparse IndexedSlices to a dense Tensor of unknown shape. This may consume a large amount of memory.\n",
      "  \"Converting sparse IndexedSlices to a dense Tensor of unknown shape. \"\n"
     ]
    },
    {
     "name": "stdout",
     "output_type": "stream",
     "text": [
      "| \u001b[0m 24      \u001b[0m | \u001b[0m 0.7411  \u001b[0m | \u001b[0m 0.0     \u001b[0m | \u001b[0m 0.0     \u001b[0m | \u001b[0m 49.04   \u001b[0m | \u001b[0m 0.0     \u001b[0m | \u001b[0m-6.0     \u001b[0m | \u001b[0m-1.0     \u001b[0m | \u001b[0m 135.7   \u001b[0m | \u001b[0m 1.0     \u001b[0m |\n"
     ]
    },
    {
     "name": "stderr",
     "output_type": "stream",
     "text": [
      "/home/robin/anaconda3/lib/python3.6/site-packages/tensorflow/python/framework/indexed_slices.py:433: UserWarning: Converting sparse IndexedSlices to a dense Tensor of unknown shape. This may consume a large amount of memory.\n",
      "  \"Converting sparse IndexedSlices to a dense Tensor of unknown shape. \"\n"
     ]
    },
    {
     "name": "stdout",
     "output_type": "stream",
     "text": [
      "| \u001b[0m 25      \u001b[0m | \u001b[0m 0.3974  \u001b[0m | \u001b[0m 0.8831  \u001b[0m | \u001b[0m 0.9339  \u001b[0m | \u001b[0m 64.94   \u001b[0m | \u001b[0m 0.1793  \u001b[0m | \u001b[0m-1.862   \u001b[0m | \u001b[0m-1.623   \u001b[0m | \u001b[0m 162.5   \u001b[0m | \u001b[0m 3.312   \u001b[0m |\n"
     ]
    },
    {
     "name": "stderr",
     "output_type": "stream",
     "text": [
      "/home/robin/anaconda3/lib/python3.6/site-packages/tensorflow/python/framework/indexed_slices.py:433: UserWarning: Converting sparse IndexedSlices to a dense Tensor of unknown shape. This may consume a large amount of memory.\n",
      "  \"Converting sparse IndexedSlices to a dense Tensor of unknown shape. \"\n"
     ]
    },
    {
     "name": "stdout",
     "output_type": "stream",
     "text": [
      "| \u001b[0m 26      \u001b[0m | \u001b[0m 0.4732  \u001b[0m | \u001b[0m 1.0     \u001b[0m | \u001b[0m 0.99    \u001b[0m | \u001b[0m 31.05   \u001b[0m | \u001b[0m 0.5     \u001b[0m | \u001b[0m-1.0     \u001b[0m | \u001b[0m-4.0     \u001b[0m | \u001b[0m 162.6   \u001b[0m | \u001b[0m 4.0     \u001b[0m |\n"
     ]
    },
    {
     "name": "stderr",
     "output_type": "stream",
     "text": [
      "/home/robin/anaconda3/lib/python3.6/site-packages/tensorflow/python/framework/indexed_slices.py:433: UserWarning: Converting sparse IndexedSlices to a dense Tensor of unknown shape. This may consume a large amount of memory.\n",
      "  \"Converting sparse IndexedSlices to a dense Tensor of unknown shape. \"\n"
     ]
    },
    {
     "name": "stdout",
     "output_type": "stream",
     "text": [
      "| \u001b[0m 27      \u001b[0m | \u001b[0m 0.5822  \u001b[0m | \u001b[0m 1.0     \u001b[0m | \u001b[0m 0.99    \u001b[0m | \u001b[0m 17.33   \u001b[0m | \u001b[0m 0.5     \u001b[0m | \u001b[0m-1.0     \u001b[0m | \u001b[0m-4.0     \u001b[0m | \u001b[0m 131.6   \u001b[0m | \u001b[0m 4.0     \u001b[0m |\n"
     ]
    },
    {
     "name": "stderr",
     "output_type": "stream",
     "text": [
      "/home/robin/anaconda3/lib/python3.6/site-packages/tensorflow/python/framework/indexed_slices.py:433: UserWarning: Converting sparse IndexedSlices to a dense Tensor of unknown shape. This may consume a large amount of memory.\n",
      "  \"Converting sparse IndexedSlices to a dense Tensor of unknown shape. \"\n"
     ]
    },
    {
     "name": "stdout",
     "output_type": "stream",
     "text": [
      "| \u001b[95m 28      \u001b[0m | \u001b[95m 0.7701  \u001b[0m | \u001b[95m 0.03422 \u001b[0m | \u001b[95m 0.5454  \u001b[0m | \u001b[95m 28.45   \u001b[0m | \u001b[95m 0.07031 \u001b[0m | \u001b[95m-3.917   \u001b[0m | \u001b[95m-1.54    \u001b[0m | \u001b[95m 101.8   \u001b[0m | \u001b[95m 1.031   \u001b[0m |\n"
     ]
    },
    {
     "name": "stderr",
     "output_type": "stream",
     "text": [
      "/home/robin/anaconda3/lib/python3.6/site-packages/tensorflow/python/framework/indexed_slices.py:433: UserWarning: Converting sparse IndexedSlices to a dense Tensor of unknown shape. This may consume a large amount of memory.\n",
      "  \"Converting sparse IndexedSlices to a dense Tensor of unknown shape. \"\n"
     ]
    },
    {
     "name": "stdout",
     "output_type": "stream",
     "text": [
      "| \u001b[0m 29      \u001b[0m | \u001b[0m 0.7654  \u001b[0m | \u001b[0m 0.2443  \u001b[0m | \u001b[0m 0.6109  \u001b[0m | \u001b[0m 41.9    \u001b[0m | \u001b[0m 0.2672  \u001b[0m | \u001b[0m-5.908   \u001b[0m | \u001b[0m-2.052   \u001b[0m | \u001b[0m 73.28   \u001b[0m | \u001b[0m 2.825   \u001b[0m |\n"
     ]
    },
    {
     "name": "stderr",
     "output_type": "stream",
     "text": [
      "/home/robin/anaconda3/lib/python3.6/site-packages/tensorflow/python/framework/indexed_slices.py:433: UserWarning: Converting sparse IndexedSlices to a dense Tensor of unknown shape. This may consume a large amount of memory.\n",
      "  \"Converting sparse IndexedSlices to a dense Tensor of unknown shape. \"\n"
     ]
    },
    {
     "name": "stdout",
     "output_type": "stream",
     "text": [
      "| \u001b[0m 30      \u001b[0m | \u001b[0m 0.1894  \u001b[0m | \u001b[0m 0.0     \u001b[0m | \u001b[0m 0.0     \u001b[0m | \u001b[0m 47.55   \u001b[0m | \u001b[0m 0.0     \u001b[0m | \u001b[0m-6.0     \u001b[0m | \u001b[0m-1.0     \u001b[0m | \u001b[0m 191.3   \u001b[0m | \u001b[0m 1.0     \u001b[0m |\n",
      "=========================================================================================================================\n"
     ]
    }
   ],
   "source": [
    "new_optimizer.maximize(\n",
    "    init_points=8,\n",
    "    n_iter=22,\n",
    ")"
   ]
  },
  {
   "cell_type": "markdown",
   "metadata": {},
   "source": [
    "### A surprisingly good model\n",
    "\n",
    "Here are some hyperparameters, which I found (using BOHB) to work really well when studying this problem. In fact there are many well working combinations. In general any kind of strong regularisation tends to bring the NN to some undesired fixpoint. Some rule of thumbs, have the NN either sufficient deep or wide, ReLU seems to outperform tanh and Adam works better than standard SGD."
   ]
  },
  {
   "cell_type": "code",
   "execution_count": 12,
   "metadata": {},
   "outputs": [],
   "source": [
    "nlayer = 4\n",
    "nHidden = 256\n",
    "act = 1\n",
    "#lr = 0.0001\n",
    "#alpha = 0.0\n",
    "nfold = 3\n",
    "nEpochs = 30\n",
    "bSize = 64"
   ]
  },
  {
   "cell_type": "code",
   "execution_count": 13,
   "metadata": {},
   "outputs": [
    {
     "name": "stdout",
     "output_type": "stream",
     "text": [
      "Model: \"sequential_30\"\n",
      "_________________________________________________________________\n",
      "Layer (type)                 Output Shape              Param #   \n",
      "=================================================================\n",
      "dense_106 (Dense)            (None, 256)               3328      \n",
      "_________________________________________________________________\n",
      "dense_107 (Dense)            (None, 256)               65792     \n",
      "_________________________________________________________________\n",
      "dense_108 (Dense)            (None, 256)               65792     \n",
      "_________________________________________________________________\n",
      "dense_109 (Dense)            (None, 256)               65792     \n",
      "_________________________________________________________________\n",
      "dense_110 (Dense)            (None, 9)                 2313      \n",
      "=================================================================\n",
      "Total params: 203,017\n",
      "Trainable params: 203,017\n",
      "Non-trainable params: 0\n",
      "_________________________________________________________________\n"
     ]
    }
   ],
   "source": [
    "model = tf.keras.Sequential()\n",
    "model.add(tfk.Input(shape=(12)))\n",
    "for i in range(nlayer):\n",
    "    if act == 0:\n",
    "        model.add(tfk.layers.Dense(nHidden, activation='tanh'))\n",
    "    else:\n",
    "        model.add(tfk.layers.Dense(nHidden, activation='relu'))\n",
    "model.add(tfk.layers.Dense(nfold**2))\n",
    "model.compile(optimizer=tfk.optimizers.Adam(), \n",
    "                loss=sigma_loss_batch)\n",
    "model.summary()"
   ]
  },
  {
   "cell_type": "code",
   "execution_count": 14,
   "metadata": {},
   "outputs": [
    {
     "name": "stdout",
     "output_type": "stream",
     "text": [
      "Epoch 1/30\n",
      "1250/1250 [==============================] - 3s 2ms/step - loss: 0.7602 - val_loss: 0.5015\n",
      "Epoch 2/30\n",
      "1250/1250 [==============================] - 3s 2ms/step - loss: 0.1429 - val_loss: 0.0644\n",
      "Epoch 3/30\n",
      "1250/1250 [==============================] - 3s 2ms/step - loss: 0.0477 - val_loss: 0.0479\n",
      "Epoch 4/30\n",
      "1250/1250 [==============================] - 3s 2ms/step - loss: 0.0417 - val_loss: 0.0396\n",
      "Epoch 5/30\n",
      "1250/1250 [==============================] - 3s 2ms/step - loss: 0.0384 - val_loss: 0.0431\n",
      "Epoch 6/30\n",
      "1250/1250 [==============================] - 3s 2ms/step - loss: 0.0376 - val_loss: 0.0328\n",
      "Epoch 7/30\n",
      "1250/1250 [==============================] - 3s 2ms/step - loss: 0.0369 - val_loss: 0.0328\n",
      "Epoch 8/30\n",
      "1250/1250 [==============================] - 3s 2ms/step - loss: 0.0345 - val_loss: 0.0322\n",
      "Epoch 9/30\n",
      "1250/1250 [==============================] - 3s 2ms/step - loss: 0.0346 - val_loss: 0.0368\n",
      "Epoch 10/30\n",
      "1250/1250 [==============================] - 3s 2ms/step - loss: 0.0340 - val_loss: 0.0354\n",
      "Epoch 11/30\n",
      "1250/1250 [==============================] - 3s 2ms/step - loss: 0.0334 - val_loss: 0.0324\n",
      "Epoch 12/30\n",
      "1250/1250 [==============================] - 3s 2ms/step - loss: 0.0310 - val_loss: 0.0258\n",
      "Epoch 13/30\n",
      "1250/1250 [==============================] - 3s 2ms/step - loss: 0.0210 - val_loss: 0.0101\n",
      "Epoch 14/30\n",
      "1250/1250 [==============================] - 3s 2ms/step - loss: 0.0126 - val_loss: 0.0078\n",
      "Epoch 15/30\n",
      "1250/1250 [==============================] - 3s 2ms/step - loss: 0.0104 - val_loss: 0.0117\n",
      "Epoch 16/30\n",
      "1250/1250 [==============================] - 3s 2ms/step - loss: 0.0100 - val_loss: 0.0072\n",
      "Epoch 17/30\n",
      "1250/1250 [==============================] - 3s 2ms/step - loss: 0.0092 - val_loss: 0.0068\n",
      "Epoch 18/30\n",
      "1250/1250 [==============================] - 3s 2ms/step - loss: 0.0094 - val_loss: 0.0111\n",
      "Epoch 19/30\n",
      "1250/1250 [==============================] - 3s 2ms/step - loss: 0.0088 - val_loss: 0.0054\n",
      "Epoch 20/30\n",
      "1250/1250 [==============================] - 3s 3ms/step - loss: 0.0084 - val_loss: 0.0065\n",
      "Epoch 21/30\n",
      "1250/1250 [==============================] - 3s 2ms/step - loss: 0.0083 - val_loss: 0.0060\n",
      "Epoch 22/30\n",
      "1250/1250 [==============================] - 3s 3ms/step - loss: 0.0080 - val_loss: 0.0051\n",
      "Epoch 23/30\n",
      "1250/1250 [==============================] - 3s 2ms/step - loss: 0.0076 - val_loss: 0.0116\n",
      "Epoch 24/30\n",
      "1250/1250 [==============================] - 3s 2ms/step - loss: 0.0084 - val_loss: 0.0078\n",
      "Epoch 25/30\n",
      "1250/1250 [==============================] - 3s 2ms/step - loss: 0.0086 - val_loss: 0.0056\n",
      "Epoch 26/30\n",
      "1250/1250 [==============================] - 3s 2ms/step - loss: 0.0077 - val_loss: 0.0134\n",
      "Epoch 27/30\n",
      "1250/1250 [==============================] - 3s 2ms/step - loss: 0.0071 - val_loss: 0.0091\n",
      "Epoch 28/30\n",
      "1250/1250 [==============================] - 3s 2ms/step - loss: 0.0072 - val_loss: 0.0066\n",
      "Epoch 29/30\n",
      "1250/1250 [==============================] - 3s 2ms/step - loss: 0.0075 - val_loss: 0.0046\n",
      "Epoch 30/30\n",
      "1250/1250 [==============================] - 3s 2ms/step - loss: 0.0076 - val_loss: 0.0162\n"
     ]
    }
   ],
   "source": [
    "history = model.fit(x_train, y_train, epochs=nEpochs, batch_size=bSize,\n",
    "                   validation_data=(x_test, y_test), verbose=1)"
   ]
  },
  {
   "cell_type": "markdown",
   "metadata": {},
   "source": [
    "## Literature comparison\n",
    "\n",
    "Here are a couple of values from the literature using tree based methods and the classical Donaldson algorithm. The values are taken from [here](https://arxiv.org/abs/1910.08605)."
   ]
  },
  {
   "cell_type": "markdown",
   "metadata": {},
   "source": [
    "literature comparison"
   ]
  },
  {
   "cell_type": "code",
   "execution_count": 15,
   "metadata": {},
   "outputs": [],
   "source": [
    "donaldson_sigma = [0.37, 0.27, 0.19, 0.13, 0.091, 0.066, 0.051, 0.04, 0.032, 0.027, 0.023, 0.02]\n",
    "donaldson_time = [0.37, 0.8, 1.9, 9.5, 38, 170, 720, 2500, 8200, 24000, 67000, 180000]"
   ]
  },
  {
   "cell_type": "code",
   "execution_count": 16,
   "metadata": {},
   "outputs": [],
   "source": [
    "tree_sigma = donaldson_sigma[0:7]+[0.041, 0.034, 0.029, 0.026, 0.024, 0.021, 0.021]"
   ]
  },
  {
   "cell_type": "markdown",
   "metadata": {},
   "source": [
    "first let us compare parameters"
   ]
  },
  {
   "cell_type": "code",
   "execution_count": 17,
   "metadata": {},
   "outputs": [],
   "source": [
    "from pyCICY import CICY"
   ]
  },
  {
   "cell_type": "code",
   "execution_count": 18,
   "metadata": {},
   "outputs": [],
   "source": [
    "Fermat = CICY([[4,5]])"
   ]
  },
  {
   "cell_type": "markdown",
   "metadata": {},
   "source": [
    "number of parameters learned for given k"
   ]
  },
  {
   "cell_type": "code",
   "execution_count": 19,
   "metadata": {},
   "outputs": [],
   "source": [
    "def para(Q, k):\n",
    "    deg = Q.line_co_euler([k for _ in range(Q.len)])\n",
    "    return deg**2"
   ]
  },
  {
   "cell_type": "code",
   "execution_count": 20,
   "metadata": {},
   "outputs": [
    {
     "data": {
      "text/plain": [
       "765625.0"
      ]
     },
     "execution_count": 20,
     "metadata": {},
     "output_type": "execute_result"
    }
   ],
   "source": [
    "para(Fermat, 10)"
   ]
  },
  {
   "cell_type": "markdown",
   "metadata": {},
   "source": [
    "make some plots"
   ]
  },
  {
   "cell_type": "code",
   "execution_count": 21,
   "metadata": {},
   "outputs": [
    {
     "data": {
      "text/plain": [
       "Text(0,0.5,'sigma')"
      ]
     },
     "execution_count": 21,
     "metadata": {},
     "output_type": "execute_result"
    },
    {
     "data": {
      "image/png": "[encoded data removed]",
      "text/plain": [
       "<matplotlib.figure.Figure at 0x7f13d7999908>"
      ]
     },
     "metadata": {
      "needs_background": "light"
     },
     "output_type": "display_data"
    }
   ],
   "source": [
    "plt.plot(range(len(donaldson_sigma)), donaldson_sigma)\n",
    "plt.xlabel('k')\n",
    "plt.ylabel('sigma')"
   ]
  },
  {
   "cell_type": "markdown",
   "metadata": {},
   "source": [
    "compare time efficiency donaldson vs neural network"
   ]
  },
  {
   "cell_type": "code",
   "execution_count": 22,
   "metadata": {},
   "outputs": [],
   "source": [
    "# read out from above\n",
    "average_t = 3"
   ]
  },
  {
   "cell_type": "code",
   "execution_count": 23,
   "metadata": {},
   "outputs": [
    {
     "data": {
      "text/plain": [
       "<matplotlib.legend.Legend at 0x7f13d783b828>"
      ]
     },
     "execution_count": 23,
     "metadata": {},
     "output_type": "execute_result"
    },
    {
     "data": {
      "image/png": "[encoded data removed]",
      "text/plain": [
       "<matplotlib.figure.Figure at 0x7f13d78f5e48>"
      ]
     },
     "metadata": {
      "needs_background": "light"
     },
     "output_type": "display_data"
    }
   ],
   "source": [
    "plt.plot(donaldson_time, donaldson_sigma, color='blue', label='donald')\n",
    "plt.plot(np.arange(3, average_t*(nEpochs+1), average_t), history.history['val_loss'], color='red', label='NN')\n",
    "plt.xlabel('seconds')\n",
    "plt.xlim([-1, average_t*nEpochs + 10])\n",
    "plt.ylabel('sigma')\n",
    "plt.legend(loc='best')"
   ]
  },
  {
   "cell_type": "markdown",
   "metadata": {},
   "source": [
    "## Exercises\n",
    "\n",
    "ML:\n",
    "1. Try more hyperparameters.\n",
    "2. Implement your own grid search.\n",
    "3. Implement your own random search.\n",
    "\n",
    "BO:\n",
    "1. Use [TPE](https://github.com/hyperopt/hyperopt) or [Hyperband](https://arxiv.org/abs/1603.06560) (some [implementation](https://docs.ray.io/en/latest/tune/api_docs/schedulers.html?highlight=hyperband#hyperband-tune-schedulers-hyperbandscheduler)) or [BOHB](https://github.com/automl/HpBandSter) to further tune hyperparameters.\n",
    "2. Don't work too much on this. I'm hoping to get some results published at some point :)"
   ]
  }
 ],
 "metadata": {
  "kernelspec": {
   "display_name": "Python 3",
   "language": "python",
   "name": "python3"
  },
  "language_info": {
   "codemirror_mode": {
    "name": "ipython",
    "version": 3
   },
   "file_extension": ".py",
   "mimetype": "text/x-python",
   "name": "python",
   "nbconvert_exporter": "python",
   "pygments_lexer": "ipython3",
   "version": "3.6.7"
  }
 },
 "nbformat": 4,
 "nbformat_minor": 4
}
