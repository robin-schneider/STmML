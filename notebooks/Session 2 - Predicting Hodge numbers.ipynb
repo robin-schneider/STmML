{
 "cells": [
  {
   "cell_type": "markdown",
   "metadata": {},
   "source": [
    "# Session 2 - Predicting Hodge numbers\n",
    "\n",
    "In this session we will predict cohomology dimensions of line and tangent bundle of Calabi Yau manifolds."
   ]
  },
  {
   "cell_type": "code",
   "execution_count": 1,
   "metadata": {},
   "outputs": [],
   "source": [
    "import numpy as np\n",
    "import tensorflow as tf\n",
    "import pandas as pd\n",
    "import ast\n",
    "import matplotlib.pyplot as plt\n",
    "from sklearn.model_selection import train_test_split\n",
    "tfk = tf.keras"
   ]
  },
  {
   "cell_type": "markdown",
   "metadata": {},
   "source": [
    "## Hodge numbers of CICYs\n",
    "\n",
    "Several papers were investigating the hodge numbers of CICY 3-folds using various ML techniques. [First](https://arxiv.org/abs/1706.02714), a [bit](https://arxiv.org/pdf/1806.03121.pdf) [later](https://arxiv.org/pdf/1903.03113.pdf) and currently best performing [results](https://arxiv.org/pdf/2007.13379.pdf). An analysis for CICY 4-folds also [exists](https://arxiv.org/abs/2009.02544).\n",
    "\n",
    "CICYs are defined via a configuration matrix describing polynomial constraints in a product of complex projective spaces:\n",
    "\n",
    "$$\n",
    "\\mathcal{M} =  \\left[\n",
    "\\begin{array}{c||ccc}\n",
    "n_0 & p^0_1 & \\cdots & p^0_{K} \\\\\n",
    "\\vdots & \\vdots & \\ddots & \\vdots \\\\\n",
    "n_r & p^{r}_1 & \\cdots & p^{r}_K  \\\\\n",
    "\\end{array}\n",
    "\\right]^{h^{(1,1)},h^{(2,1)}}_{\\chi}.\n",
    "$$\n",
    "\n",
    "Here are some benchmarks from the earlier papers:\n",
    "\n",
    " - train, test: 4:1\n",
    " - accuracy: 77 %\n",
    "\n",
    "Can we beat this?"
   ]
  },
  {
   "cell_type": "markdown",
   "metadata": {},
   "source": [
    "### Data preparation\n",
    "\n",
    "we load the data from a modified version of the [cicylist](http://www-thphys.physics.ox.ac.uk/projects/CalabiYau/cicylist/). The plain text file is a bit of a hassle to read in. It's easiest to load it with Mathematica and then save it in normal .csv format. I'm not sure if I'm allowed to distribute this modified file, thus if you want to have it just send me a mail."
   ]
  },
  {
   "cell_type": "code",
   "execution_count": 2,
   "metadata": {},
   "outputs": [
    {
     "data": {
      "text/html": [
       "<div>\n",
       "<style scoped>\n",
       "    .dataframe tbody tr th:only-of-type {\n",
       "        vertical-align: middle;\n",
       "    }\n",
       "\n",
       "    .dataframe tbody tr th {\n",
       "        vertical-align: top;\n",
       "    }\n",
       "\n",
       "    .dataframe thead th {\n",
       "        text-align: right;\n",
       "    }\n",
       "</style>\n",
       "<table border=\"1\" class=\"dataframe\">\n",
       "  <thead>\n",
       "    <tr style=\"text-align: right;\">\n",
       "      <th></th>\n",
       "      <th>C2</th>\n",
       "      <th>Conf</th>\n",
       "      <th>Eta</th>\n",
       "      <th>H11</th>\n",
       "      <th>H21</th>\n",
       "      <th>Num</th>\n",
       "      <th>NumPol</th>\n",
       "      <th>NumPs</th>\n",
       "      <th>Redun</th>\n",
       "      <th>Symmetries</th>\n",
       "    </tr>\n",
       "  </thead>\n",
       "  <tbody>\n",
       "    <tr>\n",
       "      <th>0</th>\n",
       "      <td>[24, 24, 24, 24, 24, 36, 36]</td>\n",
       "      <td>[[1, 1, 0, 0, 0, 0], [0, 0, 1, 0, 0, 1], [0, 0...</td>\n",
       "      <td>0</td>\n",
       "      <td>15</td>\n",
       "      <td>15</td>\n",
       "      <td>1</td>\n",
       "      <td>6</td>\n",
       "      <td>7</td>\n",
       "      <td>[]</td>\n",
       "      <td>[]</td>\n",
       "    </tr>\n",
       "    <tr>\n",
       "      <th>1</th>\n",
       "      <td>[24, 24, 24, 24, 24, 36, 36]</td>\n",
       "      <td>[[1, 1, 0, 0, 0, 0], [1, 0, 0, 0, 0, 1], [0, 0...</td>\n",
       "      <td>0</td>\n",
       "      <td>15</td>\n",
       "      <td>15</td>\n",
       "      <td>2</td>\n",
       "      <td>6</td>\n",
       "      <td>7</td>\n",
       "      <td>[]</td>\n",
       "      <td>[]</td>\n",
       "    </tr>\n",
       "    <tr>\n",
       "      <th>2</th>\n",
       "      <td>[24, 24, 24, 36, 36, 36]</td>\n",
       "      <td>[[1, 1, 0, 0, 0, 0], [0, 0, 1, 0, 0, 1], [0, 0...</td>\n",
       "      <td>0</td>\n",
       "      <td>15</td>\n",
       "      <td>15</td>\n",
       "      <td>3</td>\n",
       "      <td>6</td>\n",
       "      <td>6</td>\n",
       "      <td>[]</td>\n",
       "      <td>[]</td>\n",
       "    </tr>\n",
       "    <tr>\n",
       "      <th>3</th>\n",
       "      <td>[24, 24, 24, 24, 24, 24, 24, 24]</td>\n",
       "      <td>[[1, 1, 0, 0, 0], [0, 0, 1, 0, 1], [1, 0, 0, 1...</td>\n",
       "      <td>0</td>\n",
       "      <td>15</td>\n",
       "      <td>15</td>\n",
       "      <td>4</td>\n",
       "      <td>5</td>\n",
       "      <td>8</td>\n",
       "      <td>[]</td>\n",
       "      <td>[[True, [[[[-1, 0, 0, 0, 0, 0, 0, 0, 0, 0, 0, ...</td>\n",
       "    </tr>\n",
       "    <tr>\n",
       "      <th>4</th>\n",
       "      <td>[24, 24, 24, 24, 24, 24, 24, 24, 24]</td>\n",
       "      <td>[[1, 1, 0, 0, 0, 0], [0, 0, 1, 0, 0, 1], [0, 0...</td>\n",
       "      <td>0</td>\n",
       "      <td>15</td>\n",
       "      <td>15</td>\n",
       "      <td>5</td>\n",
       "      <td>6</td>\n",
       "      <td>9</td>\n",
       "      <td>[]</td>\n",
       "      <td>[[True, [[[[-1, 0, 0, 0, 0, 0, 0, 0, 0, 0, 0, ...</td>\n",
       "    </tr>\n",
       "    <tr>\n",
       "      <th>...</th>\n",
       "      <td>...</td>\n",
       "      <td>...</td>\n",
       "      <td>...</td>\n",
       "      <td>...</td>\n",
       "      <td>...</td>\n",
       "      <td>...</td>\n",
       "      <td>...</td>\n",
       "      <td>...</td>\n",
       "      <td>...</td>\n",
       "      <td>...</td>\n",
       "    </tr>\n",
       "    <tr>\n",
       "      <th>7916</th>\n",
       "      <td>[24, 24, 36, 36, 56, 24, 24]</td>\n",
       "      <td>[[0, 0, 0, 0, 0, 2, 0, 0], [0, 0, 0, 0, 2, 0, ...</td>\n",
       "      <td>-48</td>\n",
       "      <td>7</td>\n",
       "      <td>31</td>\n",
       "      <td>7917</td>\n",
       "      <td>8</td>\n",
       "      <td>7</td>\n",
       "      <td>[5277, 5423, 7915, 5311, 7919]</td>\n",
       "      <td>unknown</td>\n",
       "    </tr>\n",
       "    <tr>\n",
       "      <th>7917</th>\n",
       "      <td>[24, 24, 24, 24, 24, 56, 36]</td>\n",
       "      <td>[[0, 0, 0, 1, 1, 0, 0, 0], [1, 0, 0, 0, 0, 1, ...</td>\n",
       "      <td>-48</td>\n",
       "      <td>7</td>\n",
       "      <td>31</td>\n",
       "      <td>7918</td>\n",
       "      <td>8</td>\n",
       "      <td>7</td>\n",
       "      <td>[5141, 5259, 7912, 7914, 5406]</td>\n",
       "      <td>unknown</td>\n",
       "    </tr>\n",
       "    <tr>\n",
       "      <th>7918</th>\n",
       "      <td>[24, 24, 36, 36, 56, 24, 24]</td>\n",
       "      <td>[[0, 0, 0, 0, 1, 1, 0, 0, 0, 0], [0, 0, 0, 0, ...</td>\n",
       "      <td>-48</td>\n",
       "      <td>7</td>\n",
       "      <td>31</td>\n",
       "      <td>7919</td>\n",
       "      <td>10</td>\n",
       "      <td>7</td>\n",
       "      <td>[5277, 5311, 7915, 7917, 5423]</td>\n",
       "      <td>unknown</td>\n",
       "    </tr>\n",
       "    <tr>\n",
       "      <th>7919</th>\n",
       "      <td>[24, 24, 36, 36, 36, 36, 24, 24]</td>\n",
       "      <td>[[0, 0, 0, 0, 0, 0, 0, 1, 1], [0, 0, 0, 0, 0, ...</td>\n",
       "      <td>-32</td>\n",
       "      <td>8</td>\n",
       "      <td>24</td>\n",
       "      <td>7920</td>\n",
       "      <td>9</td>\n",
       "      <td>8</td>\n",
       "      <td>[2570]</td>\n",
       "      <td>unknown</td>\n",
       "    </tr>\n",
       "    <tr>\n",
       "      <th>7920</th>\n",
       "      <td>[24, 24, 36, 36, 44, 44, 24, 24]</td>\n",
       "      <td>[[0, 0, 0, 0, 1, 1, 0, 0, 0, 0, 0], [0, 0, 0, ...</td>\n",
       "      <td>-36</td>\n",
       "      <td>8</td>\n",
       "      <td>26</td>\n",
       "      <td>7921</td>\n",
       "      <td>11</td>\n",
       "      <td>8</td>\n",
       "      <td>[3496]</td>\n",
       "      <td>unknown</td>\n",
       "    </tr>\n",
       "  </tbody>\n",
       "</table>\n",
       "<p>7921 rows × 10 columns</p>\n",
       "</div>"
      ],
      "text/plain": [
       "                                        C2  \\\n",
       "0             [24, 24, 24, 24, 24, 36, 36]   \n",
       "1             [24, 24, 24, 24, 24, 36, 36]   \n",
       "2                 [24, 24, 24, 36, 36, 36]   \n",
       "3         [24, 24, 24, 24, 24, 24, 24, 24]   \n",
       "4     [24, 24, 24, 24, 24, 24, 24, 24, 24]   \n",
       "...                                    ...   \n",
       "7916          [24, 24, 36, 36, 56, 24, 24]   \n",
       "7917          [24, 24, 24, 24, 24, 56, 36]   \n",
       "7918          [24, 24, 36, 36, 56, 24, 24]   \n",
       "7919      [24, 24, 36, 36, 36, 36, 24, 24]   \n",
       "7920      [24, 24, 36, 36, 44, 44, 24, 24]   \n",
       "\n",
       "                                                   Conf  Eta  H11  H21   Num  \\\n",
       "0     [[1, 1, 0, 0, 0, 0], [0, 0, 1, 0, 0, 1], [0, 0...    0   15   15     1   \n",
       "1     [[1, 1, 0, 0, 0, 0], [1, 0, 0, 0, 0, 1], [0, 0...    0   15   15     2   \n",
       "2     [[1, 1, 0, 0, 0, 0], [0, 0, 1, 0, 0, 1], [0, 0...    0   15   15     3   \n",
       "3     [[1, 1, 0, 0, 0], [0, 0, 1, 0, 1], [1, 0, 0, 1...    0   15   15     4   \n",
       "4     [[1, 1, 0, 0, 0, 0], [0, 0, 1, 0, 0, 1], [0, 0...    0   15   15     5   \n",
       "...                                                 ...  ...  ...  ...   ...   \n",
       "7916  [[0, 0, 0, 0, 0, 2, 0, 0], [0, 0, 0, 0, 2, 0, ...  -48    7   31  7917   \n",
       "7917  [[0, 0, 0, 1, 1, 0, 0, 0], [1, 0, 0, 0, 0, 1, ...  -48    7   31  7918   \n",
       "7918  [[0, 0, 0, 0, 1, 1, 0, 0, 0, 0], [0, 0, 0, 0, ...  -48    7   31  7919   \n",
       "7919  [[0, 0, 0, 0, 0, 0, 0, 1, 1], [0, 0, 0, 0, 0, ...  -32    8   24  7920   \n",
       "7920  [[0, 0, 0, 0, 1, 1, 0, 0, 0, 0, 0], [0, 0, 0, ...  -36    8   26  7921   \n",
       "\n",
       "      NumPol  NumPs                           Redun  \\\n",
       "0          6      7                              []   \n",
       "1          6      7                              []   \n",
       "2          6      6                              []   \n",
       "3          5      8                              []   \n",
       "4          6      9                              []   \n",
       "...      ...    ...                             ...   \n",
       "7916       8      7  [5277, 5423, 7915, 5311, 7919]   \n",
       "7917       8      7  [5141, 5259, 7912, 7914, 5406]   \n",
       "7918      10      7  [5277, 5311, 7915, 7917, 5423]   \n",
       "7919       9      8                          [2570]   \n",
       "7920      11      8                          [3496]   \n",
       "\n",
       "                                             Symmetries  \n",
       "0                                                    []  \n",
       "1                                                    []  \n",
       "2                                                    []  \n",
       "3     [[True, [[[[-1, 0, 0, 0, 0, 0, 0, 0, 0, 0, 0, ...  \n",
       "4     [[True, [[[[-1, 0, 0, 0, 0, 0, 0, 0, 0, 0, 0, ...  \n",
       "...                                                 ...  \n",
       "7916                                            unknown  \n",
       "7917                                            unknown  \n",
       "7918                                            unknown  \n",
       "7919                                            unknown  \n",
       "7920                                            unknown  \n",
       "\n",
       "[7921 rows x 10 columns]"
      ]
     },
     "execution_count": 2,
     "metadata": {},
     "output_type": "execute_result"
    }
   ],
   "source": [
    "df = pd.read_csv('data/cicylist/cicylist_dict.txt', sep=';')\n",
    "df"
   ]
  },
  {
   "cell_type": "code",
   "execution_count": 3,
   "metadata": {},
   "outputs": [
    {
     "data": {
      "text/plain": [
       "(19, 101, 12, 15)"
      ]
     },
     "execution_count": 3,
     "metadata": {},
     "output_type": "execute_result"
    }
   ],
   "source": [
    "np.max(df['H11']), np.max(df['H21']), np.max(df['NumPs']), np.max(df['NumPol'])"
   ]
  },
  {
   "cell_type": "code",
   "execution_count": 4,
   "metadata": {},
   "outputs": [
    {
     "data": {
      "text/plain": [
       "0.6192399949501326"
      ]
     },
     "execution_count": 4,
     "metadata": {},
     "output_type": "execute_result"
    }
   ],
   "source": [
    "np.sum(df['H11'] == df['NumPs'])/len(df)"
   ]
  },
  {
   "cell_type": "markdown",
   "metadata": {},
   "source": [
    "we create our training data"
   ]
  },
  {
   "cell_type": "code",
   "execution_count": 5,
   "metadata": {},
   "outputs": [],
   "source": [
    "cicylist = np.zeros((len(df), np.max(df['NumPs'].values), np.max(df['NumPol'].values)))\n",
    "for i, conf in enumerate(df['Conf'].values):\n",
    "    m = ast.literal_eval(conf)\n",
    "    d1, d2 = np.shape(m)\n",
    "    cicylist[i, :d1, :d2] += np.array(m)\n",
    "h11 = df['H11'].values"
   ]
  },
  {
   "cell_type": "markdown",
   "metadata": {},
   "source": [
    "we remove direct products and use one hot encoding"
   ]
  },
  {
   "cell_type": "code",
   "execution_count": 6,
   "metadata": {},
   "outputs": [],
   "source": [
    "good_indices = np.where(h11 != 0)[0]\n",
    "cicylist = cicylist[good_indices]\n",
    "h11 = h11[good_indices]\n",
    "one_hot_h11 = tf.one_hot(h11, depth=19).numpy()"
   ]
  },
  {
   "cell_type": "markdown",
   "metadata": {},
   "source": [
    "and we do a train test split of 4:1."
   ]
  },
  {
   "cell_type": "code",
   "execution_count": 7,
   "metadata": {},
   "outputs": [],
   "source": [
    "X_train, X_test, y_train, y_test = train_test_split(\n",
    "        cicylist, one_hot_h11, test_size=0.20, random_state=42)"
   ]
  },
  {
   "cell_type": "code",
   "execution_count": 8,
   "metadata": {},
   "outputs": [
    {
     "data": {
      "image/png": "[encoded data removed]",
      "text/plain": [
       "<matplotlib.figure.Figure at 0x7f1c0ff0eba8>"
      ]
     },
     "metadata": {
      "needs_background": "light"
     },
     "output_type": "display_data"
    }
   ],
   "source": [
    "plt.imshow(X_train[149])\n",
    "plt.colorbar()\n",
    "plt.xlabel('npoly')\n",
    "plt.ylabel('nproj')\n",
    "plt.savefig('cicy150.pdf')"
   ]
  },
  {
   "cell_type": "markdown",
   "metadata": {},
   "source": [
    "### A simple Dense model\n",
    "\n",
    "Define some training parameters, such as numclasses bSize, ..."
   ]
  },
  {
   "cell_type": "code",
   "execution_count": 9,
   "metadata": {},
   "outputs": [],
   "source": [
    "num_classes = np.max(df['H11'].values)\n",
    "bsize = 32\n",
    "nEpochs = 50\n",
    "validation_data = (X_test, y_test)"
   ]
  },
  {
   "cell_type": "markdown",
   "metadata": {},
   "source": [
    "write a function that gives us a fully connected model depending on a set of hyper parameters"
   ]
  },
  {
   "cell_type": "code",
   "execution_count": 10,
   "metadata": {},
   "outputs": [],
   "source": [
    "def make_model(act = 'tanh', nHidden = 128, nLayer = 3, lreg = 0,\n",
    "               dropout = 0, lr = 0.001, name = 'm1'):\n",
    "    reg = tfk.regularizers.L1L2(l1=lreg, l2=lreg)\n",
    "    model = tfk.Sequential()\n",
    "    model.add(tfk.Input(shape=cicylist.shape[1:], name=name+'Input'))\n",
    "    model.add(tfk.layers.Flatten(name=name+\"flatten\"))\n",
    "    for i in range(nLayer):\n",
    "        model.add(tfk.layers.Dense(nHidden, activation = act, kernel_regularizer = reg, name = name+'layer'+str(i)))\n",
    "        if dropout > 0:\n",
    "            model.add(tfk.layers.Dropout(dropout, name=name+'dropout'+str(i)))\n",
    "    model.add(tfk.layers.Dense(num_classes, activation=\"softmax\", name=name+\"output\"))\n",
    "    model.compile(optimizer=tfk.optimizers.SGD(learning_rate=lr, momentum=0.99), \n",
    "                    loss=\"categorical_crossentropy\", metrics=[\"accuracy\"])\n",
    "    model.summary()\n",
    "    return model"
   ]
  },
  {
   "cell_type": "markdown",
   "metadata": {},
   "source": [
    "make the model"
   ]
  },
  {
   "cell_type": "code",
   "execution_count": 11,
   "metadata": {},
   "outputs": [
    {
     "name": "stdout",
     "output_type": "stream",
     "text": [
      "Model: \"sequential\"\n",
      "_________________________________________________________________\n",
      "Layer (type)                 Output Shape              Param #   \n",
      "=================================================================\n",
      "m1flatten (Flatten)          (None, 180)               0         \n",
      "_________________________________________________________________\n",
      "m1layer0 (Dense)             (None, 128)               23168     \n",
      "_________________________________________________________________\n",
      "m1layer1 (Dense)             (None, 128)               16512     \n",
      "_________________________________________________________________\n",
      "m1layer2 (Dense)             (None, 128)               16512     \n",
      "_________________________________________________________________\n",
      "m1output (Dense)             (None, 19)                2451      \n",
      "=================================================================\n",
      "Total params: 58,643\n",
      "Trainable params: 58,643\n",
      "Non-trainable params: 0\n",
      "_________________________________________________________________\n"
     ]
    }
   ],
   "source": [
    "model1 = make_model()"
   ]
  },
  {
   "cell_type": "code",
   "execution_count": 12,
   "metadata": {},
   "outputs": [
    {
     "name": "stdout",
     "output_type": "stream",
     "text": [
      "Epoch 1/50\n",
      "198/198 [==============================] - 0s 2ms/step - loss: 1.8487 - accuracy: 0.4197 - val_loss: 1.3630 - val_accuracy: 0.6152\n",
      "Epoch 2/50\n",
      "198/198 [==============================] - 0s 1ms/step - loss: 1.2335 - accuracy: 0.6050 - val_loss: 1.1633 - val_accuracy: 0.6392\n",
      "Epoch 3/50\n",
      "198/198 [==============================] - 0s 1ms/step - loss: 1.0996 - accuracy: 0.6468 - val_loss: 1.1527 - val_accuracy: 0.6101\n",
      "Epoch 4/50\n",
      "198/198 [==============================] - 0s 1ms/step - loss: 1.0235 - accuracy: 0.6643 - val_loss: 1.0635 - val_accuracy: 0.6709\n",
      "Epoch 5/50\n",
      "198/198 [==============================] - 0s 1ms/step - loss: 0.9450 - accuracy: 0.6871 - val_loss: 0.9865 - val_accuracy: 0.6816\n",
      "Epoch 6/50\n",
      "198/198 [==============================] - 0s 1ms/step - loss: 0.9038 - accuracy: 0.7007 - val_loss: 0.9564 - val_accuracy: 0.6943\n",
      "Epoch 7/50\n",
      "198/198 [==============================] - 0s 1ms/step - loss: 0.8556 - accuracy: 0.7163 - val_loss: 0.9139 - val_accuracy: 0.7019\n",
      "Epoch 8/50\n",
      "198/198 [==============================] - 0s 1ms/step - loss: 0.8078 - accuracy: 0.7356 - val_loss: 0.8957 - val_accuracy: 0.7025\n",
      "Epoch 9/50\n",
      "198/198 [==============================] - 0s 1ms/step - loss: 0.7734 - accuracy: 0.7455 - val_loss: 0.8664 - val_accuracy: 0.7108\n",
      "Epoch 10/50\n",
      "198/198 [==============================] - 0s 1ms/step - loss: 0.7281 - accuracy: 0.7534 - val_loss: 0.8601 - val_accuracy: 0.7209\n",
      "Epoch 11/50\n",
      "198/198 [==============================] - 0s 1ms/step - loss: 0.7038 - accuracy: 0.7693 - val_loss: 0.8695 - val_accuracy: 0.7152\n",
      "Epoch 12/50\n",
      "198/198 [==============================] - 0s 1ms/step - loss: 0.6887 - accuracy: 0.7650 - val_loss: 0.8259 - val_accuracy: 0.7468\n",
      "Epoch 13/50\n",
      "198/198 [==============================] - 0s 1ms/step - loss: 0.6381 - accuracy: 0.7816 - val_loss: 0.7977 - val_accuracy: 0.7329\n",
      "Epoch 14/50\n",
      "198/198 [==============================] - 0s 1ms/step - loss: 0.5871 - accuracy: 0.8000 - val_loss: 0.7734 - val_accuracy: 0.7487\n",
      "Epoch 15/50\n",
      "198/198 [==============================] - 0s 1ms/step - loss: 0.5582 - accuracy: 0.8077 - val_loss: 0.7943 - val_accuracy: 0.7538\n",
      "Epoch 16/50\n",
      "198/198 [==============================] - 0s 1ms/step - loss: 0.5301 - accuracy: 0.8145 - val_loss: 0.7615 - val_accuracy: 0.7563\n",
      "Epoch 17/50\n",
      "198/198 [==============================] - 0s 1ms/step - loss: 0.4960 - accuracy: 0.8277 - val_loss: 0.7457 - val_accuracy: 0.7601\n",
      "Epoch 18/50\n",
      "198/198 [==============================] - 0s 1ms/step - loss: 0.4656 - accuracy: 0.8421 - val_loss: 0.7427 - val_accuracy: 0.7741\n",
      "Epoch 19/50\n",
      "198/198 [==============================] - 0s 1ms/step - loss: 0.4344 - accuracy: 0.8482 - val_loss: 0.7449 - val_accuracy: 0.7620\n",
      "Epoch 20/50\n",
      "198/198 [==============================] - 0s 1ms/step - loss: 0.3952 - accuracy: 0.8658 - val_loss: 0.7232 - val_accuracy: 0.7810\n",
      "Epoch 21/50\n",
      "198/198 [==============================] - 0s 1ms/step - loss: 0.3758 - accuracy: 0.8699 - val_loss: 0.7233 - val_accuracy: 0.7785\n",
      "Epoch 22/50\n",
      "198/198 [==============================] - 0s 1ms/step - loss: 0.3591 - accuracy: 0.8786 - val_loss: 0.7312 - val_accuracy: 0.7734\n",
      "Epoch 23/50\n",
      "198/198 [==============================] - 0s 1ms/step - loss: 0.3339 - accuracy: 0.8876 - val_loss: 0.7438 - val_accuracy: 0.7753\n",
      "Epoch 24/50\n",
      "198/198 [==============================] - 0s 1ms/step - loss: 0.3093 - accuracy: 0.8946 - val_loss: 0.7234 - val_accuracy: 0.7892\n",
      "Epoch 25/50\n",
      "198/198 [==============================] - 0s 1ms/step - loss: 0.2763 - accuracy: 0.9065 - val_loss: 0.7468 - val_accuracy: 0.7918\n",
      "Epoch 26/50\n",
      "198/198 [==============================] - 0s 1ms/step - loss: 0.2458 - accuracy: 0.9209 - val_loss: 0.7369 - val_accuracy: 0.7861\n",
      "Epoch 27/50\n",
      "198/198 [==============================] - 0s 1ms/step - loss: 0.2141 - accuracy: 0.9324 - val_loss: 0.7193 - val_accuracy: 0.7880\n",
      "Epoch 28/50\n",
      "198/198 [==============================] - 0s 1ms/step - loss: 0.1947 - accuracy: 0.9405 - val_loss: 0.7480 - val_accuracy: 0.7905\n",
      "Epoch 29/50\n",
      "198/198 [==============================] - 0s 1ms/step - loss: 0.1789 - accuracy: 0.9471 - val_loss: 0.7642 - val_accuracy: 0.7810\n",
      "Epoch 30/50\n",
      "198/198 [==============================] - 0s 1ms/step - loss: 0.1593 - accuracy: 0.9546 - val_loss: 0.7570 - val_accuracy: 0.7949\n",
      "Epoch 31/50\n",
      "198/198 [==============================] - 0s 1ms/step - loss: 0.1395 - accuracy: 0.9617 - val_loss: 0.7712 - val_accuracy: 0.7867\n",
      "Epoch 32/50\n",
      "198/198 [==============================] - 0s 1ms/step - loss: 0.1227 - accuracy: 0.9687 - val_loss: 0.7545 - val_accuracy: 0.8019\n",
      "Epoch 33/50\n",
      "198/198 [==============================] - 0s 1ms/step - loss: 0.1098 - accuracy: 0.9733 - val_loss: 0.7725 - val_accuracy: 0.7981\n",
      "Epoch 34/50\n",
      "198/198 [==============================] - 0s 1ms/step - loss: 0.1001 - accuracy: 0.9790 - val_loss: 0.8015 - val_accuracy: 0.8006\n",
      "Epoch 35/50\n",
      "198/198 [==============================] - 0s 1ms/step - loss: 0.0918 - accuracy: 0.9807 - val_loss: 0.7966 - val_accuracy: 0.8000\n",
      "Epoch 36/50\n",
      "198/198 [==============================] - 0s 1ms/step - loss: 0.0842 - accuracy: 0.9826 - val_loss: 0.8022 - val_accuracy: 0.8025\n",
      "Epoch 37/50\n",
      "198/198 [==============================] - 0s 1ms/step - loss: 0.0729 - accuracy: 0.9848 - val_loss: 0.7977 - val_accuracy: 0.8025\n",
      "Epoch 38/50\n",
      "198/198 [==============================] - 0s 1ms/step - loss: 0.0625 - accuracy: 0.9900 - val_loss: 0.7864 - val_accuracy: 0.8025\n",
      "Epoch 39/50\n",
      "198/198 [==============================] - 0s 1ms/step - loss: 0.0539 - accuracy: 0.9934 - val_loss: 0.8244 - val_accuracy: 0.8082\n",
      "Epoch 40/50\n",
      "198/198 [==============================] - 0s 1ms/step - loss: 0.0483 - accuracy: 0.9938 - val_loss: 0.8166 - val_accuracy: 0.8076\n",
      "Epoch 41/50\n",
      "198/198 [==============================] - 0s 1ms/step - loss: 0.0441 - accuracy: 0.9948 - val_loss: 0.8426 - val_accuracy: 0.8032\n",
      "Epoch 42/50\n",
      "198/198 [==============================] - 0s 1ms/step - loss: 0.0398 - accuracy: 0.9957 - val_loss: 0.8396 - val_accuracy: 0.8063\n",
      "Epoch 43/50\n",
      "198/198 [==============================] - 0s 1ms/step - loss: 0.0367 - accuracy: 0.9954 - val_loss: 0.8442 - val_accuracy: 0.8032\n",
      "Epoch 44/50\n",
      "198/198 [==============================] - 0s 1ms/step - loss: 0.0339 - accuracy: 0.9967 - val_loss: 0.8701 - val_accuracy: 0.8025\n",
      "Epoch 45/50\n",
      "198/198 [==============================] - 0s 1ms/step - loss: 0.0306 - accuracy: 0.9972 - val_loss: 0.8627 - val_accuracy: 0.8025\n",
      "Epoch 46/50\n",
      "198/198 [==============================] - 0s 1ms/step - loss: 0.0278 - accuracy: 0.9978 - val_loss: 0.8770 - val_accuracy: 0.8000\n",
      "Epoch 47/50\n",
      "198/198 [==============================] - 0s 1ms/step - loss: 0.0257 - accuracy: 0.9975 - val_loss: 0.8943 - val_accuracy: 0.8070\n",
      "Epoch 48/50\n",
      "198/198 [==============================] - 0s 1ms/step - loss: 0.0230 - accuracy: 0.9983 - val_loss: 0.8782 - val_accuracy: 0.8089\n",
      "Epoch 49/50\n",
      "198/198 [==============================] - 0s 1ms/step - loss: 0.0220 - accuracy: 0.9979 - val_loss: 0.9057 - val_accuracy: 0.8063\n",
      "Epoch 50/50\n",
      "198/198 [==============================] - 0s 1ms/step - loss: 0.0204 - accuracy: 0.9981 - val_loss: 0.9031 - val_accuracy: 0.8139\n"
     ]
    }
   ],
   "source": [
    "history = model1.fit(X_train, y_train, validation_data=validation_data, batch_size=bsize, epochs=nEpochs)"
   ]
  },
  {
   "cell_type": "markdown",
   "metadata": {},
   "source": [
    "Plot accuracy and loss"
   ]
  },
  {
   "cell_type": "code",
   "execution_count": 13,
   "metadata": {},
   "outputs": [],
   "source": [
    "def make_plot(history, fname = ''):\n",
    "    fig = plt.figure(figsize=[15,7])\n",
    "    ax1 = plt.subplot(121)\n",
    "    ax1.plot(history['accuracy'], color='blue', label='train')\n",
    "    ax1.plot(history['val_accuracy'], color='red', label='val')\n",
    "    ax1.legend(loc='best')\n",
    "    ax1.set_xlabel('Epochs')\n",
    "    ax1.set_ylabel('Accuracy')\n",
    "    ax2 = plt.subplot(122)\n",
    "    ax2.plot(history['loss'], color='blue', label='train')\n",
    "    ax2.plot(history['val_loss'], color='red', label='val')\n",
    "    ax2.legend(loc='best')\n",
    "    ax2.set_xlabel('Epochs')\n",
    "    ax2.set_ylabel('Loss')\n",
    "    if fname != '':\n",
    "        plt.savefig(fname)\n",
    "    #return fig"
   ]
  },
  {
   "cell_type": "code",
   "execution_count": 14,
   "metadata": {},
   "outputs": [
    {
     "data": {
      "image/png": "[encoded data removed]",
      "text/plain": [
       "<matplotlib.figure.Figure at 0x7f1bfc0e4c18>"
      ]
     },
     "metadata": {
      "needs_background": "light"
     },
     "output_type": "display_data"
    }
   ],
   "source": [
    "make_plot(history.history, fname='cicy_no_reg.pdf')"
   ]
  },
  {
   "cell_type": "markdown",
   "metadata": {},
   "source": [
    "We are overfitting. Let's introduce some L1 and L2 regularisation."
   ]
  },
  {
   "cell_type": "code",
   "execution_count": 15,
   "metadata": {},
   "outputs": [
    {
     "name": "stdout",
     "output_type": "stream",
     "text": [
      "Model: \"sequential_1\"\n",
      "_________________________________________________________________\n",
      "Layer (type)                 Output Shape              Param #   \n",
      "=================================================================\n",
      "l12flatten (Flatten)         (None, 180)               0         \n",
      "_________________________________________________________________\n",
      "l12layer0 (Dense)            (None, 128)               23168     \n",
      "_________________________________________________________________\n",
      "l12layer1 (Dense)            (None, 128)               16512     \n",
      "_________________________________________________________________\n",
      "l12layer2 (Dense)            (None, 128)               16512     \n",
      "_________________________________________________________________\n",
      "l12output (Dense)            (None, 19)                2451      \n",
      "=================================================================\n",
      "Total params: 58,643\n",
      "Trainable params: 58,643\n",
      "Non-trainable params: 0\n",
      "_________________________________________________________________\n"
     ]
    }
   ],
   "source": [
    "model2 = make_model(lreg=0.001, name='l12')"
   ]
  },
  {
   "cell_type": "code",
   "execution_count": 16,
   "metadata": {},
   "outputs": [
    {
     "name": "stdout",
     "output_type": "stream",
     "text": [
      "Epoch 1/50\n",
      "198/198 [==============================] - 0s 2ms/step - loss: 6.0823 - accuracy: 0.4235 - val_loss: 5.2435 - val_accuracy: 0.5608\n",
      "Epoch 2/50\n",
      "198/198 [==============================] - 0s 1ms/step - loss: 4.5873 - accuracy: 0.5966 - val_loss: 4.0218 - val_accuracy: 0.6266\n",
      "Epoch 3/50\n",
      "198/198 [==============================] - 0s 1ms/step - loss: 3.5250 - accuracy: 0.6294 - val_loss: 3.1123 - val_accuracy: 0.6361\n",
      "Epoch 4/50\n",
      "198/198 [==============================] - 0s 1ms/step - loss: 2.7786 - accuracy: 0.6295 - val_loss: 2.4970 - val_accuracy: 0.6342\n",
      "Epoch 5/50\n",
      "198/198 [==============================] - 0s 1ms/step - loss: 2.2812 - accuracy: 0.6270 - val_loss: 2.1417 - val_accuracy: 0.6108\n",
      "Epoch 6/50\n",
      "198/198 [==============================] - 0s 1ms/step - loss: 1.9723 - accuracy: 0.6257 - val_loss: 1.9187 - val_accuracy: 0.6253\n",
      "Epoch 7/50\n",
      "198/198 [==============================] - 0s 1ms/step - loss: 1.7805 - accuracy: 0.6286 - val_loss: 1.7272 - val_accuracy: 0.6253\n",
      "Epoch 8/50\n",
      "198/198 [==============================] - 0s 1ms/step - loss: 1.6506 - accuracy: 0.6329 - val_loss: 1.6232 - val_accuracy: 0.6247\n",
      "Epoch 9/50\n",
      "198/198 [==============================] - 0s 1ms/step - loss: 1.5790 - accuracy: 0.6253 - val_loss: 1.5912 - val_accuracy: 0.6234\n",
      "Epoch 10/50\n",
      "198/198 [==============================] - 0s 1ms/step - loss: 1.5348 - accuracy: 0.6291 - val_loss: 1.5065 - val_accuracy: 0.6304\n",
      "Epoch 11/50\n",
      "198/198 [==============================] - 0s 1ms/step - loss: 1.4757 - accuracy: 0.6379 - val_loss: 1.4912 - val_accuracy: 0.6399\n",
      "Epoch 12/50\n",
      "198/198 [==============================] - 0s 1ms/step - loss: 1.4308 - accuracy: 0.6433 - val_loss: 1.4349 - val_accuracy: 0.6386\n",
      "Epoch 13/50\n",
      "198/198 [==============================] - 0s 1ms/step - loss: 1.3867 - accuracy: 0.6458 - val_loss: 1.4049 - val_accuracy: 0.6424\n",
      "Epoch 14/50\n",
      "198/198 [==============================] - 0s 1ms/step - loss: 1.3695 - accuracy: 0.6504 - val_loss: 1.4273 - val_accuracy: 0.6133\n",
      "Epoch 15/50\n",
      "198/198 [==============================] - 0s 1ms/step - loss: 1.3547 - accuracy: 0.6534 - val_loss: 1.3766 - val_accuracy: 0.6481\n",
      "Epoch 16/50\n",
      "198/198 [==============================] - 0s 1ms/step - loss: 1.3479 - accuracy: 0.6582 - val_loss: 1.3600 - val_accuracy: 0.6544\n",
      "Epoch 17/50\n",
      "198/198 [==============================] - 0s 1ms/step - loss: 1.3447 - accuracy: 0.6549 - val_loss: 1.4004 - val_accuracy: 0.6095\n",
      "Epoch 18/50\n",
      "198/198 [==============================] - 0s 1ms/step - loss: 1.3145 - accuracy: 0.6626 - val_loss: 1.3358 - val_accuracy: 0.6563\n",
      "Epoch 19/50\n",
      "198/198 [==============================] - 0s 1ms/step - loss: 1.2833 - accuracy: 0.6707 - val_loss: 1.3172 - val_accuracy: 0.6614\n",
      "Epoch 20/50\n",
      "198/198 [==============================] - 0s 1ms/step - loss: 1.2658 - accuracy: 0.6735 - val_loss: 1.3038 - val_accuracy: 0.6582\n",
      "Epoch 21/50\n",
      "198/198 [==============================] - 0s 1ms/step - loss: 1.2414 - accuracy: 0.6808 - val_loss: 1.2830 - val_accuracy: 0.6722\n",
      "Epoch 22/50\n",
      "198/198 [==============================] - 0s 1ms/step - loss: 1.2367 - accuracy: 0.6780 - val_loss: 1.2839 - val_accuracy: 0.6576\n",
      "Epoch 23/50\n",
      "198/198 [==============================] - 0s 1ms/step - loss: 1.2507 - accuracy: 0.6780 - val_loss: 1.3028 - val_accuracy: 0.6557\n",
      "Epoch 24/50\n",
      "198/198 [==============================] - 0s 1ms/step - loss: 1.2481 - accuracy: 0.6768 - val_loss: 1.3055 - val_accuracy: 0.6658\n",
      "Epoch 25/50\n",
      "198/198 [==============================] - 0s 1ms/step - loss: 1.2337 - accuracy: 0.6825 - val_loss: 1.2775 - val_accuracy: 0.6652\n",
      "Epoch 26/50\n",
      "198/198 [==============================] - 0s 1ms/step - loss: 1.2028 - accuracy: 0.6924 - val_loss: 1.2467 - val_accuracy: 0.6766\n",
      "Epoch 27/50\n",
      "198/198 [==============================] - 0s 1ms/step - loss: 1.2063 - accuracy: 0.6882 - val_loss: 1.2817 - val_accuracy: 0.6576\n",
      "Epoch 28/50\n",
      "198/198 [==============================] - 0s 1ms/step - loss: 1.2300 - accuracy: 0.6776 - val_loss: 1.2563 - val_accuracy: 0.6728\n",
      "Epoch 29/50\n",
      "198/198 [==============================] - 0s 1ms/step - loss: 1.2058 - accuracy: 0.6892 - val_loss: 1.2433 - val_accuracy: 0.6797\n",
      "Epoch 30/50\n",
      "198/198 [==============================] - 0s 1ms/step - loss: 1.2019 - accuracy: 0.6931 - val_loss: 1.2530 - val_accuracy: 0.6671\n",
      "Epoch 31/50\n",
      "198/198 [==============================] - 0s 1ms/step - loss: 1.1904 - accuracy: 0.6916 - val_loss: 1.2406 - val_accuracy: 0.6747\n",
      "Epoch 32/50\n",
      "198/198 [==============================] - 0s 1ms/step - loss: 1.1893 - accuracy: 0.6930 - val_loss: 1.2207 - val_accuracy: 0.6835\n",
      "Epoch 33/50\n",
      "198/198 [==============================] - 0s 1ms/step - loss: 1.1873 - accuracy: 0.6973 - val_loss: 1.2334 - val_accuracy: 0.6741\n",
      "Epoch 34/50\n",
      "198/198 [==============================] - 0s 1ms/step - loss: 1.1678 - accuracy: 0.6974 - val_loss: 1.2264 - val_accuracy: 0.6797\n",
      "Epoch 35/50\n",
      "198/198 [==============================] - 0s 1ms/step - loss: 1.1750 - accuracy: 0.6962 - val_loss: 1.2288 - val_accuracy: 0.6804\n",
      "Epoch 36/50\n",
      "198/198 [==============================] - 0s 1ms/step - loss: 1.1624 - accuracy: 0.6995 - val_loss: 1.2212 - val_accuracy: 0.6759\n",
      "Epoch 37/50\n",
      "198/198 [==============================] - 0s 1ms/step - loss: 1.1483 - accuracy: 0.7077 - val_loss: 1.2000 - val_accuracy: 0.6854\n",
      "Epoch 38/50\n",
      "198/198 [==============================] - 0s 1ms/step - loss: 1.1645 - accuracy: 0.7087 - val_loss: 1.2182 - val_accuracy: 0.6835\n",
      "Epoch 39/50\n",
      "198/198 [==============================] - 0s 1ms/step - loss: 1.1372 - accuracy: 0.7091 - val_loss: 1.1895 - val_accuracy: 0.6892\n",
      "Epoch 40/50\n",
      "198/198 [==============================] - 0s 1ms/step - loss: 1.1315 - accuracy: 0.7109 - val_loss: 1.1933 - val_accuracy: 0.6905\n",
      "Epoch 41/50\n",
      "198/198 [==============================] - 0s 1ms/step - loss: 1.1378 - accuracy: 0.7128 - val_loss: 1.2180 - val_accuracy: 0.6975\n",
      "Epoch 42/50\n",
      "198/198 [==============================] - 0s 1ms/step - loss: 1.1410 - accuracy: 0.7072 - val_loss: 1.2173 - val_accuracy: 0.6842\n",
      "Epoch 43/50\n",
      "198/198 [==============================] - 0s 1ms/step - loss: 1.1403 - accuracy: 0.7099 - val_loss: 1.1791 - val_accuracy: 0.6968\n",
      "Epoch 44/50\n",
      "198/198 [==============================] - 0s 1ms/step - loss: 1.1261 - accuracy: 0.7177 - val_loss: 1.2093 - val_accuracy: 0.6886\n",
      "Epoch 45/50\n",
      "198/198 [==============================] - 0s 1ms/step - loss: 1.1385 - accuracy: 0.7068 - val_loss: 1.1763 - val_accuracy: 0.6968\n",
      "Epoch 46/50\n",
      "198/198 [==============================] - 0s 1ms/step - loss: 1.1302 - accuracy: 0.7158 - val_loss: 1.1762 - val_accuracy: 0.6981\n",
      "Epoch 47/50\n",
      "198/198 [==============================] - 0s 1ms/step - loss: 1.1215 - accuracy: 0.7145 - val_loss: 1.1915 - val_accuracy: 0.6943\n",
      "Epoch 48/50\n",
      "198/198 [==============================] - 0s 1ms/step - loss: 1.1199 - accuracy: 0.7178 - val_loss: 1.2123 - val_accuracy: 0.6886\n",
      "Epoch 49/50\n",
      "198/198 [==============================] - 0s 1ms/step - loss: 1.1238 - accuracy: 0.7166 - val_loss: 1.1871 - val_accuracy: 0.6886\n",
      "Epoch 50/50\n",
      "198/198 [==============================] - 0s 1ms/step - loss: 1.1213 - accuracy: 0.7182 - val_loss: 1.1950 - val_accuracy: 0.6924\n"
     ]
    }
   ],
   "source": [
    "history = model2.fit(X_train, y_train, validation_data=validation_data, batch_size=bsize, epochs=nEpochs)"
   ]
  },
  {
   "cell_type": "code",
   "execution_count": 17,
   "metadata": {},
   "outputs": [
    {
     "data": {
      "image/png": "[encoded data removed]",
      "text/plain": [
       "<matplotlib.figure.Figure at 0x7f1bdc747160>"
      ]
     },
     "metadata": {
      "needs_background": "light"
     },
     "output_type": "display_data"
    }
   ],
   "source": [
    "make_plot(history.history, fname='cicy_l1l2_reg.pdf')"
   ]
  },
  {
   "cell_type": "markdown",
   "metadata": {},
   "source": [
    "Finally try some dropout"
   ]
  },
  {
   "cell_type": "code",
   "execution_count": 18,
   "metadata": {},
   "outputs": [
    {
     "name": "stdout",
     "output_type": "stream",
     "text": [
      "Model: \"sequential_2\"\n",
      "_________________________________________________________________\n",
      "Layer (type)                 Output Shape              Param #   \n",
      "=================================================================\n",
      "d1flatten (Flatten)          (None, 180)               0         \n",
      "_________________________________________________________________\n",
      "d1layer0 (Dense)             (None, 128)               23168     \n",
      "_________________________________________________________________\n",
      "d1dropout0 (Dropout)         (None, 128)               0         \n",
      "_________________________________________________________________\n",
      "d1layer1 (Dense)             (None, 128)               16512     \n",
      "_________________________________________________________________\n",
      "d1dropout1 (Dropout)         (None, 128)               0         \n",
      "_________________________________________________________________\n",
      "d1layer2 (Dense)             (None, 128)               16512     \n",
      "_________________________________________________________________\n",
      "d1dropout2 (Dropout)         (None, 128)               0         \n",
      "_________________________________________________________________\n",
      "d1output (Dense)             (None, 19)                2451      \n",
      "=================================================================\n",
      "Total params: 58,643\n",
      "Trainable params: 58,643\n",
      "Non-trainable params: 0\n",
      "_________________________________________________________________\n"
     ]
    }
   ],
   "source": [
    "model3 = make_model(dropout=0.2, name='d1')"
   ]
  },
  {
   "cell_type": "code",
   "execution_count": 19,
   "metadata": {},
   "outputs": [
    {
     "name": "stdout",
     "output_type": "stream",
     "text": [
      "Epoch 1/50\n",
      "198/198 [==============================] - 0s 2ms/step - loss: 1.9038 - accuracy: 0.3741 - val_loss: 1.3925 - val_accuracy: 0.5772\n",
      "Epoch 2/50\n",
      "198/198 [==============================] - 0s 1ms/step - loss: 1.3343 - accuracy: 0.5689 - val_loss: 1.2173 - val_accuracy: 0.6127\n",
      "Epoch 3/50\n",
      "198/198 [==============================] - 0s 1ms/step - loss: 1.2005 - accuracy: 0.6154 - val_loss: 1.1442 - val_accuracy: 0.6386\n",
      "Epoch 4/50\n",
      "198/198 [==============================] - 0s 1ms/step - loss: 1.1203 - accuracy: 0.6409 - val_loss: 1.0715 - val_accuracy: 0.6532\n",
      "Epoch 5/50\n",
      "198/198 [==============================] - 0s 1ms/step - loss: 1.0862 - accuracy: 0.6431 - val_loss: 1.0606 - val_accuracy: 0.6633\n",
      "Epoch 6/50\n",
      "198/198 [==============================] - 0s 1ms/step - loss: 1.0577 - accuracy: 0.6555 - val_loss: 1.0379 - val_accuracy: 0.6665\n",
      "Epoch 7/50\n",
      "198/198 [==============================] - 0s 1ms/step - loss: 1.0259 - accuracy: 0.6693 - val_loss: 1.0052 - val_accuracy: 0.6867\n",
      "Epoch 8/50\n",
      "198/198 [==============================] - 0s 1ms/step - loss: 0.9911 - accuracy: 0.6789 - val_loss: 0.9774 - val_accuracy: 0.6968\n",
      "Epoch 9/50\n",
      "198/198 [==============================] - 0s 1ms/step - loss: 0.9681 - accuracy: 0.6903 - val_loss: 0.9746 - val_accuracy: 0.6911\n",
      "Epoch 10/50\n",
      "198/198 [==============================] - 0s 1ms/step - loss: 0.9600 - accuracy: 0.6873 - val_loss: 0.9293 - val_accuracy: 0.7019\n",
      "Epoch 11/50\n",
      "198/198 [==============================] - 0s 1ms/step - loss: 0.9416 - accuracy: 0.7020 - val_loss: 0.9397 - val_accuracy: 0.6924\n",
      "Epoch 12/50\n",
      "198/198 [==============================] - 0s 1ms/step - loss: 0.9246 - accuracy: 0.7000 - val_loss: 0.9221 - val_accuracy: 0.7038\n",
      "Epoch 13/50\n",
      "198/198 [==============================] - 0s 1ms/step - loss: 0.9215 - accuracy: 0.7023 - val_loss: 0.9421 - val_accuracy: 0.6918\n",
      "Epoch 14/50\n",
      "198/198 [==============================] - 0s 1ms/step - loss: 0.9231 - accuracy: 0.6990 - val_loss: 0.9154 - val_accuracy: 0.7013\n",
      "Epoch 15/50\n",
      "198/198 [==============================] - 0s 1ms/step - loss: 0.8928 - accuracy: 0.7072 - val_loss: 0.8785 - val_accuracy: 0.7127\n",
      "Epoch 16/50\n",
      "198/198 [==============================] - 0s 1ms/step - loss: 0.8690 - accuracy: 0.7120 - val_loss: 0.8558 - val_accuracy: 0.7171\n",
      "Epoch 17/50\n",
      "198/198 [==============================] - 0s 1ms/step - loss: 0.8484 - accuracy: 0.7248 - val_loss: 0.8658 - val_accuracy: 0.7165\n",
      "Epoch 18/50\n",
      "198/198 [==============================] - 0s 1ms/step - loss: 0.8426 - accuracy: 0.7202 - val_loss: 0.8673 - val_accuracy: 0.7253\n",
      "Epoch 19/50\n",
      "198/198 [==============================] - 0s 1ms/step - loss: 0.8451 - accuracy: 0.7188 - val_loss: 0.8496 - val_accuracy: 0.7247\n",
      "Epoch 20/50\n",
      "198/198 [==============================] - 0s 1ms/step - loss: 0.8297 - accuracy: 0.7215 - val_loss: 0.8478 - val_accuracy: 0.7253\n",
      "Epoch 21/50\n",
      "198/198 [==============================] - 0s 1ms/step - loss: 0.8182 - accuracy: 0.7231 - val_loss: 0.8200 - val_accuracy: 0.7297\n",
      "Epoch 22/50\n",
      "198/198 [==============================] - 0s 1ms/step - loss: 0.8139 - accuracy: 0.7303 - val_loss: 0.8316 - val_accuracy: 0.7234\n",
      "Epoch 23/50\n",
      "198/198 [==============================] - 0s 1ms/step - loss: 0.7806 - accuracy: 0.7452 - val_loss: 0.7975 - val_accuracy: 0.7342\n",
      "Epoch 24/50\n",
      "198/198 [==============================] - 0s 1ms/step - loss: 0.7777 - accuracy: 0.7379 - val_loss: 0.8199 - val_accuracy: 0.7310\n",
      "Epoch 25/50\n",
      "198/198 [==============================] - 0s 1ms/step - loss: 0.7920 - accuracy: 0.7349 - val_loss: 0.8520 - val_accuracy: 0.7297\n",
      "Epoch 26/50\n",
      "198/198 [==============================] - 0s 1ms/step - loss: 0.7643 - accuracy: 0.7468 - val_loss: 0.8036 - val_accuracy: 0.7367\n",
      "Epoch 27/50\n",
      "198/198 [==============================] - 0s 1ms/step - loss: 0.7584 - accuracy: 0.7433 - val_loss: 0.8034 - val_accuracy: 0.7310\n",
      "Epoch 28/50\n",
      "198/198 [==============================] - 0s 1ms/step - loss: 0.7473 - accuracy: 0.7489 - val_loss: 0.7855 - val_accuracy: 0.7316\n",
      "Epoch 29/50\n",
      "198/198 [==============================] - 0s 1ms/step - loss: 0.7490 - accuracy: 0.7444 - val_loss: 0.7804 - val_accuracy: 0.7443\n",
      "Epoch 30/50\n",
      "198/198 [==============================] - 0s 1ms/step - loss: 0.7380 - accuracy: 0.7484 - val_loss: 0.7866 - val_accuracy: 0.7424\n",
      "Epoch 31/50\n",
      "198/198 [==============================] - 0s 1ms/step - loss: 0.7190 - accuracy: 0.7602 - val_loss: 0.7826 - val_accuracy: 0.7449\n",
      "Epoch 32/50\n",
      "198/198 [==============================] - 0s 1ms/step - loss: 0.7293 - accuracy: 0.7545 - val_loss: 0.7728 - val_accuracy: 0.7456\n",
      "Epoch 33/50\n",
      "198/198 [==============================] - 0s 1ms/step - loss: 0.7071 - accuracy: 0.7615 - val_loss: 0.7350 - val_accuracy: 0.7557\n",
      "Epoch 34/50\n",
      "198/198 [==============================] - 0s 1ms/step - loss: 0.7095 - accuracy: 0.7602 - val_loss: 0.7505 - val_accuracy: 0.7589\n",
      "Epoch 35/50\n",
      "198/198 [==============================] - 0s 1ms/step - loss: 0.6964 - accuracy: 0.7644 - val_loss: 0.7467 - val_accuracy: 0.7576\n",
      "Epoch 36/50\n",
      "198/198 [==============================] - 0s 1ms/step - loss: 0.6835 - accuracy: 0.7729 - val_loss: 0.7422 - val_accuracy: 0.7582\n",
      "Epoch 37/50\n",
      "198/198 [==============================] - 0s 1ms/step - loss: 0.6758 - accuracy: 0.7669 - val_loss: 0.7395 - val_accuracy: 0.7709\n",
      "Epoch 38/50\n",
      "198/198 [==============================] - 0s 1ms/step - loss: 0.6737 - accuracy: 0.7710 - val_loss: 0.7381 - val_accuracy: 0.7608\n",
      "Epoch 39/50\n",
      "198/198 [==============================] - 0s 1ms/step - loss: 0.6525 - accuracy: 0.7746 - val_loss: 0.7355 - val_accuracy: 0.7608\n",
      "Epoch 40/50\n",
      "198/198 [==============================] - 0s 1ms/step - loss: 0.6392 - accuracy: 0.7803 - val_loss: 0.7351 - val_accuracy: 0.7576\n",
      "Epoch 41/50\n",
      "198/198 [==============================] - 0s 1ms/step - loss: 0.6563 - accuracy: 0.7748 - val_loss: 0.7274 - val_accuracy: 0.7677\n",
      "Epoch 42/50\n",
      "198/198 [==============================] - 0s 1ms/step - loss: 0.6560 - accuracy: 0.7701 - val_loss: 0.7170 - val_accuracy: 0.7595\n",
      "Epoch 43/50\n",
      "198/198 [==============================] - 0s 1ms/step - loss: 0.6422 - accuracy: 0.7753 - val_loss: 0.7394 - val_accuracy: 0.7601\n",
      "Epoch 44/50\n",
      "198/198 [==============================] - 0s 1ms/step - loss: 0.6365 - accuracy: 0.7829 - val_loss: 0.7362 - val_accuracy: 0.7582\n",
      "Epoch 45/50\n",
      "198/198 [==============================] - 0s 1ms/step - loss: 0.6165 - accuracy: 0.7870 - val_loss: 0.7133 - val_accuracy: 0.7753\n",
      "Epoch 46/50\n",
      "198/198 [==============================] - 0s 1ms/step - loss: 0.6173 - accuracy: 0.7846 - val_loss: 0.7314 - val_accuracy: 0.7627\n",
      "Epoch 47/50\n",
      "198/198 [==============================] - 0s 1ms/step - loss: 0.6175 - accuracy: 0.7848 - val_loss: 0.7706 - val_accuracy: 0.7627\n",
      "Epoch 48/50\n",
      "198/198 [==============================] - 0s 1ms/step - loss: 0.6149 - accuracy: 0.7890 - val_loss: 0.7373 - val_accuracy: 0.7620\n",
      "Epoch 49/50\n",
      "198/198 [==============================] - 0s 1ms/step - loss: 0.5919 - accuracy: 0.7930 - val_loss: 0.7123 - val_accuracy: 0.7690\n",
      "Epoch 50/50\n",
      "198/198 [==============================] - 0s 1ms/step - loss: 0.6013 - accuracy: 0.7940 - val_loss: 0.7121 - val_accuracy: 0.7753\n"
     ]
    }
   ],
   "source": [
    "history = model3.fit(X_train, y_train, validation_data=validation_data, batch_size=bsize, epochs=nEpochs)"
   ]
  },
  {
   "cell_type": "code",
   "execution_count": 20,
   "metadata": {},
   "outputs": [
    {
     "data": {
      "image/png": "[encoded data removed]",
      "text/plain": [
       "<matplotlib.figure.Figure at 0x7f1bdc667da0>"
      ]
     },
     "metadata": {
      "needs_background": "light"
     },
     "output_type": "display_data"
    }
   ],
   "source": [
    "make_plot(history.history, fname='cicy_dropout.pdf')"
   ]
  },
  {
   "cell_type": "markdown",
   "metadata": {},
   "source": [
    "### Inception model\n",
    "\n",
    "The best performing model is based on the more modern inception architectures. \n",
    "\n",
    " - train, test: 1:3\n",
    " - accuracy: 97.6%\n",
    "    \n",
    "Can we reproduce this?"
   ]
  },
  {
   "cell_type": "code",
   "execution_count": 21,
   "metadata": {},
   "outputs": [],
   "source": [
    "from tensorflow.python.keras.engine import training"
   ]
  },
  {
   "cell_type": "code",
   "execution_count": 22,
   "metadata": {},
   "outputs": [],
   "source": [
    "def conv2d_bn(x, filters, num_row, num_col, padding='same', \n",
    "                  strides=(1,1), name='None', l1 = 0.0001, l2 = 0.001):\n",
    "    x = tfk.layers.Conv2D(filters, (num_row, num_col), strides=strides,\n",
    "                         padding=padding, use_bias=False, name=name+'_conv',\n",
    "                         kernel_regularizer=tfk.regularizers.l1_l2(l1=l1, l2=l2))(x)\n",
    "    x = tfk.layers.BatchNormalization(axis=-1, scale=False, name=name+'_bn')(x)\n",
    "    x = tfk.layers.Activation('relu', name=name)(x)\n",
    "    return x"
   ]
  },
  {
   "cell_type": "code",
   "execution_count": 23,
   "metadata": {},
   "outputs": [],
   "source": [
    "def inception_model(input_shape, nunits, lreg, nDense, nBlock, num_classes, lr, momentum):\n",
    "    inputs = tfk.layers.Input(shape = input_shape, name='input')\n",
    "    x = inputs\n",
    "    for i in range(nBlock):\n",
    "        branch12x1 = conv2d_bn(x, nunits[i], 12, 1, l1=lreg[0], l2=lreg[1], name = 'b'+str(i)+'_12x1')\n",
    "        branch1x15 = conv2d_bn(x, nunits[i], 1, 15, l1=lreg[0], l2=lreg[1], name = 'b'+str(i)+'_1x15')\n",
    "        x = tfk.layers.concatenate([branch12x1, branch1x15], axis=-1, name='block'+str(i))\n",
    "\n",
    "    x = tfk.layers.Dropout(rate=0.2, name='dropout')(x)\n",
    "    x = tfk.layers.Flatten(name='flatten')(x)\n",
    "    for i in range(nDense):\n",
    "        x = tfk.layers.Dense(nunits[nBlock-1+i], activation='relu', name='dense'+str(i),\n",
    "                            kernel_regularizer=tfk.regularizers.l1_l2(l1=lreg[0], l2=lreg[1]))(x)\n",
    "\n",
    "    if num_classes > 1:\n",
    "        #classification\n",
    "        x = tfk.layers.Dense(num_classes, activation='softmax', name='prediction',\n",
    "                            kernel_regularizer=tfk.regularizers.l1_l2(l1=lreg[0], l2=lreg[1]))(x)\n",
    "    else:\n",
    "        #regression\n",
    "        x = tfk.layers.Dense(1, name='prediction',\n",
    "                            kernel_regularizer=tfk.regularizers.l1_l2(l1=lreg[0], l2=lreg[1]))(x)\n",
    "\n",
    "    model = training.Model(inputs, x, name='inception')\n",
    "    #model.build(input_shape)\n",
    "    optimizer = tfk.optimizers.SGD(lr = lr, momentum = momentum)\n",
    "    \n",
    "    if num_classes > 1:\n",
    "        model.compile(loss=\"categorical_crossentropy\", optimizer=optimizer, metrics=[\"accuracy\"])\n",
    "    else:\n",
    "        model.compile(loss=\"mean_squared_error\", optimizer=optimizer, metrics=[\"mean_squared_error\"])\n",
    "    model.summary()\n",
    "    return model"
   ]
  },
  {
   "cell_type": "code",
   "execution_count": 24,
   "metadata": {},
   "outputs": [],
   "source": [
    "def scheduler(epoch, lr):\n",
    "    if epoch < 10:\n",
    "        return lr\n",
    "    else:\n",
    "        return lr * tf.math.exp(-0.1)\n",
    "callback = tf.keras.callbacks.LearningRateScheduler(scheduler)"
   ]
  },
  {
   "cell_type": "markdown",
   "metadata": {},
   "source": [
    "hyperparameters are taken from [2007.13379](https://arxiv.org/pdf/2007.13379.pdf)"
   ]
  },
  {
   "cell_type": "code",
   "execution_count": 25,
   "metadata": {},
   "outputs": [
    {
     "name": "stdout",
     "output_type": "stream",
     "text": [
      "Model: \"inception\"\n",
      "__________________________________________________________________________________________________\n",
      "Layer (type)                    Output Shape         Param #     Connected to                     \n",
      "==================================================================================================\n",
      "input (InputLayer)              [(None, 12, 15, 1)]  0                                            \n",
      "__________________________________________________________________________________________________\n",
      "b0_12x1_conv (Conv2D)           (None, 12, 15, 32)   384         input[0][0]                      \n",
      "__________________________________________________________________________________________________\n",
      "b0_1x15_conv (Conv2D)           (None, 12, 15, 32)   480         input[0][0]                      \n",
      "__________________________________________________________________________________________________\n",
      "b0_12x1_bn (BatchNormalization) (None, 12, 15, 32)   96          b0_12x1_conv[0][0]               \n",
      "__________________________________________________________________________________________________\n",
      "b0_1x15_bn (BatchNormalization) (None, 12, 15, 32)   96          b0_1x15_conv[0][0]               \n",
      "__________________________________________________________________________________________________\n",
      "b0_12x1 (Activation)            (None, 12, 15, 32)   0           b0_12x1_bn[0][0]                 \n",
      "__________________________________________________________________________________________________\n",
      "b0_1x15 (Activation)            (None, 12, 15, 32)   0           b0_1x15_bn[0][0]                 \n",
      "__________________________________________________________________________________________________\n",
      "block0 (Concatenate)            (None, 12, 15, 64)   0           b0_12x1[0][0]                    \n",
      "                                                                 b0_1x15[0][0]                    \n",
      "__________________________________________________________________________________________________\n",
      "b1_12x1_conv (Conv2D)           (None, 12, 15, 64)   49152       block0[0][0]                     \n",
      "__________________________________________________________________________________________________\n",
      "b1_1x15_conv (Conv2D)           (None, 12, 15, 64)   61440       block0[0][0]                     \n",
      "__________________________________________________________________________________________________\n",
      "b1_12x1_bn (BatchNormalization) (None, 12, 15, 64)   192         b1_12x1_conv[0][0]               \n",
      "__________________________________________________________________________________________________\n",
      "b1_1x15_bn (BatchNormalization) (None, 12, 15, 64)   192         b1_1x15_conv[0][0]               \n",
      "__________________________________________________________________________________________________\n",
      "b1_12x1 (Activation)            (None, 12, 15, 64)   0           b1_12x1_bn[0][0]                 \n",
      "__________________________________________________________________________________________________\n",
      "b1_1x15 (Activation)            (None, 12, 15, 64)   0           b1_1x15_bn[0][0]                 \n",
      "__________________________________________________________________________________________________\n",
      "block1 (Concatenate)            (None, 12, 15, 128)  0           b1_12x1[0][0]                    \n",
      "                                                                 b1_1x15[0][0]                    \n",
      "__________________________________________________________________________________________________\n",
      "b2_12x1_conv (Conv2D)           (None, 12, 15, 32)   49152       block1[0][0]                     \n",
      "__________________________________________________________________________________________________\n",
      "b2_1x15_conv (Conv2D)           (None, 12, 15, 32)   61440       block1[0][0]                     \n",
      "__________________________________________________________________________________________________\n",
      "b2_12x1_bn (BatchNormalization) (None, 12, 15, 32)   96          b2_12x1_conv[0][0]               \n",
      "__________________________________________________________________________________________________\n",
      "b2_1x15_bn (BatchNormalization) (None, 12, 15, 32)   96          b2_1x15_conv[0][0]               \n",
      "__________________________________________________________________________________________________\n",
      "b2_12x1 (Activation)            (None, 12, 15, 32)   0           b2_12x1_bn[0][0]                 \n",
      "__________________________________________________________________________________________________\n",
      "b2_1x15 (Activation)            (None, 12, 15, 32)   0           b2_1x15_bn[0][0]                 \n",
      "__________________________________________________________________________________________________\n",
      "block2 (Concatenate)            (None, 12, 15, 64)   0           b2_12x1[0][0]                    \n",
      "                                                                 b2_1x15[0][0]                    \n",
      "__________________________________________________________________________________________________\n",
      "dropout (Dropout)               (None, 12, 15, 64)   0           block2[0][0]                     \n",
      "__________________________________________________________________________________________________\n",
      "flatten (Flatten)               (None, 11520)        0           dropout[0][0]                    \n",
      "__________________________________________________________________________________________________\n",
      "prediction (Dense)              (None, 19)           218899      flatten[0][0]                    \n",
      "==================================================================================================\n",
      "Total params: 441,715\n",
      "Trainable params: 441,203\n",
      "Non-trainable params: 512\n",
      "__________________________________________________________________________________________________\n"
     ]
    }
   ],
   "source": [
    "input_shape = (12,15,1)\n",
    "units = [32,64,32]\n",
    "lreg = [0.0001, 0.001]\n",
    "lr = 0.0001\n",
    "momentum = 0.99\n",
    "imodel = inception_model(input_shape, units, lreg, 0, len(units), num_classes, lr, momentum)"
   ]
  },
  {
   "cell_type": "code",
   "execution_count": 26,
   "metadata": {},
   "outputs": [
    {
     "name": "stdout",
     "output_type": "stream",
     "text": [
      "Epoch 1/20\n",
      "87/87 [==============================] - 9s 107ms/step - loss: 3.2841 - accuracy: 0.4048 - val_loss: 3.3058 - val_accuracy: 0.2002\n",
      "Epoch 2/20\n",
      "87/87 [==============================] - 8s 94ms/step - loss: 2.3760 - accuracy: 0.6302 - val_loss: 3.1195 - val_accuracy: 0.1998\n",
      "Epoch 3/20\n",
      "87/87 [==============================] - 8s 95ms/step - loss: 2.0601 - accuracy: 0.6910 - val_loss: 3.0868 - val_accuracy: 0.3387\n",
      "Epoch 4/20\n",
      "87/87 [==============================] - 8s 96ms/step - loss: 1.8534 - accuracy: 0.7377 - val_loss: 2.7506 - val_accuracy: 0.5242\n",
      "Epoch 5/20\n",
      "87/87 [==============================] - 8s 96ms/step - loss: 1.6227 - accuracy: 0.8263 - val_loss: 2.4248 - val_accuracy: 0.6271\n",
      "Epoch 6/20\n",
      "87/87 [==============================] - 8s 96ms/step - loss: 1.5020 - accuracy: 0.8770 - val_loss: 2.2662 - val_accuracy: 0.6588\n",
      "Epoch 7/20\n",
      "87/87 [==============================] - 8s 96ms/step - loss: 1.4494 - accuracy: 0.8933 - val_loss: 2.0306 - val_accuracy: 0.7120\n",
      "Epoch 8/20\n",
      "87/87 [==============================] - 8s 96ms/step - loss: 1.4007 - accuracy: 0.9114 - val_loss: 2.0139 - val_accuracy: 0.7215\n",
      "Epoch 9/20\n",
      "87/87 [==============================] - 8s 96ms/step - loss: 1.3361 - accuracy: 0.9378 - val_loss: 2.0718 - val_accuracy: 0.7126\n",
      "Epoch 10/20\n",
      "87/87 [==============================] - 8s 96ms/step - loss: 1.2770 - accuracy: 0.9591 - val_loss: 1.9822 - val_accuracy: 0.7387\n",
      "Epoch 11/20\n",
      "87/87 [==============================] - 8s 96ms/step - loss: 1.2405 - accuracy: 0.9667 - val_loss: 1.9636 - val_accuracy: 0.7424\n",
      "Epoch 12/20\n",
      "87/87 [==============================] - 8s 96ms/step - loss: 1.2222 - accuracy: 0.9747 - val_loss: 1.9736 - val_accuracy: 0.7404\n",
      "Epoch 13/20\n",
      "87/87 [==============================] - 8s 96ms/step - loss: 1.2005 - accuracy: 0.9815 - val_loss: 1.9806 - val_accuracy: 0.7400\n",
      "Epoch 14/20\n",
      "87/87 [==============================] - 8s 96ms/step - loss: 1.1852 - accuracy: 0.9873 - val_loss: 2.0000 - val_accuracy: 0.7377\n",
      "Epoch 15/20\n",
      "87/87 [==============================] - 8s 96ms/step - loss: 1.1649 - accuracy: 0.9902 - val_loss: 1.9639 - val_accuracy: 0.7457\n",
      "Epoch 16/20\n",
      "87/87 [==============================] - 8s 96ms/step - loss: 1.1571 - accuracy: 0.9899 - val_loss: 1.9516 - val_accuracy: 0.7496\n",
      "Epoch 17/20\n",
      "87/87 [==============================] - 8s 96ms/step - loss: 1.1484 - accuracy: 0.9924 - val_loss: 1.9741 - val_accuracy: 0.7466\n",
      "Epoch 18/20\n",
      "87/87 [==============================] - 8s 97ms/step - loss: 1.1420 - accuracy: 0.9935 - val_loss: 1.9700 - val_accuracy: 0.7501\n",
      "Epoch 19/20\n",
      "87/87 [==============================] - 8s 96ms/step - loss: 1.1349 - accuracy: 0.9946 - val_loss: 1.9568 - val_accuracy: 0.7503\n",
      "Epoch 20/20\n",
      "87/87 [==============================] - 8s 96ms/step - loss: 1.1307 - accuracy: 0.9949 - val_loss: 1.9401 - val_accuracy: 0.7538\n"
     ]
    }
   ],
   "source": [
    "xdata = np.expand_dims(cicylist, axis=-1)\n",
    "ydata = one_hot_h11#h11\n",
    "X_train, X_test, y_train, y_test = train_test_split(\n",
    "        xdata, ydata, test_size=0.65, random_state=42)\n",
    "validation_data = (X_test, y_test)\n",
    "\n",
    "bsize = 32\n",
    "nEpochs = 20\n",
    "history = imodel.fit(X_train, y_train, validation_data=validation_data,\n",
    "              batch_size=bsize, epochs=nEpochs, callbacks=[callback])"
   ]
  },
  {
   "cell_type": "code",
   "execution_count": 27,
   "metadata": {},
   "outputs": [
    {
     "data": {
      "image/png": "[encoded data removed]",
      "text/plain": [
       "<matplotlib.figure.Figure at 0x7f1bdc6b7dd8>"
      ]
     },
     "metadata": {
      "needs_background": "light"
     },
     "output_type": "display_data"
    }
   ],
   "source": [
    "make_plot(history.history, fname='cicy_inception.pdf')"
   ]
  },
  {
   "cell_type": "markdown",
   "metadata": {},
   "source": [
    "What about regression?"
   ]
  },
  {
   "cell_type": "code",
   "execution_count": 28,
   "metadata": {},
   "outputs": [
    {
     "name": "stdout",
     "output_type": "stream",
     "text": [
      "Model: \"inception\"\n",
      "__________________________________________________________________________________________________\n",
      "Layer (type)                    Output Shape         Param #     Connected to                     \n",
      "==================================================================================================\n",
      "input (InputLayer)              [(None, 12, 15, 1)]  0                                            \n",
      "__________________________________________________________________________________________________\n",
      "b0_12x1_conv (Conv2D)           (None, 12, 15, 32)   384         input[0][0]                      \n",
      "__________________________________________________________________________________________________\n",
      "b0_1x15_conv (Conv2D)           (None, 12, 15, 32)   480         input[0][0]                      \n",
      "__________________________________________________________________________________________________\n",
      "b0_12x1_bn (BatchNormalization) (None, 12, 15, 32)   96          b0_12x1_conv[0][0]               \n",
      "__________________________________________________________________________________________________\n",
      "b0_1x15_bn (BatchNormalization) (None, 12, 15, 32)   96          b0_1x15_conv[0][0]               \n",
      "__________________________________________________________________________________________________\n",
      "b0_12x1 (Activation)            (None, 12, 15, 32)   0           b0_12x1_bn[0][0]                 \n",
      "__________________________________________________________________________________________________\n",
      "b0_1x15 (Activation)            (None, 12, 15, 32)   0           b0_1x15_bn[0][0]                 \n",
      "__________________________________________________________________________________________________\n",
      "block0 (Concatenate)            (None, 12, 15, 64)   0           b0_12x1[0][0]                    \n",
      "                                                                 b0_1x15[0][0]                    \n",
      "__________________________________________________________________________________________________\n",
      "b1_12x1_conv (Conv2D)           (None, 12, 15, 64)   49152       block0[0][0]                     \n",
      "__________________________________________________________________________________________________\n",
      "b1_1x15_conv (Conv2D)           (None, 12, 15, 64)   61440       block0[0][0]                     \n",
      "__________________________________________________________________________________________________\n",
      "b1_12x1_bn (BatchNormalization) (None, 12, 15, 64)   192         b1_12x1_conv[0][0]               \n",
      "__________________________________________________________________________________________________\n",
      "b1_1x15_bn (BatchNormalization) (None, 12, 15, 64)   192         b1_1x15_conv[0][0]               \n",
      "__________________________________________________________________________________________________\n",
      "b1_12x1 (Activation)            (None, 12, 15, 64)   0           b1_12x1_bn[0][0]                 \n",
      "__________________________________________________________________________________________________\n",
      "b1_1x15 (Activation)            (None, 12, 15, 64)   0           b1_1x15_bn[0][0]                 \n",
      "__________________________________________________________________________________________________\n",
      "block1 (Concatenate)            (None, 12, 15, 128)  0           b1_12x1[0][0]                    \n",
      "                                                                 b1_1x15[0][0]                    \n",
      "__________________________________________________________________________________________________\n",
      "b2_12x1_conv (Conv2D)           (None, 12, 15, 32)   49152       block1[0][0]                     \n",
      "__________________________________________________________________________________________________\n",
      "b2_1x15_conv (Conv2D)           (None, 12, 15, 32)   61440       block1[0][0]                     \n",
      "__________________________________________________________________________________________________\n",
      "b2_12x1_bn (BatchNormalization) (None, 12, 15, 32)   96          b2_12x1_conv[0][0]               \n",
      "__________________________________________________________________________________________________\n",
      "b2_1x15_bn (BatchNormalization) (None, 12, 15, 32)   96          b2_1x15_conv[0][0]               \n",
      "__________________________________________________________________________________________________\n",
      "b2_12x1 (Activation)            (None, 12, 15, 32)   0           b2_12x1_bn[0][0]                 \n",
      "__________________________________________________________________________________________________\n",
      "b2_1x15 (Activation)            (None, 12, 15, 32)   0           b2_1x15_bn[0][0]                 \n",
      "__________________________________________________________________________________________________\n",
      "block2 (Concatenate)            (None, 12, 15, 64)   0           b2_12x1[0][0]                    \n",
      "                                                                 b2_1x15[0][0]                    \n",
      "__________________________________________________________________________________________________\n",
      "dropout (Dropout)               (None, 12, 15, 64)   0           block2[0][0]                     \n",
      "__________________________________________________________________________________________________\n",
      "flatten (Flatten)               (None, 11520)        0           dropout[0][0]                    \n",
      "__________________________________________________________________________________________________\n",
      "prediction (Dense)              (None, 1)            11521       flatten[0][0]                    \n",
      "==================================================================================================\n",
      "Total params: 234,337\n",
      "Trainable params: 233,825\n",
      "Non-trainable params: 512\n",
      "__________________________________________________________________________________________________\n"
     ]
    }
   ],
   "source": [
    "model_reg = inception_model(input_shape, units, lreg, 0, len(units), -1, lr, momentum)"
   ]
  },
  {
   "cell_type": "code",
   "execution_count": 29,
   "metadata": {},
   "outputs": [
    {
     "name": "stdout",
     "output_type": "stream",
     "text": [
      "Epoch 1/20\n",
      "87/87 [==============================] - 8s 95ms/step - loss: 25.3979 - mean_squared_error: 24.5050 - val_loss: 40.4031 - val_mean_squared_error: 39.4639\n",
      "Epoch 2/20\n",
      "87/87 [==============================] - 8s 94ms/step - loss: 7.1456 - mean_squared_error: 6.1441 - val_loss: 49.4222 - val_mean_squared_error: 48.3598\n",
      "Epoch 3/20\n",
      "87/87 [==============================] - 8s 97ms/step - loss: 4.2990 - mean_squared_error: 3.1938 - val_loss: 20.9906 - val_mean_squared_error: 19.8495\n",
      "Epoch 4/20\n",
      "87/87 [==============================] - 8s 95ms/step - loss: 3.5655 - mean_squared_error: 2.4039 - val_loss: 7.9915 - val_mean_squared_error: 6.8136\n",
      "Epoch 5/20\n",
      "87/87 [==============================] - 8s 95ms/step - loss: 2.8727 - mean_squared_error: 1.6866 - val_loss: 3.7183 - val_mean_squared_error: 2.5261\n",
      "Epoch 6/20\n",
      "87/87 [==============================] - 8s 97ms/step - loss: 2.7155 - mean_squared_error: 1.5210 - val_loss: 2.7777 - val_mean_squared_error: 1.5818\n",
      "Epoch 7/20\n",
      "87/87 [==============================] - 8s 94ms/step - loss: 2.5550 - mean_squared_error: 1.3594 - val_loss: 2.5709 - val_mean_squared_error: 1.3760\n",
      "Epoch 8/20\n",
      "87/87 [==============================] - 8s 95ms/step - loss: 2.2975 - mean_squared_error: 1.1042 - val_loss: 2.5632 - val_mean_squared_error: 1.3716\n",
      "Epoch 9/20\n",
      "87/87 [==============================] - 8s 96ms/step - loss: 2.2395 - mean_squared_error: 1.0501 - val_loss: 2.4582 - val_mean_squared_error: 1.2711\n",
      "Epoch 10/20\n",
      "87/87 [==============================] - 8s 96ms/step - loss: 2.1737 - mean_squared_error: 0.9891 - val_loss: 2.4410 - val_mean_squared_error: 1.2588\n",
      "Epoch 11/20\n",
      "87/87 [==============================] - 8s 95ms/step - loss: 2.0729 - mean_squared_error: 0.8933 - val_loss: 2.5036 - val_mean_squared_error: 1.3264\n",
      "Epoch 12/20\n",
      "87/87 [==============================] - 8s 95ms/step - loss: 2.0486 - mean_squared_error: 0.8737 - val_loss: 2.8410 - val_mean_squared_error: 1.6686\n",
      "Epoch 13/20\n",
      "87/87 [==============================] - 8s 94ms/step - loss: 2.0413 - mean_squared_error: 0.8709 - val_loss: 2.3422 - val_mean_squared_error: 1.1740\n",
      "Epoch 14/20\n",
      "87/87 [==============================] - 8s 96ms/step - loss: 1.9270 - mean_squared_error: 0.7608 - val_loss: 2.5292 - val_mean_squared_error: 1.3650\n",
      "Epoch 15/20\n",
      "87/87 [==============================] - 8s 97ms/step - loss: 1.8737 - mean_squared_error: 0.7112 - val_loss: 2.3408 - val_mean_squared_error: 1.1801\n",
      "Epoch 16/20\n",
      "87/87 [==============================] - 8s 94ms/step - loss: 1.8586 - mean_squared_error: 0.6997 - val_loss: 2.3208 - val_mean_squared_error: 1.1635\n",
      "Epoch 17/20\n",
      "87/87 [==============================] - 9s 98ms/step - loss: 1.8917 - mean_squared_error: 0.7359 - val_loss: 2.7500 - val_mean_squared_error: 1.5958\n",
      "Epoch 18/20\n",
      "87/87 [==============================] - 8s 95ms/step - loss: 1.8418 - mean_squared_error: 0.6888 - val_loss: 2.3573 - val_mean_squared_error: 1.2057\n",
      "Epoch 19/20\n",
      "87/87 [==============================] - 8s 96ms/step - loss: 1.7795 - mean_squared_error: 0.6291 - val_loss: 2.3425 - val_mean_squared_error: 1.1933\n",
      "Epoch 20/20\n",
      "87/87 [==============================] - 8s 95ms/step - loss: 1.7669 - mean_squared_error: 0.6188 - val_loss: 2.2853 - val_mean_squared_error: 1.1383\n"
     ]
    },
    {
     "data": {
      "text/plain": [
       "<tensorflow.python.keras.callbacks.History at 0x7f1bfc64c668>"
      ]
     },
     "execution_count": 29,
     "metadata": {},
     "output_type": "execute_result"
    }
   ],
   "source": [
    "ydata = h11\n",
    "X_train, X_test, y_train, y_test = train_test_split(\n",
    "        xdata, ydata, test_size=0.65, random_state=42)\n",
    "validation_data = (X_test, y_test)\n",
    "model_reg.fit(X_train, y_train, validation_data=validation_data,\n",
    "              batch_size=bsize, epochs=nEpochs, callbacks=[callback])"
   ]
  },
  {
   "cell_type": "markdown",
   "metadata": {},
   "source": [
    "Let's compute the accuracy of this regresion model"
   ]
  },
  {
   "cell_type": "code",
   "execution_count": 30,
   "metadata": {},
   "outputs": [
    {
     "data": {
      "text/plain": [
       "0.589873417721519"
      ]
     },
     "execution_count": 30,
     "metadata": {},
     "output_type": "execute_result"
    }
   ],
   "source": [
    "np.sum(np.abs(np.round(model_reg.predict(X_test)-np.expand_dims(y_test, axis=-1))) == 0)/len(y_test)"
   ]
  },
  {
   "cell_type": "markdown",
   "metadata": {},
   "source": [
    "Discrepancy to the paper can be explained with only 20 Epochs training time and a different learning rate decay schedule. They also added their batch normalization after concat, which is non standard I think, but maybe gives better accuracy in this setting."
   ]
  },
  {
   "cell_type": "markdown",
   "metadata": {},
   "source": [
    "## Exercises\n",
    "\n",
    "Pen and Paper:\n",
    "1. Reproduce equation (3) from the slides. The bias variance trade off.\n",
    "\n",
    "Machine learning:\n",
    "1. Play around with the hyperparameters of the fully connected Neural Network. Can you get more than 80% validation accurcay?\n",
    "2. What happens when you increase the test/validation percentage?\n",
    "3. Any ideas in general of what to do, when the training data is small?\n",
    "\n",
    "Physics:\n",
    "1. Reproduce the test accuracy of 2007.13379. Implement the correct learning rate decay. Train for >1000 Epochs.\n",
    "2. What about Calabi Yau 4-folds? Can you learn these? (Hint: Yes, even the more difficult $h^{3,1}$ is learnable using the Inception architecture.)"
   ]
  }
 ],
 "metadata": {
  "kernelspec": {
   "display_name": "Python 3",
   "language": "python",
   "name": "python3"
  },
  "language_info": {
   "codemirror_mode": {
    "name": "ipython",
    "version": 3
   },
   "file_extension": ".py",
   "mimetype": "text/x-python",
   "name": "python",
   "nbconvert_exporter": "python",
   "pygments_lexer": "ipython3",
   "version": "3.6.7"
  }
 },
 "nbformat": 4,
 "nbformat_minor": 4
}
