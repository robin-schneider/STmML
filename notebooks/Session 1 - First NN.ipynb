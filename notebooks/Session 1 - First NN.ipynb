{
 "cells": [
  {
   "cell_type": "markdown",
   "metadata": {},
   "source": [
    "# Session 1 - A first look at Neural Networks\n",
    "\n",
    "In this session we implement a fully connected Neural Network by hand. We will only use Numpy to handle the tensors. We do the backpropagation by hand given a cross entropy loss function.\n",
    "\n",
    "All packages used over the next few days can be installed with\n",
    "\n",
    "```console\n",
    "pip install -r requirements.txt\n",
    "```\n",
    "\n",
    "We will train the neural network on the problem of whether a given line bundle has slope zero somewhere in the Kähler cone."
   ]
  },
  {
   "cell_type": "code",
   "execution_count": 1,
   "metadata": {},
   "outputs": [],
   "source": [
    "import numpy as np"
   ]
  },
  {
   "cell_type": "markdown",
   "metadata": {},
   "source": [
    "## The NN implementation\n",
    "\n",
    "We recall a Neural Network acts by iteratively applying matrix multiplications with subsequent non linearites:\n",
    "\n",
    "$$\n",
    "z_{i+1} = \\sigma( W_i \\cdot z_{i} + b_i)\n",
    "$$\n",
    "\n",
    "For our initial network we want to study a classification problem with two Classes. Since, this is a classification problem we make use of the softmax activation function in the last layer. Furthermore, we also want to have the option to use the ReLU and sigmoid activation functions in the intermediate layers:\n",
    "\n",
    "$$\n",
    "\\text{softmax} (x_i) = p(x_i) = \\frac{e^{x_i}}{\\sum_i e^{x_i}}.\n",
    "$$\n",
    "and\n",
    "$$\n",
    "\\text{relu} (x) = \\begin{cases}\n",
    "x \\text{ if } x > 0 \\\\\n",
    "0 \\text{ else}\n",
    "\\end{cases}\n",
    "$$\n",
    "and\n",
    "$$\n",
    "\\text{sigmoid} (x) = \\frac{1}{1+e^{-x}}.\n",
    "$$\n",
    "\n",
    "Let's get started by implementing the neural network class:"
   ]
  },
  {
   "cell_type": "code",
   "execution_count": 2,
   "metadata": {},
   "outputs": [],
   "source": [
    "class NN:\n",
    "    def __init__(self, nInput, nLayer, nClasses, nHidden, activation):\n",
    "        \n",
    "        shapes = [nInput] + [nHidden for _ in range(nLayer)] + [nClasses]\n",
    "        self.b = [np.zeros(shapes[i+1]) for i in range(nLayer+1)]\n",
    "        self.W = [np.zeros((shapes[i], shapes[i+1])) for i in range(nLayer+1)]\n",
    "        self.act = [activation for _ in range(nLayer)] + ['softmax'] \n",
    "        self.nLayer = nLayer+1\n",
    "        self.nClasses = nClasses\n",
    "        self.init_weights()\n",
    "        \n",
    "    def init_weights(self,mu = 0, sigma = 0.2):\n",
    "        for i in range(self.nLayer):\n",
    "            self.W[i] = np.random.normal(mu, sigma, np.shape(self.W[i]))\n",
    "            self.b[i] = np.random.normal(mu, sigma, np.shape(self.b[i]))\n",
    "\n",
    "    def sigmoid(self, x):\n",
    "        return 1/(1+np.exp(-1*x))\n",
    "    \n",
    "    def relu(self, x):\n",
    "        return np.where(x > 0, x, 0)\n",
    "    \n",
    "    def forward(self, x, i):\n",
    "        return np.dot(x, self.W[i]) + self.b[i]\n",
    "    \n",
    "    def act_forward(self, x, act):\n",
    "        return act(x)\n",
    "    \n",
    "    def softmax(self, x):\n",
    "        # introuce numerical stability\n",
    "        x_stable = x-np.max(x)\n",
    "        e = np.exp(x_stable)\n",
    "        s = np.multiply(e, np.reshape(1/np.sum(e, axis=1), (x.shape[0],1)))\n",
    "        return s\n",
    "    \n",
    "    def activation(self, i):\n",
    "        if self.act[i] == 'relu':\n",
    "            return self.relu\n",
    "        elif self.act[i] == 'sigmoid':\n",
    "            return self.sigmoid\n",
    "        elif self.act[i] == 'softmax':\n",
    "            return self.softmax\n",
    "        \n",
    "    def predict(self, x, train = True):\n",
    "        # zk = regression\n",
    "        zk = []\n",
    "        # ak = act(zk)\n",
    "        ak = [np.copy(x)]\n",
    "        for i in range(len(self.W)):\n",
    "            zk += [self.forward(ak[-1], i)]\n",
    "            ak += [self.act_forward(zk[-1], self.activation(i))]\n",
    "            \n",
    "        pred = ak[-1]\n",
    "            \n",
    "        if train:\n",
    "            return pred, {'zk': zk, 'ak': ak}\n",
    "        else:\n",
    "            return pred\n",
    "            \n",
    "    def __call__(self, x):\n",
    "        z = x\n",
    "        for i in range(self.nLayer):\n",
    "            z = self.act_forward(self.forward(z, i), self.activation(i))\n",
    "        return z.argmax(axis=1)"
   ]
  },
  {
   "cell_type": "markdown",
   "metadata": {},
   "source": [
    "## The optimizer implementation\n",
    "\n",
    "In this section we implement the optimizer. This class will need access to the neural network weights and biases. We further need the derivatives to implement the backpropagation.\n",
    "\n",
    "$$\n",
    "\\frac{\\partial \\text{softmax}_j (x)}{\\partial x_k} = \\begin{cases} p_j(x) ( 1- p_k(x)) \\qquad &\\text{for j=k} \\\\\n",
    "- p(x_j) p(x_k) \\qquad \\qquad &\\text{for i $\\neq$ j}\n",
    "\\end{cases}\n",
    "$$\n",
    "and\n",
    "$$\n",
    "\\frac{\\partial \\text{relu} (x)}{\\partial x} = \\begin{cases}\n",
    "1 \\text{ if } x > 0 \\\\\n",
    "0 \\text{ else}\n",
    "\\end{cases}\n",
    "$$\n",
    "and\n",
    "$$\n",
    "\\frac{\\partial \\text{sigmoid} (x)}{\\partial x} = \\text{sigmoid}(x) (1 - \\text{sigmoid}(x)).\n",
    "$$\n",
    "\n",
    "The cross entropy loss for a single datapoint is defined as\n",
    "\n",
    "$$\n",
    "L = - \\sum_j y_j \\log (a_j)\n",
    "$$\n",
    "\n",
    "where $y$ is the true label and $z$ is the predicted probability. Thus, when implementing the backpropagation we arrive at\n",
    "\n",
    "$$\n",
    "\\frac{\\partial L}{\\partial p_j} = p_j - y_j.\n",
    "$$\n"
   ]
  },
  {
   "cell_type": "code",
   "execution_count": 3,
   "metadata": {},
   "outputs": [],
   "source": [
    "class optimizer:\n",
    "    def __init__(self, NN, lr):\n",
    "        self.NN = NN\n",
    "        self.lr = lr\n",
    "        \n",
    "    def update_weights(self, dw, db):\n",
    "        for i in range(self.NN.nLayer):\n",
    "            self.NN.W[i] -= self.lr*dw[-1-i]\n",
    "            self.NN.b[i] -= self.lr*db[-1-i]\n",
    "            \n",
    "    def act_backward(self, zk, act):\n",
    "        if act == 'relu':\n",
    "            return self.relu_back(zk)\n",
    "        elif act == 'sigmoid':\n",
    "            return self.sigmoid_back(zk)\n",
    "    \n",
    "    def linear_backward(self, d, i):\n",
    "        return np.dot(d, self.NN.W[i].T)\n",
    "    \n",
    "    def relu_back(self, x):\n",
    "        return np.where(x > 0, 1, 0)\n",
    "    \n",
    "    def sigmoid_back(self, x):\n",
    "        s = self.NN.sigmoid(x)\n",
    "        return s*(1-s)\n",
    "        \n",
    "    def partial_theta(self, y, zk, ak):\n",
    "        dw = []\n",
    "        db = []\n",
    "        nSample = y.shape[0]\n",
    "        \n",
    "        #first the cross entropy loss deriv\n",
    "        d = [ak[-1]-y]\n",
    "        # initialize the first dw db derivatives\n",
    "        dw += [np.dot(np.transpose(ak[-2]), d[0])/nSample]\n",
    "        db += [np.sum(d[0], axis=0)/nSample]\n",
    "\n",
    "        #next we loop over all other layers\n",
    "        for i in reversed(range(self.NN.nLayer-1)):\n",
    "            activation = self.act_backward(zk[i], self.NN.act[i])\n",
    "            lb = self.linear_backward(d[self.NN.nLayer-2-i], i+1)\n",
    "            d += [lb*activation]\n",
    "            dw += [np.dot(ak[i].T, d[-1])/nSample]\n",
    "            db += [np.sum(d[-1], axis=0)/nSample]\n",
    "            \n",
    "        return dw, db\n",
    "    \n",
    "    def compute_loss(self, ypred, ytrue, eps=1e-7):\n",
    "        #crossentropy\n",
    "        y_label = ytrue.argmax(axis=1)\n",
    "        loss = (-1)*np.mean(np.log(ypred[range(len(ypred)), y_label]+eps))\n",
    "        return loss"
   ]
  },
  {
   "cell_type": "markdown",
   "metadata": {},
   "source": [
    "## The training loop\n",
    "\n",
    "We write a training loop that takes as arguments the training and test data, the NN, the optimizer, the (mini) batch size and the number of training Epochs."
   ]
  },
  {
   "cell_type": "code",
   "execution_count": 5,
   "metadata": {},
   "outputs": [],
   "source": [
    "def training_loop(train_data, test_data, NN, optimizer, nEpochs, bSize):\n",
    "    \n",
    "    train_loss = []\n",
    "    test_loss = []\n",
    "    train_accuracy = []\n",
    "    test_accuracy = []\n",
    "    x_train, y_train = train_data\n",
    "    x_test, y_test = test_data\n",
    "    steps = int(x_train.shape[0]/bSize)\n",
    "    #t = trange(nEpochs)\n",
    "    for i in range(nEpochs):\n",
    "        shuffled_indices = np.arange(len(x_train))\n",
    "        np.random.shuffle(shuffled_indices)\n",
    "        x_train = x_train[shuffled_indices]\n",
    "        y_train = y_train[shuffled_indices]\n",
    "        for j in range(steps):\n",
    "            x_mini, y_mini = x_train[j*bSize:(j+1)*bSize], y_train[j*bSize:(j+1)*bSize]\n",
    "            y_pred, inter = NN.predict(x_mini)\n",
    "            # next we backpropagate\n",
    "            dw, db = optimizer.partial_theta(y_mini, inter['zk'], inter['ak'])\n",
    "            optimizer.update_weights(dw, db)\n",
    "            train_loss += [optimizer.compute_loss(y_pred, y_mini)]\n",
    "        test_loss += [optimizer.compute_loss(NN.predict(x_test, False), y_test)]\n",
    "        train_accuracy += [np.sum(NN(x_train) == y_train.argmax(axis=-1))/len(x_train)]\n",
    "        test_accuracy += [np.sum(NN(x_test) == y_test.argmax(axis=-1))/len(x_test)]\n",
    "        # t.set_description\n",
    "        print('Epoch {}. Train acc: {}, Test acc: {}.'.format(1+i,\n",
    "                                train_accuracy[-1], test_accuracy[-1]))\n",
    "    loss = {'train_loss': train_loss, 'test_loss': test_loss, \n",
    "            'train_accuracy': train_accuracy, 'test_accuracy': test_accuracy}\n",
    "    \n",
    "    return loss"
   ]
  },
  {
   "cell_type": "markdown",
   "metadata": {},
   "source": [
    "## The data\n",
    "\n",
    "We want to investigate whether a given line bundle over a CICY is slope stable somewhere in the Kähler cone. This amounts to solving the following constraints:\n",
    "\n",
    "$$\n",
    "\\mu(L) = d_{ijk} q^i t^j t^k = 0 \\qquad \\forall t^j > 0 \\\\\n",
    "$$\n",
    "\n",
    "This question was investigated first in varied form by [Fabian Ruehle](https://arxiv.org/pdf/1706.07024.pdf). Take the bicubic:\n",
    "\n",
    "$$\n",
    "M = \\left[\n",
    "\\begin{array}{c||c}\n",
    "2 & 3\\\\\n",
    "2 & 3\n",
    "\\end{array}\n",
    "\\right]\n",
    "$$\n",
    "which has slope constraint [with some abuse of notation]:\n",
    "$$\n",
    "\\mu(L) = 6m_0t_0t_1 + 3m_0t_1^2 + 3m_1t_0^2 + 6m_1t_0t_1.\n",
    "$$\n",
    "We will generate data using the [pyCICY](https://github.com/robin-schneider/CICY) package for line bundles with charges in the range {-10, ... ,10}."
   ]
  },
  {
   "cell_type": "code",
   "execution_count": 6,
   "metadata": {},
   "outputs": [],
   "source": [
    "from pyCICY import CICY"
   ]
  },
  {
   "cell_type": "code",
   "execution_count": 7,
   "metadata": {},
   "outputs": [],
   "source": [
    "M = CICY([[2,3],[2,3]])"
   ]
  },
  {
   "cell_type": "code",
   "execution_count": 8,
   "metadata": {},
   "outputs": [
    {
     "data": {
      "text/plain": [
       "6.0*m0*t0*t1 + 3.0*m0*t1**2 + 3.0*m1*t0**2 + 6.0*m1*t0*t1"
      ]
     },
     "execution_count": 8,
     "metadata": {},
     "output_type": "execute_result"
    }
   ],
   "source": [
    "M.line_slope()"
   ]
  },
  {
   "cell_type": "code",
   "execution_count": 9,
   "metadata": {},
   "outputs": [],
   "source": [
    "kmax = 10\n",
    "x = np.zeros((2*kmax+1, 2*kmax+1, 2))\n",
    "y = np.zeros((2*kmax+1, 2*kmax+1), dtype=np.int)\n",
    "for i in range(-kmax, kmax+1):\n",
    "    for j in range(-kmax, kmax+1):\n",
    "        x[i,j] = np.array([i,j])\n",
    "        y[i,j] = M.l_slope([i,j])[0]"
   ]
  },
  {
   "cell_type": "markdown",
   "metadata": {},
   "source": [
    "# Training the network\n",
    "\n",
    "Next we want to train the network. First we manipulate the data into a shuffled train and test split. Then, we set some hyperparameters and construct our Neural Network and optimizer. Finally, we train using our custom training loop."
   ]
  },
  {
   "cell_type": "code",
   "execution_count": 10,
   "metadata": {},
   "outputs": [
    {
     "name": "stdout",
     "output_type": "stream",
     "text": [
      "(441, 2) (441, 2)\n"
     ]
    }
   ],
   "source": [
    "x = x.reshape((-1, 2))\n",
    "y = y.reshape((-1,1))\n",
    "y = np.eye(2)[y].reshape((-1,2)) #one-hot-encoding\n",
    "print(x.shape, y.shape)\n",
    "shuffled_indices = np.arange(len(x))\n",
    "np.random.shuffle(shuffled_indices)\n",
    "x = x[shuffled_indices]\n",
    "y = y[shuffled_indices]\n",
    "train_indices = int(0.8*len(x))\n",
    "train_data = (x[0:train_indices], y[0:train_indices])\n",
    "test_data = (x[train_indices:], y[train_indices:])"
   ]
  },
  {
   "cell_type": "markdown",
   "metadata": {},
   "source": [
    "define hyperparameters"
   ]
  },
  {
   "cell_type": "code",
   "execution_count": 11,
   "metadata": {},
   "outputs": [],
   "source": [
    "nHidden = 64\n",
    "nLayers = 1\n",
    "act = 'relu'\n",
    "lr = 0.001\n",
    "nCharges = 2\n",
    "nClasses = 2\n",
    "nEpoch = 100\n",
    "bSize = 32"
   ]
  },
  {
   "cell_type": "markdown",
   "metadata": {},
   "source": [
    "define model and optimizer"
   ]
  },
  {
   "cell_type": "code",
   "execution_count": 12,
   "metadata": {},
   "outputs": [],
   "source": [
    "model = NN(nCharges, nLayers, nClasses, nHidden, act)"
   ]
  },
  {
   "cell_type": "code",
   "execution_count": 13,
   "metadata": {},
   "outputs": [],
   "source": [
    "opt = optimizer(model, lr)"
   ]
  },
  {
   "cell_type": "markdown",
   "metadata": {},
   "source": [
    "We train the model"
   ]
  },
  {
   "cell_type": "code",
   "execution_count": 14,
   "metadata": {},
   "outputs": [],
   "source": [
    "old_weights = [np.copy(w) for w in model.W]"
   ]
  },
  {
   "cell_type": "code",
   "execution_count": 15,
   "metadata": {},
   "outputs": [
    {
     "name": "stdout",
     "output_type": "stream",
     "text": [
      "Epoch 1. Train acc: 0.3778409090909091, Test acc: 0.4157303370786517.\n",
      "Epoch 2. Train acc: 0.4403409090909091, Test acc: 0.48314606741573035.\n",
      "Epoch 3. Train acc: 0.5170454545454546, Test acc: 0.550561797752809.\n",
      "Epoch 4. Train acc: 0.6107954545454546, Test acc: 0.6404494382022472.\n",
      "Epoch 5. Train acc: 0.7244318181818182, Test acc: 0.7415730337078652.\n",
      "Epoch 6. Train acc: 0.7642045454545454, Test acc: 0.8314606741573034.\n",
      "Epoch 7. Train acc: 0.8039772727272727, Test acc: 0.8426966292134831.\n",
      "Epoch 8. Train acc: 0.8352272727272727, Test acc: 0.8876404494382022.\n",
      "Epoch 9. Train acc: 0.8607954545454546, Test acc: 0.898876404494382.\n",
      "Epoch 10. Train acc: 0.8721590909090909, Test acc: 0.9325842696629213.\n",
      "Epoch 11. Train acc: 0.8892045454545454, Test acc: 0.9325842696629213.\n",
      "Epoch 12. Train acc: 0.8948863636363636, Test acc: 0.9325842696629213.\n",
      "Epoch 13. Train acc: 0.9034090909090909, Test acc: 0.9325842696629213.\n",
      "Epoch 14. Train acc: 0.9090909090909091, Test acc: 0.9438202247191011.\n",
      "Epoch 15. Train acc: 0.9147727272727273, Test acc: 0.9438202247191011.\n",
      "Epoch 16. Train acc: 0.9261363636363636, Test acc: 0.9438202247191011.\n",
      "Epoch 17. Train acc: 0.9289772727272727, Test acc: 0.9438202247191011.\n",
      "Epoch 18. Train acc: 0.9346590909090909, Test acc: 0.9438202247191011.\n",
      "Epoch 19. Train acc: 0.9375, Test acc: 0.9550561797752809.\n",
      "Epoch 20. Train acc: 0.9431818181818182, Test acc: 0.9550561797752809.\n",
      "Epoch 21. Train acc: 0.9460227272727273, Test acc: 0.9550561797752809.\n",
      "Epoch 22. Train acc: 0.9488636363636364, Test acc: 0.9550561797752809.\n",
      "Epoch 23. Train acc: 0.9517045454545454, Test acc: 0.9550561797752809.\n",
      "Epoch 24. Train acc: 0.9545454545454546, Test acc: 0.9550561797752809.\n",
      "Epoch 25. Train acc: 0.9573863636363636, Test acc: 0.9550561797752809.\n",
      "Epoch 26. Train acc: 0.9573863636363636, Test acc: 0.9550561797752809.\n",
      "Epoch 27. Train acc: 0.9602272727272727, Test acc: 0.9550561797752809.\n",
      "Epoch 28. Train acc: 0.9602272727272727, Test acc: 0.9550561797752809.\n",
      "Epoch 29. Train acc: 0.9602272727272727, Test acc: 0.9662921348314607.\n",
      "Epoch 30. Train acc: 0.9602272727272727, Test acc: 0.9662921348314607.\n",
      "Epoch 31. Train acc: 0.9602272727272727, Test acc: 0.9662921348314607.\n",
      "Epoch 32. Train acc: 0.9602272727272727, Test acc: 0.9662921348314607.\n",
      "Epoch 33. Train acc: 0.9602272727272727, Test acc: 0.9662921348314607.\n",
      "Epoch 34. Train acc: 0.9602272727272727, Test acc: 0.9662921348314607.\n",
      "Epoch 35. Train acc: 0.9602272727272727, Test acc: 0.9662921348314607.\n",
      "Epoch 36. Train acc: 0.9602272727272727, Test acc: 0.9662921348314607.\n",
      "Epoch 37. Train acc: 0.9602272727272727, Test acc: 0.9662921348314607.\n",
      "Epoch 38. Train acc: 0.9602272727272727, Test acc: 0.9662921348314607.\n",
      "Epoch 39. Train acc: 0.9602272727272727, Test acc: 0.9662921348314607.\n",
      "Epoch 40. Train acc: 0.9602272727272727, Test acc: 0.9662921348314607.\n",
      "Epoch 41. Train acc: 0.9602272727272727, Test acc: 0.9662921348314607.\n",
      "Epoch 42. Train acc: 0.9602272727272727, Test acc: 0.9662921348314607.\n",
      "Epoch 43. Train acc: 0.9602272727272727, Test acc: 0.9662921348314607.\n",
      "Epoch 44. Train acc: 0.9602272727272727, Test acc: 0.9662921348314607.\n",
      "Epoch 45. Train acc: 0.9602272727272727, Test acc: 0.9662921348314607.\n",
      "Epoch 46. Train acc: 0.9630681818181818, Test acc: 0.9662921348314607.\n",
      "Epoch 47. Train acc: 0.9630681818181818, Test acc: 0.9662921348314607.\n",
      "Epoch 48. Train acc: 0.9630681818181818, Test acc: 0.9662921348314607.\n",
      "Epoch 49. Train acc: 0.9630681818181818, Test acc: 0.9662921348314607.\n",
      "Epoch 50. Train acc: 0.9630681818181818, Test acc: 0.9662921348314607.\n",
      "Epoch 51. Train acc: 0.9630681818181818, Test acc: 0.9662921348314607.\n",
      "Epoch 52. Train acc: 0.9630681818181818, Test acc: 0.9662921348314607.\n",
      "Epoch 53. Train acc: 0.9630681818181818, Test acc: 0.9662921348314607.\n",
      "Epoch 54. Train acc: 0.9630681818181818, Test acc: 0.9662921348314607.\n",
      "Epoch 55. Train acc: 0.9630681818181818, Test acc: 0.9662921348314607.\n",
      "Epoch 56. Train acc: 0.9630681818181818, Test acc: 0.9775280898876404.\n",
      "Epoch 57. Train acc: 0.9659090909090909, Test acc: 0.9775280898876404.\n",
      "Epoch 58. Train acc: 0.9659090909090909, Test acc: 0.9887640449438202.\n",
      "Epoch 59. Train acc: 0.9659090909090909, Test acc: 0.9887640449438202.\n",
      "Epoch 60. Train acc: 0.96875, Test acc: 0.9887640449438202.\n",
      "Epoch 61. Train acc: 0.96875, Test acc: 0.9887640449438202.\n",
      "Epoch 62. Train acc: 0.96875, Test acc: 0.9887640449438202.\n",
      "Epoch 63. Train acc: 0.96875, Test acc: 0.9887640449438202.\n",
      "Epoch 64. Train acc: 0.96875, Test acc: 0.9887640449438202.\n",
      "Epoch 65. Train acc: 0.9715909090909091, Test acc: 0.9887640449438202.\n",
      "Epoch 66. Train acc: 0.9715909090909091, Test acc: 0.9887640449438202.\n",
      "Epoch 67. Train acc: 0.9715909090909091, Test acc: 0.9887640449438202.\n",
      "Epoch 68. Train acc: 0.9715909090909091, Test acc: 0.9887640449438202.\n",
      "Epoch 69. Train acc: 0.9715909090909091, Test acc: 0.9887640449438202.\n",
      "Epoch 70. Train acc: 0.9715909090909091, Test acc: 0.9887640449438202.\n",
      "Epoch 71. Train acc: 0.9715909090909091, Test acc: 0.9887640449438202.\n",
      "Epoch 72. Train acc: 0.9715909090909091, Test acc: 1.0.\n",
      "Epoch 73. Train acc: 0.9744318181818182, Test acc: 1.0.\n",
      "Epoch 74. Train acc: 0.9744318181818182, Test acc: 1.0.\n",
      "Epoch 75. Train acc: 0.9744318181818182, Test acc: 1.0.\n",
      "Epoch 76. Train acc: 0.9772727272727273, Test acc: 1.0.\n",
      "Epoch 77. Train acc: 0.9772727272727273, Test acc: 1.0.\n",
      "Epoch 78. Train acc: 0.9772727272727273, Test acc: 1.0.\n",
      "Epoch 79. Train acc: 0.9772727272727273, Test acc: 1.0.\n",
      "Epoch 80. Train acc: 0.9772727272727273, Test acc: 1.0.\n",
      "Epoch 81. Train acc: 0.9772727272727273, Test acc: 1.0.\n",
      "Epoch 82. Train acc: 0.9772727272727273, Test acc: 1.0.\n",
      "Epoch 83. Train acc: 0.9772727272727273, Test acc: 1.0.\n",
      "Epoch 84. Train acc: 0.9772727272727273, Test acc: 1.0.\n",
      "Epoch 85. Train acc: 0.9772727272727273, Test acc: 1.0.\n",
      "Epoch 86. Train acc: 0.9772727272727273, Test acc: 1.0.\n",
      "Epoch 87. Train acc: 0.9772727272727273, Test acc: 1.0.\n",
      "Epoch 88. Train acc: 0.9801136363636364, Test acc: 1.0.\n",
      "Epoch 89. Train acc: 0.9801136363636364, Test acc: 1.0.\n",
      "Epoch 90. Train acc: 0.9801136363636364, Test acc: 1.0.\n",
      "Epoch 91. Train acc: 0.9801136363636364, Test acc: 1.0.\n",
      "Epoch 92. Train acc: 0.9801136363636364, Test acc: 1.0.\n",
      "Epoch 93. Train acc: 0.9801136363636364, Test acc: 1.0.\n",
      "Epoch 94. Train acc: 0.9801136363636364, Test acc: 1.0.\n",
      "Epoch 95. Train acc: 0.9801136363636364, Test acc: 1.0.\n",
      "Epoch 96. Train acc: 0.9801136363636364, Test acc: 1.0.\n",
      "Epoch 97. Train acc: 0.9801136363636364, Test acc: 1.0.\n",
      "Epoch 98. Train acc: 0.9801136363636364, Test acc: 1.0.\n",
      "Epoch 99. Train acc: 0.9801136363636364, Test acc: 1.0.\n",
      "Epoch 100. Train acc: 0.9801136363636364, Test acc: 1.0.\n"
     ]
    }
   ],
   "source": [
    "stats = training_loop(train_data, test_data, model, opt, nEpoch, bSize)"
   ]
  },
  {
   "cell_type": "markdown",
   "metadata": {},
   "source": [
    "Lets have a closer look at these results"
   ]
  },
  {
   "cell_type": "code",
   "execution_count": 16,
   "metadata": {},
   "outputs": [],
   "source": [
    "import matplotlib.pyplot as plt"
   ]
  },
  {
   "cell_type": "code",
   "execution_count": 17,
   "metadata": {},
   "outputs": [
    {
     "data": {
      "text/plain": [
       "Text(0,0.5,'Accuracy')"
      ]
     },
     "execution_count": 17,
     "metadata": {},
     "output_type": "execute_result"
    },
    {
     "data": {
      "image/png": "[encoded data removed]",
      "text/plain": [
       "<matplotlib.figure.Figure at 0x7fd9fdd3ae10>"
      ]
     },
     "metadata": {
      "needs_background": "light"
     },
     "output_type": "display_data"
    }
   ],
   "source": [
    "plt.plot(np.arange(len(stats['train_accuracy']))+1, stats['train_accuracy'], color='red', label='train')\n",
    "plt.plot(np.arange(len(stats['test_accuracy']))+1, stats['test_accuracy'], color='blue', label='test')\n",
    "plt.legend(loc='best')\n",
    "plt.xlabel('Epochs')\n",
    "plt.ylabel('Accuracy')"
   ]
  },
  {
   "cell_type": "code",
   "execution_count": 18,
   "metadata": {},
   "outputs": [
    {
     "data": {
      "text/plain": [
       "Text(0,0.5,'loss')"
      ]
     },
     "execution_count": 18,
     "metadata": {},
     "output_type": "execute_result"
    },
    {
     "data": {
      "image/png": "[encoded data removed]",
      "text/plain": [
       "<matplotlib.figure.Figure at 0x7fda00618eb8>"
      ]
     },
     "metadata": {
      "needs_background": "light"
     },
     "output_type": "display_data"
    }
   ],
   "source": [
    "ratio = len(stats['train_loss']) / len(stats['test_loss']) \n",
    "plt.plot(np.arange(len(stats['train_loss'])), stats['train_loss'], color='red', label='train')\n",
    "plt.plot(np.arange(1, len(stats['test_loss'])+1)*ratio, stats['test_loss'], color='blue', label='test')\n",
    "plt.legend(loc='best')\n",
    "plt.xlabel('Batches')\n",
    "plt.ylabel('loss')"
   ]
  },
  {
   "cell_type": "markdown",
   "metadata": {},
   "source": [
    "## Tensorflow\n",
    "\n",
    "In this section we implement the same NN in tensorflow."
   ]
  },
  {
   "cell_type": "code",
   "execution_count": 19,
   "metadata": {},
   "outputs": [],
   "source": [
    "import tensorflow as tf\n",
    "tfk = tf.keras"
   ]
  },
  {
   "cell_type": "markdown",
   "metadata": {},
   "source": [
    "build the model"
   ]
  },
  {
   "cell_type": "code",
   "execution_count": 20,
   "metadata": {},
   "outputs": [],
   "source": [
    "tfmodel = tfk.Sequential()\n",
    "tfmodel.add(tfk.Input(shape=(2)))\n",
    "for i in range(nLayers):\n",
    "    tfmodel.add(tfk.layers.Dense(nHidden, activation=act))\n",
    "tfmodel.add(tfk.layers.Dense(nClasses))\n",
    "loss_fn = tfk.losses.SparseCategoricalCrossentropy(from_logits=True)\n",
    "tfmodel.compile(optimizer=tfk.optimizers.SGD(learning_rate=lr), \n",
    "                loss=loss_fn,\n",
    "                metrics = ['accuracy'])"
   ]
  },
  {
   "cell_type": "markdown",
   "metadata": {},
   "source": [
    "have a look at the model"
   ]
  },
  {
   "cell_type": "code",
   "execution_count": 21,
   "metadata": {},
   "outputs": [
    {
     "name": "stdout",
     "output_type": "stream",
     "text": [
      "Model: \"sequential\"\n",
      "_________________________________________________________________\n",
      "Layer (type)                 Output Shape              Param #   \n",
      "=================================================================\n",
      "dense (Dense)                (None, 64)                192       \n",
      "_________________________________________________________________\n",
      "dense_1 (Dense)              (None, 2)                 130       \n",
      "=================================================================\n",
      "Total params: 322\n",
      "Trainable params: 322\n",
      "Non-trainable params: 0\n",
      "_________________________________________________________________\n"
     ]
    }
   ],
   "source": [
    "tfmodel.summary()"
   ]
  },
  {
   "cell_type": "markdown",
   "metadata": {},
   "source": [
    "train the model"
   ]
  },
  {
   "cell_type": "code",
   "execution_count": 22,
   "metadata": {
    "scrolled": true
   },
   "outputs": [
    {
     "name": "stdout",
     "output_type": "stream",
     "text": [
      "Epoch 1/100\n",
      "11/11 [==============================] - 0s 18ms/step - loss: 0.9619 - accuracy: 0.5455 - val_loss: 0.8710 - val_accuracy: 0.5393\n",
      "Epoch 2/100\n",
      "11/11 [==============================] - 0s 3ms/step - loss: 0.8485 - accuracy: 0.5455 - val_loss: 0.7710 - val_accuracy: 0.5393\n",
      "Epoch 3/100\n",
      "11/11 [==============================] - 0s 3ms/step - loss: 0.7514 - accuracy: 0.5455 - val_loss: 0.6870 - val_accuracy: 0.5393\n",
      "Epoch 4/100\n",
      "11/11 [==============================] - 0s 3ms/step - loss: 0.6697 - accuracy: 0.5511 - val_loss: 0.6179 - val_accuracy: 0.6180\n",
      "Epoch 5/100\n",
      "11/11 [==============================] - 0s 3ms/step - loss: 0.6032 - accuracy: 0.5966 - val_loss: 0.5619 - val_accuracy: 0.6517\n",
      "Epoch 6/100\n",
      "11/11 [==============================] - 0s 3ms/step - loss: 0.5505 - accuracy: 0.6847 - val_loss: 0.5172 - val_accuracy: 0.7079\n",
      "Epoch 7/100\n",
      "11/11 [==============================] - 0s 3ms/step - loss: 0.5084 - accuracy: 0.7557 - val_loss: 0.4815 - val_accuracy: 0.8427\n",
      "Epoch 8/100\n",
      "11/11 [==============================] - 0s 2ms/step - loss: 0.4747 - accuracy: 0.8722 - val_loss: 0.4523 - val_accuracy: 0.9101\n",
      "Epoch 9/100\n",
      "11/11 [==============================] - 0s 3ms/step - loss: 0.4473 - accuracy: 0.9034 - val_loss: 0.4278 - val_accuracy: 0.9326\n",
      "Epoch 10/100\n",
      "11/11 [==============================] - 0s 3ms/step - loss: 0.4244 - accuracy: 0.9176 - val_loss: 0.4067 - val_accuracy: 0.9438\n",
      "Epoch 11/100\n",
      "11/11 [==============================] - 0s 3ms/step - loss: 0.4046 - accuracy: 0.9290 - val_loss: 0.3885 - val_accuracy: 0.9663\n",
      "Epoch 12/100\n",
      "11/11 [==============================] - 0s 2ms/step - loss: 0.3877 - accuracy: 0.9375 - val_loss: 0.3726 - val_accuracy: 0.9663\n",
      "Epoch 13/100\n",
      "11/11 [==============================] - 0s 2ms/step - loss: 0.3728 - accuracy: 0.9403 - val_loss: 0.3584 - val_accuracy: 0.9663\n",
      "Epoch 14/100\n",
      "11/11 [==============================] - 0s 2ms/step - loss: 0.3594 - accuracy: 0.9460 - val_loss: 0.3458 - val_accuracy: 0.9663\n",
      "Epoch 15/100\n",
      "11/11 [==============================] - 0s 3ms/step - loss: 0.3479 - accuracy: 0.9489 - val_loss: 0.3347 - val_accuracy: 0.9663\n",
      "Epoch 16/100\n",
      "11/11 [==============================] - 0s 3ms/step - loss: 0.3376 - accuracy: 0.9489 - val_loss: 0.3248 - val_accuracy: 0.9663\n",
      "Epoch 17/100\n",
      "11/11 [==============================] - 0s 3ms/step - loss: 0.3283 - accuracy: 0.9489 - val_loss: 0.3159 - val_accuracy: 0.9663\n",
      "Epoch 18/100\n",
      "11/11 [==============================] - 0s 3ms/step - loss: 0.3199 - accuracy: 0.9489 - val_loss: 0.3077 - val_accuracy: 0.9775\n",
      "Epoch 19/100\n",
      "11/11 [==============================] - 0s 3ms/step - loss: 0.3122 - accuracy: 0.9545 - val_loss: 0.3002 - val_accuracy: 0.9888\n",
      "Epoch 20/100\n",
      "11/11 [==============================] - 0s 3ms/step - loss: 0.3051 - accuracy: 0.9574 - val_loss: 0.2934 - val_accuracy: 1.0000\n",
      "Epoch 21/100\n",
      "11/11 [==============================] - 0s 3ms/step - loss: 0.2986 - accuracy: 0.9602 - val_loss: 0.2871 - val_accuracy: 1.0000\n",
      "Epoch 22/100\n",
      "11/11 [==============================] - 0s 3ms/step - loss: 0.2926 - accuracy: 0.9631 - val_loss: 0.2813 - val_accuracy: 1.0000\n",
      "Epoch 23/100\n",
      "11/11 [==============================] - 0s 2ms/step - loss: 0.2868 - accuracy: 0.9659 - val_loss: 0.2758 - val_accuracy: 1.0000\n",
      "Epoch 24/100\n",
      "11/11 [==============================] - 0s 3ms/step - loss: 0.2816 - accuracy: 0.9688 - val_loss: 0.2707 - val_accuracy: 1.0000\n",
      "Epoch 25/100\n",
      "11/11 [==============================] - 0s 3ms/step - loss: 0.2766 - accuracy: 0.9688 - val_loss: 0.2660 - val_accuracy: 1.0000\n",
      "Epoch 26/100\n",
      "11/11 [==============================] - 0s 3ms/step - loss: 0.2719 - accuracy: 0.9716 - val_loss: 0.2615 - val_accuracy: 1.0000\n",
      "Epoch 27/100\n",
      "11/11 [==============================] - 0s 2ms/step - loss: 0.2675 - accuracy: 0.9744 - val_loss: 0.2573 - val_accuracy: 1.0000\n",
      "Epoch 28/100\n",
      "11/11 [==============================] - 0s 3ms/step - loss: 0.2633 - accuracy: 0.9744 - val_loss: 0.2534 - val_accuracy: 1.0000\n",
      "Epoch 29/100\n",
      "11/11 [==============================] - 0s 3ms/step - loss: 0.2594 - accuracy: 0.9744 - val_loss: 0.2496 - val_accuracy: 1.0000\n",
      "Epoch 30/100\n",
      "11/11 [==============================] - 0s 3ms/step - loss: 0.2556 - accuracy: 0.9744 - val_loss: 0.2461 - val_accuracy: 1.0000\n",
      "Epoch 31/100\n",
      "11/11 [==============================] - 0s 3ms/step - loss: 0.2520 - accuracy: 0.9744 - val_loss: 0.2426 - val_accuracy: 1.0000\n",
      "Epoch 32/100\n",
      "11/11 [==============================] - 0s 3ms/step - loss: 0.2486 - accuracy: 0.9744 - val_loss: 0.2394 - val_accuracy: 1.0000\n",
      "Epoch 33/100\n",
      "11/11 [==============================] - 0s 3ms/step - loss: 0.2452 - accuracy: 0.9773 - val_loss: 0.2362 - val_accuracy: 1.0000\n",
      "Epoch 34/100\n",
      "11/11 [==============================] - 0s 2ms/step - loss: 0.2420 - accuracy: 0.9801 - val_loss: 0.2333 - val_accuracy: 1.0000\n",
      "Epoch 35/100\n",
      "11/11 [==============================] - 0s 2ms/step - loss: 0.2389 - accuracy: 0.9830 - val_loss: 0.2304 - val_accuracy: 1.0000\n",
      "Epoch 36/100\n",
      "11/11 [==============================] - 0s 3ms/step - loss: 0.2360 - accuracy: 0.9830 - val_loss: 0.2278 - val_accuracy: 1.0000\n",
      "Epoch 37/100\n",
      "11/11 [==============================] - 0s 3ms/step - loss: 0.2331 - accuracy: 0.9858 - val_loss: 0.2252 - val_accuracy: 1.0000\n",
      "Epoch 38/100\n",
      "11/11 [==============================] - 0s 3ms/step - loss: 0.2305 - accuracy: 0.9858 - val_loss: 0.2227 - val_accuracy: 1.0000\n",
      "Epoch 39/100\n",
      "11/11 [==============================] - 0s 3ms/step - loss: 0.2278 - accuracy: 0.9858 - val_loss: 0.2203 - val_accuracy: 1.0000\n",
      "Epoch 40/100\n",
      "11/11 [==============================] - 0s 3ms/step - loss: 0.2254 - accuracy: 0.9886 - val_loss: 0.2181 - val_accuracy: 1.0000\n",
      "Epoch 41/100\n",
      "11/11 [==============================] - 0s 2ms/step - loss: 0.2231 - accuracy: 0.9886 - val_loss: 0.2160 - val_accuracy: 1.0000\n",
      "Epoch 42/100\n",
      "11/11 [==============================] - 0s 3ms/step - loss: 0.2210 - accuracy: 0.9915 - val_loss: 0.2141 - val_accuracy: 1.0000\n",
      "Epoch 43/100\n",
      "11/11 [==============================] - 0s 2ms/step - loss: 0.2189 - accuracy: 0.9915 - val_loss: 0.2121 - val_accuracy: 1.0000\n",
      "Epoch 44/100\n",
      "11/11 [==============================] - 0s 2ms/step - loss: 0.2170 - accuracy: 0.9915 - val_loss: 0.2103 - val_accuracy: 1.0000\n",
      "Epoch 45/100\n",
      "11/11 [==============================] - 0s 3ms/step - loss: 0.2151 - accuracy: 0.9915 - val_loss: 0.2085 - val_accuracy: 1.0000\n",
      "Epoch 46/100\n",
      "11/11 [==============================] - 0s 3ms/step - loss: 0.2132 - accuracy: 0.9915 - val_loss: 0.2068 - val_accuracy: 1.0000\n",
      "Epoch 47/100\n",
      "11/11 [==============================] - 0s 3ms/step - loss: 0.2114 - accuracy: 0.9915 - val_loss: 0.2051 - val_accuracy: 1.0000\n",
      "Epoch 48/100\n",
      "11/11 [==============================] - 0s 3ms/step - loss: 0.2097 - accuracy: 0.9943 - val_loss: 0.2035 - val_accuracy: 1.0000\n",
      "Epoch 49/100\n",
      "11/11 [==============================] - 0s 3ms/step - loss: 0.2079 - accuracy: 0.9943 - val_loss: 0.2019 - val_accuracy: 1.0000\n",
      "Epoch 50/100\n",
      "11/11 [==============================] - 0s 3ms/step - loss: 0.2063 - accuracy: 0.9943 - val_loss: 0.2003 - val_accuracy: 1.0000\n",
      "Epoch 51/100\n",
      "11/11 [==============================] - 0s 2ms/step - loss: 0.2047 - accuracy: 0.9972 - val_loss: 0.1988 - val_accuracy: 1.0000\n",
      "Epoch 52/100\n",
      "11/11 [==============================] - 0s 3ms/step - loss: 0.2031 - accuracy: 0.9972 - val_loss: 0.1974 - val_accuracy: 1.0000\n",
      "Epoch 53/100\n",
      "11/11 [==============================] - 0s 3ms/step - loss: 0.2017 - accuracy: 0.9972 - val_loss: 0.1959 - val_accuracy: 1.0000\n",
      "Epoch 54/100\n",
      "11/11 [==============================] - 0s 3ms/step - loss: 0.2003 - accuracy: 0.9972 - val_loss: 0.1945 - val_accuracy: 1.0000\n",
      "Epoch 55/100\n",
      "11/11 [==============================] - 0s 3ms/step - loss: 0.1988 - accuracy: 0.9972 - val_loss: 0.1932 - val_accuracy: 1.0000\n",
      "Epoch 56/100\n",
      "11/11 [==============================] - 0s 3ms/step - loss: 0.1974 - accuracy: 0.9972 - val_loss: 0.1919 - val_accuracy: 1.0000\n",
      "Epoch 57/100\n",
      "11/11 [==============================] - 0s 2ms/step - loss: 0.1961 - accuracy: 0.9972 - val_loss: 0.1906 - val_accuracy: 1.0000\n",
      "Epoch 58/100\n",
      "11/11 [==============================] - 0s 3ms/step - loss: 0.1947 - accuracy: 0.9972 - val_loss: 0.1893 - val_accuracy: 1.0000\n"
     ]
    },
    {
     "name": "stdout",
     "output_type": "stream",
     "text": [
      "Epoch 59/100\n",
      "11/11 [==============================] - 0s 2ms/step - loss: 0.1935 - accuracy: 0.9972 - val_loss: 0.1881 - val_accuracy: 1.0000\n",
      "Epoch 60/100\n",
      "11/11 [==============================] - 0s 4ms/step - loss: 0.1922 - accuracy: 0.9972 - val_loss: 0.1869 - val_accuracy: 1.0000\n",
      "Epoch 61/100\n",
      "11/11 [==============================] - 0s 3ms/step - loss: 0.1910 - accuracy: 0.9972 - val_loss: 0.1858 - val_accuracy: 1.0000\n",
      "Epoch 62/100\n",
      "11/11 [==============================] - 0s 3ms/step - loss: 0.1897 - accuracy: 0.9972 - val_loss: 0.1846 - val_accuracy: 1.0000\n",
      "Epoch 63/100\n",
      "11/11 [==============================] - 0s 3ms/step - loss: 0.1886 - accuracy: 0.9972 - val_loss: 0.1835 - val_accuracy: 1.0000\n",
      "Epoch 64/100\n",
      "11/11 [==============================] - 0s 3ms/step - loss: 0.1874 - accuracy: 0.9972 - val_loss: 0.1824 - val_accuracy: 1.0000\n",
      "Epoch 65/100\n",
      "11/11 [==============================] - 0s 4ms/step - loss: 0.1863 - accuracy: 0.9972 - val_loss: 0.1813 - val_accuracy: 1.0000\n",
      "Epoch 66/100\n",
      "11/11 [==============================] - 0s 3ms/step - loss: 0.1851 - accuracy: 0.9972 - val_loss: 0.1803 - val_accuracy: 1.0000\n",
      "Epoch 67/100\n",
      "11/11 [==============================] - 0s 3ms/step - loss: 0.1841 - accuracy: 0.9972 - val_loss: 0.1793 - val_accuracy: 1.0000\n",
      "Epoch 68/100\n",
      "11/11 [==============================] - 0s 3ms/step - loss: 0.1830 - accuracy: 0.9972 - val_loss: 0.1783 - val_accuracy: 1.0000\n",
      "Epoch 69/100\n",
      "11/11 [==============================] - 0s 2ms/step - loss: 0.1819 - accuracy: 0.9972 - val_loss: 0.1773 - val_accuracy: 1.0000\n",
      "Epoch 70/100\n",
      "11/11 [==============================] - 0s 4ms/step - loss: 0.1809 - accuracy: 0.9972 - val_loss: 0.1764 - val_accuracy: 1.0000\n",
      "Epoch 71/100\n",
      "11/11 [==============================] - 0s 3ms/step - loss: 0.1798 - accuracy: 0.9972 - val_loss: 0.1754 - val_accuracy: 1.0000\n",
      "Epoch 72/100\n",
      "11/11 [==============================] - 0s 3ms/step - loss: 0.1789 - accuracy: 0.9972 - val_loss: 0.1745 - val_accuracy: 1.0000\n",
      "Epoch 73/100\n",
      "11/11 [==============================] - 0s 3ms/step - loss: 0.1780 - accuracy: 0.9972 - val_loss: 0.1736 - val_accuracy: 1.0000\n",
      "Epoch 74/100\n",
      "11/11 [==============================] - 0s 4ms/step - loss: 0.1771 - accuracy: 0.9972 - val_loss: 0.1728 - val_accuracy: 1.0000\n",
      "Epoch 75/100\n",
      "11/11 [==============================] - 0s 3ms/step - loss: 0.1761 - accuracy: 0.9972 - val_loss: 0.1719 - val_accuracy: 1.0000\n",
      "Epoch 76/100\n",
      "11/11 [==============================] - 0s 3ms/step - loss: 0.1752 - accuracy: 0.9972 - val_loss: 0.1711 - val_accuracy: 1.0000\n",
      "Epoch 77/100\n",
      "11/11 [==============================] - 0s 3ms/step - loss: 0.1744 - accuracy: 0.9972 - val_loss: 0.1702 - val_accuracy: 1.0000\n",
      "Epoch 78/100\n",
      "11/11 [==============================] - 0s 3ms/step - loss: 0.1735 - accuracy: 0.9972 - val_loss: 0.1694 - val_accuracy: 1.0000\n",
      "Epoch 79/100\n",
      "11/11 [==============================] - 0s 2ms/step - loss: 0.1726 - accuracy: 0.9972 - val_loss: 0.1686 - val_accuracy: 1.0000\n",
      "Epoch 80/100\n",
      "11/11 [==============================] - 0s 3ms/step - loss: 0.1718 - accuracy: 0.9972 - val_loss: 0.1678 - val_accuracy: 1.0000\n",
      "Epoch 81/100\n",
      "11/11 [==============================] - 0s 2ms/step - loss: 0.1710 - accuracy: 0.9972 - val_loss: 0.1671 - val_accuracy: 1.0000\n",
      "Epoch 82/100\n",
      "11/11 [==============================] - 0s 2ms/step - loss: 0.1702 - accuracy: 0.9972 - val_loss: 0.1663 - val_accuracy: 1.0000\n",
      "Epoch 83/100\n",
      "11/11 [==============================] - 0s 3ms/step - loss: 0.1694 - accuracy: 0.9972 - val_loss: 0.1655 - val_accuracy: 1.0000\n",
      "Epoch 84/100\n",
      "11/11 [==============================] - 0s 3ms/step - loss: 0.1686 - accuracy: 0.9972 - val_loss: 0.1648 - val_accuracy: 1.0000\n",
      "Epoch 85/100\n",
      "11/11 [==============================] - 0s 3ms/step - loss: 0.1679 - accuracy: 0.9972 - val_loss: 0.1641 - val_accuracy: 1.0000\n",
      "Epoch 86/100\n",
      "11/11 [==============================] - 0s 3ms/step - loss: 0.1671 - accuracy: 0.9972 - val_loss: 0.1633 - val_accuracy: 1.0000\n",
      "Epoch 87/100\n",
      "11/11 [==============================] - 0s 3ms/step - loss: 0.1664 - accuracy: 0.9972 - val_loss: 0.1627 - val_accuracy: 1.0000\n",
      "Epoch 88/100\n",
      "11/11 [==============================] - 0s 3ms/step - loss: 0.1657 - accuracy: 0.9972 - val_loss: 0.1620 - val_accuracy: 1.0000\n",
      "Epoch 89/100\n",
      "11/11 [==============================] - 0s 2ms/step - loss: 0.1651 - accuracy: 0.9972 - val_loss: 0.1614 - val_accuracy: 1.0000\n",
      "Epoch 90/100\n",
      "11/11 [==============================] - 0s 3ms/step - loss: 0.1644 - accuracy: 0.9972 - val_loss: 0.1608 - val_accuracy: 1.0000\n",
      "Epoch 91/100\n",
      "11/11 [==============================] - 0s 3ms/step - loss: 0.1638 - accuracy: 0.9972 - val_loss: 0.1602 - val_accuracy: 1.0000\n",
      "Epoch 92/100\n",
      "11/11 [==============================] - 0s 3ms/step - loss: 0.1632 - accuracy: 0.9972 - val_loss: 0.1595 - val_accuracy: 1.0000\n",
      "Epoch 93/100\n",
      "11/11 [==============================] - 0s 4ms/step - loss: 0.1626 - accuracy: 0.9972 - val_loss: 0.1590 - val_accuracy: 1.0000\n",
      "Epoch 94/100\n",
      "11/11 [==============================] - 0s 4ms/step - loss: 0.1620 - accuracy: 0.9972 - val_loss: 0.1584 - val_accuracy: 1.0000\n",
      "Epoch 95/100\n",
      "11/11 [==============================] - 0s 3ms/step - loss: 0.1615 - accuracy: 0.9972 - val_loss: 0.1578 - val_accuracy: 1.0000\n",
      "Epoch 96/100\n",
      "11/11 [==============================] - 0s 4ms/step - loss: 0.1608 - accuracy: 0.9972 - val_loss: 0.1572 - val_accuracy: 1.0000\n",
      "Epoch 97/100\n",
      "11/11 [==============================] - 0s 3ms/step - loss: 0.1603 - accuracy: 0.9972 - val_loss: 0.1567 - val_accuracy: 1.0000\n",
      "Epoch 98/100\n",
      "11/11 [==============================] - 0s 3ms/step - loss: 0.1597 - accuracy: 0.9972 - val_loss: 0.1561 - val_accuracy: 1.0000\n",
      "Epoch 99/100\n",
      "11/11 [==============================] - 0s 3ms/step - loss: 0.1592 - accuracy: 0.9972 - val_loss: 0.1556 - val_accuracy: 1.0000\n",
      "Epoch 100/100\n",
      "11/11 [==============================] - 0s 3ms/step - loss: 0.1586 - accuracy: 0.9972 - val_loss: 0.1550 - val_accuracy: 1.0000\n"
     ]
    }
   ],
   "source": [
    "history = tfmodel.fit(x, y.argmax(-1), epochs=100,\n",
    "            batch_size=bSize, validation_split = 0.2)"
   ]
  },
  {
   "cell_type": "markdown",
   "metadata": {},
   "source": [
    "have a look at the metrics"
   ]
  },
  {
   "cell_type": "code",
   "execution_count": 23,
   "metadata": {
    "scrolled": true
   },
   "outputs": [],
   "source": [
    "stats = history.history"
   ]
  },
  {
   "cell_type": "code",
   "execution_count": 24,
   "metadata": {},
   "outputs": [
    {
     "data": {
      "text/plain": [
       "Text(0,0.5,'Accuracy')"
      ]
     },
     "execution_count": 24,
     "metadata": {},
     "output_type": "execute_result"
    },
    {
     "data": {
      "image/png": "[encoded data removed]",
      "text/plain": [
       "<matplotlib.figure.Figure at 0x7fda46d5a390>"
      ]
     },
     "metadata": {
      "needs_background": "light"
     },
     "output_type": "display_data"
    }
   ],
   "source": [
    "plt.plot(np.arange(len(stats['accuracy']))+1, stats['accuracy'], color='red', label='train')\n",
    "plt.plot(np.arange(len(stats['val_accuracy']))+1, stats['val_accuracy'], color='blue', label='test')\n",
    "plt.legend(loc='best')\n",
    "plt.xlabel('Epochs')\n",
    "plt.ylabel('Accuracy')"
   ]
  },
  {
   "cell_type": "markdown",
   "metadata": {},
   "source": [
    "## Exercises\n",
    "\n",
    "Pen and Paper:\n",
    "1. Convince yourself of the equations in the slides. Add the missing indices?\n",
    "2. Compute $\\partial_j J$ for the crossentropy loss in the case of softmax and logistic in the last layer. Eq (28) and (32) in the slides.\n",
    "\n",
    "Deep Learning exercises:\n",
    "1. Implement more activation functions, such as leaky relu or tanh\n",
    "2. Use logistic/sigmoid in the last layer since we only have a 2 Classes classification problem.\n",
    "\n",
    "Physics exercises:\n",
    "1. Predict Hodge numbers; Data can be created with pyCICY package, but is also found in the github repository.\n",
    "    1. as Classification problem, with e.g. five classes being: $h^1 = {0,1,2,3,>3}$.\n",
    "    2. as Regression problem, $h^1 \\in \\mathbb{Z}_{\\ge 0}$. Reproduce results of Fabians paper."
   ]
  },
  {
   "cell_type": "markdown",
   "metadata": {},
   "source": [
    "## Hodge numbers of line bundles\n",
    "\n",
    "Hodge numbers of line bundles were one of the [first](https://arxiv.org/pdf/1706.07024.pdf) applications of ML techniques. Neural networks tend to have a harder time in regression problems and often do significantly better in classification problems. Thus, in [later](https://arxiv.org/pdf/1809.02547.pdf) [developments](https://arxiv.org/pdf/1906.08730.pdf) the focus was to identify polynomial cones of the hodge numbers.\n",
    "\n",
    "I've still got some data from our polynomial [paper](https://arxiv.org/pdf/1906.00392.pdf) where we used conventional curve fitting to identify the cones and their analytic expressions.\n",
    "\n",
    "You are welcome to use the data and reproduce these papers."
   ]
  },
  {
   "cell_type": "code",
   "execution_count": 25,
   "metadata": {},
   "outputs": [],
   "source": [
    "import pandas as pd"
   ]
  },
  {
   "cell_type": "code",
   "execution_count": 26,
   "metadata": {},
   "outputs": [
    {
     "data": {
      "text/html": [
       "<div>\n",
       "<style scoped>\n",
       "    .dataframe tbody tr th:only-of-type {\n",
       "        vertical-align: middle;\n",
       "    }\n",
       "\n",
       "    .dataframe tbody tr th {\n",
       "        vertical-align: top;\n",
       "    }\n",
       "\n",
       "    .dataframe thead th {\n",
       "        text-align: right;\n",
       "    }\n",
       "</style>\n",
       "<table border=\"1\" class=\"dataframe\">\n",
       "  <thead>\n",
       "    <tr style=\"text-align: right;\">\n",
       "      <th></th>\n",
       "      <th>m0</th>\n",
       "      <th>m1</th>\n",
       "      <th>h0</th>\n",
       "      <th>h1</th>\n",
       "      <th>h2</th>\n",
       "      <th>h3</th>\n",
       "    </tr>\n",
       "  </thead>\n",
       "  <tbody>\n",
       "    <tr>\n",
       "      <th>0</th>\n",
       "      <td>-10.0</td>\n",
       "      <td>-10.0</td>\n",
       "      <td>0.0</td>\n",
       "      <td>0.0</td>\n",
       "      <td>0.0</td>\n",
       "      <td>4060</td>\n",
       "    </tr>\n",
       "    <tr>\n",
       "      <th>1</th>\n",
       "      <td>-10.0</td>\n",
       "      <td>-9.0</td>\n",
       "      <td>0.0</td>\n",
       "      <td>0.0</td>\n",
       "      <td>0.0</td>\n",
       "      <td>3215</td>\n",
       "    </tr>\n",
       "    <tr>\n",
       "      <th>2</th>\n",
       "      <td>-10.0</td>\n",
       "      <td>-8.0</td>\n",
       "      <td>0.0</td>\n",
       "      <td>0.0</td>\n",
       "      <td>0.0</td>\n",
       "      <td>2484</td>\n",
       "    </tr>\n",
       "    <tr>\n",
       "      <th>3</th>\n",
       "      <td>-10.0</td>\n",
       "      <td>-7.0</td>\n",
       "      <td>0.0</td>\n",
       "      <td>0.0</td>\n",
       "      <td>0.0</td>\n",
       "      <td>1861</td>\n",
       "    </tr>\n",
       "    <tr>\n",
       "      <th>4</th>\n",
       "      <td>-10.0</td>\n",
       "      <td>-6.0</td>\n",
       "      <td>0.0</td>\n",
       "      <td>0.0</td>\n",
       "      <td>0.0</td>\n",
       "      <td>1340</td>\n",
       "    </tr>\n",
       "    <tr>\n",
       "      <th>...</th>\n",
       "      <td>...</td>\n",
       "      <td>...</td>\n",
       "      <td>...</td>\n",
       "      <td>...</td>\n",
       "      <td>...</td>\n",
       "      <td>...</td>\n",
       "    </tr>\n",
       "    <tr>\n",
       "      <th>436</th>\n",
       "      <td>10.0</td>\n",
       "      <td>6.0</td>\n",
       "      <td>1340.0</td>\n",
       "      <td>0.0</td>\n",
       "      <td>0.0</td>\n",
       "      <td>0</td>\n",
       "    </tr>\n",
       "    <tr>\n",
       "      <th>437</th>\n",
       "      <td>10.0</td>\n",
       "      <td>7.0</td>\n",
       "      <td>1861.0</td>\n",
       "      <td>0.0</td>\n",
       "      <td>0.0</td>\n",
       "      <td>0</td>\n",
       "    </tr>\n",
       "    <tr>\n",
       "      <th>438</th>\n",
       "      <td>10.0</td>\n",
       "      <td>8.0</td>\n",
       "      <td>2484.0</td>\n",
       "      <td>0.0</td>\n",
       "      <td>0.0</td>\n",
       "      <td>0</td>\n",
       "    </tr>\n",
       "    <tr>\n",
       "      <th>439</th>\n",
       "      <td>10.0</td>\n",
       "      <td>9.0</td>\n",
       "      <td>3215.0</td>\n",
       "      <td>0.0</td>\n",
       "      <td>0.0</td>\n",
       "      <td>0</td>\n",
       "    </tr>\n",
       "    <tr>\n",
       "      <th>440</th>\n",
       "      <td>10.0</td>\n",
       "      <td>10.0</td>\n",
       "      <td>4060.0</td>\n",
       "      <td>0.0</td>\n",
       "      <td>0.0</td>\n",
       "      <td>0</td>\n",
       "    </tr>\n",
       "  </tbody>\n",
       "</table>\n",
       "<p>441 rows × 6 columns</p>\n",
       "</div>"
      ],
      "text/plain": [
       "       m0    m1      h0   h1   h2    h3\n",
       "0   -10.0 -10.0     0.0  0.0  0.0  4060\n",
       "1   -10.0  -9.0     0.0  0.0  0.0  3215\n",
       "2   -10.0  -8.0     0.0  0.0  0.0  2484\n",
       "3   -10.0  -7.0     0.0  0.0  0.0  1861\n",
       "4   -10.0  -6.0     0.0  0.0  0.0  1340\n",
       "..    ...   ...     ...  ...  ...   ...\n",
       "436  10.0   6.0  1340.0  0.0  0.0     0\n",
       "437  10.0   7.0  1861.0  0.0  0.0     0\n",
       "438  10.0   8.0  2484.0  0.0  0.0     0\n",
       "439  10.0   9.0  3215.0  0.0  0.0     0\n",
       "440  10.0  10.0  4060.0  0.0  0.0     0\n",
       "\n",
       "[441 rows x 6 columns]"
      ]
     },
     "execution_count": 26,
     "metadata": {},
     "output_type": "execute_result"
    }
   ],
   "source": [
    "h7806 = pd.read_csv('data/hodge/7806.csv', sep=' ', index_col=0)\n",
    "h7806"
   ]
  },
  {
   "cell_type": "code",
   "execution_count": 27,
   "metadata": {},
   "outputs": [
    {
     "data": {
      "text/html": [
       "<div>\n",
       "<style scoped>\n",
       "    .dataframe tbody tr th:only-of-type {\n",
       "        vertical-align: middle;\n",
       "    }\n",
       "\n",
       "    .dataframe tbody tr th {\n",
       "        vertical-align: top;\n",
       "    }\n",
       "\n",
       "    .dataframe thead th {\n",
       "        text-align: right;\n",
       "    }\n",
       "</style>\n",
       "<table border=\"1\" class=\"dataframe\">\n",
       "  <thead>\n",
       "    <tr style=\"text-align: right;\">\n",
       "      <th></th>\n",
       "      <th>m0</th>\n",
       "      <th>m1</th>\n",
       "      <th>h0</th>\n",
       "      <th>h1</th>\n",
       "      <th>h2</th>\n",
       "      <th>h3</th>\n",
       "    </tr>\n",
       "  </thead>\n",
       "  <tbody>\n",
       "    <tr>\n",
       "      <th>0</th>\n",
       "      <td>-10.0</td>\n",
       "      <td>-10.0</td>\n",
       "      <td>0.0</td>\n",
       "      <td>0.0</td>\n",
       "      <td>0.0</td>\n",
       "      <td>3730</td>\n",
       "    </tr>\n",
       "    <tr>\n",
       "      <th>1</th>\n",
       "      <td>-10.0</td>\n",
       "      <td>-9.0</td>\n",
       "      <td>0.0</td>\n",
       "      <td>0.0</td>\n",
       "      <td>0.0</td>\n",
       "      <td>2975</td>\n",
       "    </tr>\n",
       "    <tr>\n",
       "      <th>2</th>\n",
       "      <td>-10.0</td>\n",
       "      <td>-8.0</td>\n",
       "      <td>0.0</td>\n",
       "      <td>0.0</td>\n",
       "      <td>0.0</td>\n",
       "      <td>2316</td>\n",
       "    </tr>\n",
       "    <tr>\n",
       "      <th>3</th>\n",
       "      <td>-10.0</td>\n",
       "      <td>-7.0</td>\n",
       "      <td>0.0</td>\n",
       "      <td>0.0</td>\n",
       "      <td>0.0</td>\n",
       "      <td>1749</td>\n",
       "    </tr>\n",
       "    <tr>\n",
       "      <th>4</th>\n",
       "      <td>-10.0</td>\n",
       "      <td>-6.0</td>\n",
       "      <td>0.0</td>\n",
       "      <td>0.0</td>\n",
       "      <td>0.0</td>\n",
       "      <td>1270</td>\n",
       "    </tr>\n",
       "    <tr>\n",
       "      <th>...</th>\n",
       "      <td>...</td>\n",
       "      <td>...</td>\n",
       "      <td>...</td>\n",
       "      <td>...</td>\n",
       "      <td>...</td>\n",
       "      <td>...</td>\n",
       "    </tr>\n",
       "    <tr>\n",
       "      <th>436</th>\n",
       "      <td>10.0</td>\n",
       "      <td>6.0</td>\n",
       "      <td>1270.0</td>\n",
       "      <td>0.0</td>\n",
       "      <td>0.0</td>\n",
       "      <td>0</td>\n",
       "    </tr>\n",
       "    <tr>\n",
       "      <th>437</th>\n",
       "      <td>10.0</td>\n",
       "      <td>7.0</td>\n",
       "      <td>1749.0</td>\n",
       "      <td>0.0</td>\n",
       "      <td>0.0</td>\n",
       "      <td>0</td>\n",
       "    </tr>\n",
       "    <tr>\n",
       "      <th>438</th>\n",
       "      <td>10.0</td>\n",
       "      <td>8.0</td>\n",
       "      <td>2316.0</td>\n",
       "      <td>0.0</td>\n",
       "      <td>0.0</td>\n",
       "      <td>0</td>\n",
       "    </tr>\n",
       "    <tr>\n",
       "      <th>439</th>\n",
       "      <td>10.0</td>\n",
       "      <td>9.0</td>\n",
       "      <td>2975.0</td>\n",
       "      <td>0.0</td>\n",
       "      <td>0.0</td>\n",
       "      <td>0</td>\n",
       "    </tr>\n",
       "    <tr>\n",
       "      <th>440</th>\n",
       "      <td>10.0</td>\n",
       "      <td>10.0</td>\n",
       "      <td>3730.0</td>\n",
       "      <td>0.0</td>\n",
       "      <td>0.0</td>\n",
       "      <td>0</td>\n",
       "    </tr>\n",
       "  </tbody>\n",
       "</table>\n",
       "<p>441 rows × 6 columns</p>\n",
       "</div>"
      ],
      "text/plain": [
       "       m0    m1      h0   h1   h2    h3\n",
       "0   -10.0 -10.0     0.0  0.0  0.0  3730\n",
       "1   -10.0  -9.0     0.0  0.0  0.0  2975\n",
       "2   -10.0  -8.0     0.0  0.0  0.0  2316\n",
       "3   -10.0  -7.0     0.0  0.0  0.0  1749\n",
       "4   -10.0  -6.0     0.0  0.0  0.0  1270\n",
       "..    ...   ...     ...  ...  ...   ...\n",
       "436  10.0   6.0  1270.0  0.0  0.0     0\n",
       "437  10.0   7.0  1749.0  0.0  0.0     0\n",
       "438  10.0   8.0  2316.0  0.0  0.0     0\n",
       "439  10.0   9.0  2975.0  0.0  0.0     0\n",
       "440  10.0  10.0  3730.0  0.0  0.0     0\n",
       "\n",
       "[441 rows x 6 columns]"
      ]
     },
     "execution_count": 27,
     "metadata": {},
     "output_type": "execute_result"
    }
   ],
   "source": [
    "h7882 = pd.read_csv('data/hodge/7882.csv', sep=' ', index_col=0)\n",
    "h7882"
   ]
  }
 ],
 "metadata": {
  "kernelspec": {
   "display_name": "Python 3",
   "language": "python",
   "name": "python3"
  },
  "language_info": {
   "codemirror_mode": {
    "name": "ipython",
    "version": 3
   },
   "file_extension": ".py",
   "mimetype": "text/x-python",
   "name": "python",
   "nbconvert_exporter": "python",
   "pygments_lexer": "ipython3",
   "version": "3.6.7"
  }
 },
 "nbformat": 4,
 "nbformat_minor": 4
}
